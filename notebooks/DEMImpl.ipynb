{
 "cells": [
  {
   "cell_type": "code",
   "execution_count": 22,
   "id": "fd285b7c",
   "metadata": {},
   "outputs": [],
   "source": [
    "import torch \n",
    "import numpy as np"
   ]
  },
  {
   "cell_type": "code",
   "execution_count": 23,
   "id": "d05ee1ad",
   "metadata": {},
   "outputs": [],
   "source": [
    "np.random.seed(42)\n",
    "nl = 5\n",
    "ls = [np.random.randint(1,10) for i in range(l)]\n",
    "ns = [np.random.randint(1,10) for i in range(l)]\n",
    "n = 4\n",
    "d = 3"
   ]
  },
  {
   "cell_type": "code",
   "execution_count": 106,
   "id": "9315741f",
   "metadata": {},
   "outputs": [
    {
     "data": {
      "text/plain": [
       "tensor([], size=(0, 1))"
      ]
     },
     "execution_count": 106,
     "metadata": {},
     "output_type": "execute_result"
    }
   ],
   "source": [
    "torch.zeros((0,1))"
   ]
  },
  {
   "cell_type": "code",
   "execution_count": 110,
   "id": "0b318055",
   "metadata": {},
   "outputs": [
    {
     "data": {
      "text/plain": [
       "4"
      ]
     },
     "execution_count": 110,
     "metadata": {},
     "output_type": "execute_result"
    }
   ],
   "source": [
    "[*range(5)][-1]"
   ]
  },
  {
   "cell_type": "code",
   "execution_count": 115,
   "id": "4175074e",
   "metadata": {},
   "outputs": [
    {
     "data": {
      "text/plain": [
       "0"
      ]
     },
     "execution_count": 115,
     "metadata": {},
     "output_type": "execute_result"
    }
   ],
   "source": [
    "len(torch.Tensor())"
   ]
  },
  {
   "cell_type": "code",
   "execution_count": 59,
   "id": "9eab7c50",
   "metadata": {},
   "outputs": [],
   "source": [
    "\n",
    "\n",
    "class dotdict(dict):\n",
    "    \"\"\"dot.notation access to dictionary attributes\"\"\"\n",
    "    __getattr__ = dict.__getitem__\n",
    "    __setattr__ = dict.__setitem__\n",
    "    __delattr__ = dict.__delitem__\n",
    "\n"
   ]
  },
  {
   "cell_type": "code",
   "execution_count": 26,
   "id": "ae876ae0",
   "metadata": {},
   "outputs": [],
   "source": [
    "v0, w0 = [], []\n",
    "for i in range(nl):\n",
    "    v0.append(torch.zeros(ls[i], ls[i]))\n",
    "    w0.append(torch.zeros(ns[i], ns[i]))    \n",
    "V0 = torch.kron(torch.zeros(n,n), torch.block_diag(*v0))\n",
    "W0 = torch.kron(torch.zeros(n,n), torch.block_diag(*w0))\n",
    "Qp = torch.block_diag(V0, W0)"
   ]
  },
  {
   "cell_type": "code",
   "execution_count": 37,
   "id": "c478ae78",
   "metadata": {},
   "outputs": [
    {
     "data": {
      "text/plain": [
       "[tensor([[0., 0., 0., 0., 0., 0., 0.],\n",
       "         [0., 0., 0., 0., 0., 0., 0.],\n",
       "         [0., 0., 0., 0., 0., 0., 0.],\n",
       "         [0., 0., 0., 0., 0., 0., 0.],\n",
       "         [0., 0., 0., 0., 0., 0., 0.],\n",
       "         [0., 0., 0., 0., 0., 0., 0.],\n",
       "         [0., 0., 0., 0., 0., 0., 0.]]),\n",
       " tensor([[0., 0., 0., 0.],\n",
       "         [0., 0., 0., 0.],\n",
       "         [0., 0., 0., 0.],\n",
       "         [0., 0., 0., 0.]]),\n",
       " tensor([[0., 0., 0., 0., 0., 0., 0., 0.],\n",
       "         [0., 0., 0., 0., 0., 0., 0., 0.],\n",
       "         [0., 0., 0., 0., 0., 0., 0., 0.],\n",
       "         [0., 0., 0., 0., 0., 0., 0., 0.],\n",
       "         [0., 0., 0., 0., 0., 0., 0., 0.],\n",
       "         [0., 0., 0., 0., 0., 0., 0., 0.],\n",
       "         [0., 0., 0., 0., 0., 0., 0., 0.],\n",
       "         [0., 0., 0., 0., 0., 0., 0., 0.]]),\n",
       " tensor([[0., 0., 0., 0., 0.],\n",
       "         [0., 0., 0., 0., 0.],\n",
       "         [0., 0., 0., 0., 0.],\n",
       "         [0., 0., 0., 0., 0.],\n",
       "         [0., 0., 0., 0., 0.]]),\n",
       " tensor([[0., 0., 0., 0., 0., 0., 0.],\n",
       "         [0., 0., 0., 0., 0., 0., 0.],\n",
       "         [0., 0., 0., 0., 0., 0., 0.],\n",
       "         [0., 0., 0., 0., 0., 0., 0.],\n",
       "         [0., 0., 0., 0., 0., 0., 0.],\n",
       "         [0., 0., 0., 0., 0., 0., 0.],\n",
       "         [0., 0., 0., 0., 0., 0., 0.]])]"
      ]
     },
     "execution_count": 37,
     "metadata": {},
     "output_type": "execute_result"
    }
   ],
   "source": [
    "v0 = (torch.zeros(ls[i], ls[i]) for i in range(nl))\n",
    "[*v0]"
   ]
  },
  {
   "cell_type": "code",
   "execution_count": 48,
   "id": "c6bda359",
   "metadata": {},
   "outputs": [
    {
     "data": {
      "text/plain": [
       "torch.return_types.linalg_svd(\n",
       "U=tensor([[1., 0., 0., 0., 0., 0., 0., 0., 0., 0.],\n",
       "        [0., 1., 0., 0., 0., 0., 0., 0., 0., 0.],\n",
       "        [0., 0., 1., 0., 0., 0., 0., 0., 0., 0.],\n",
       "        [0., 0., 0., 1., 0., 0., 0., 0., 0., 0.],\n",
       "        [0., 0., 0., 0., 1., 0., 0., 0., 0., 0.],\n",
       "        [0., 0., 0., 0., 0., 1., 0., 0., 0., 0.],\n",
       "        [0., 0., 0., 0., 0., 0., 1., 0., 0., 0.],\n",
       "        [0., 0., 0., 0., 0., 0., 0., 1., 0., 0.],\n",
       "        [0., 0., 0., 0., 0., 0., 0., 0., 1., 0.],\n",
       "        [0., 0., 0., 0., 0., 0., 0., 0., 0., 1.]]),\n",
       "S=tensor([1., 1., 1., 1., 1., 1., 1., 1., 1., 1.]),\n",
       "Vh=tensor([[1., 0., 0., 0., 0., 0., 0., 0., 0., 0.],\n",
       "        [0., 1., 0., 0., 0., 0., 0., 0., 0., 0.],\n",
       "        [0., 0., 1., 0., 0., 0., 0., 0., 0., 0.],\n",
       "        [0., 0., 0., 1., 0., 0., 0., 0., 0., 0.],\n",
       "        [0., 0., 0., 0., 1., 0., 0., 0., 0., 0.],\n",
       "        [0., 0., 0., 0., 0., 1., 0., 0., 0., 0.],\n",
       "        [0., 0., 0., 0., 0., 0., 1., 0., 0., 0.],\n",
       "        [0., 0., 0., 0., 0., 0., 0., 1., 0., 0.],\n",
       "        [0., 0., 0., 0., 0., 0., 0., 0., 1., 0.],\n",
       "        [0., 0., 0., 0., 0., 0., 0., 0., 0., 1.]]))"
      ]
     },
     "execution_count": 48,
     "metadata": {},
     "output_type": "execute_result"
    }
   ],
   "source": [
    "torch.linalg.svd(torch.eye(10))"
   ]
  },
  {
   "cell_type": "code",
   "execution_count": 58,
   "id": "9eae9b1a",
   "metadata": {},
   "outputs": [],
   "source": [
    "dict().get('P')"
   ]
  },
  {
   "cell_type": "code",
   "execution_count": 60,
   "id": "4b510c4d",
   "metadata": {},
   "outputs": [
    {
     "ename": "KeyError",
     "evalue": "'P'",
     "output_type": "error",
     "traceback": [
      "\u001b[0;31m---------------------------------------------------------------------------\u001b[0m",
      "\u001b[0;31mKeyError\u001b[0m                                  Traceback (most recent call last)",
      "\u001b[0;32m<ipython-input-60-15ea55d44c56>\u001b[0m in \u001b[0;36m<module>\u001b[0;34m\u001b[0m\n\u001b[1;32m      1\u001b[0m \u001b[0mM\u001b[0m \u001b[0;34m=\u001b[0m \u001b[0mdotdict\u001b[0m\u001b[0;34m(\u001b[0m\u001b[0;34m)\u001b[0m\u001b[0;34m\u001b[0m\u001b[0;34m\u001b[0m\u001b[0m\n\u001b[0;32m----> 2\u001b[0;31m \u001b[0ma\u001b[0m \u001b[0;34m=\u001b[0m \u001b[0mM\u001b[0m\u001b[0;34m.\u001b[0m\u001b[0mP\u001b[0m\u001b[0;34m\u001b[0m\u001b[0;34m\u001b[0m\u001b[0m\n\u001b[0m",
      "\u001b[0;31mKeyError\u001b[0m: 'P'"
     ]
    }
   ],
   "source": [
    "M = dotdict()\n",
    "a = M.P"
   ]
  },
  {
   "cell_type": "code",
   "execution_count": 72,
   "id": "08be8e06",
   "metadata": {},
   "outputs": [
    {
     "data": {
      "text/plain": [
       "inf"
      ]
     },
     "execution_count": 72,
     "metadata": {},
     "output_type": "execute_result"
    }
   ],
   "source": [
    "float('inf')"
   ]
  },
  {
   "cell_type": "code",
   "execution_count": 73,
   "id": "25ca4111",
   "metadata": {},
   "outputs": [
    {
     "data": {
      "text/plain": [
       "tensor([[0., 0., 0., 1., 0., 0., 0., 0., 0., 0., 0., 0., 0., 0., 0.],\n",
       "        [0., 0., 0., 0., 1., 0., 0., 0., 0., 0., 0., 0., 0., 0., 0.],\n",
       "        [0., 0., 0., 0., 0., 1., 0., 0., 0., 0., 0., 0., 0., 0., 0.],\n",
       "        [0., 0., 0., 0., 0., 0., 1., 0., 0., 0., 0., 0., 0., 0., 0.],\n",
       "        [0., 0., 0., 0., 0., 0., 0., 1., 0., 0., 0., 0., 0., 0., 0.],\n",
       "        [0., 0., 0., 0., 0., 0., 0., 0., 1., 0., 0., 0., 0., 0., 0.],\n",
       "        [0., 0., 0., 0., 0., 0., 0., 0., 0., 1., 0., 0., 0., 0., 0.],\n",
       "        [0., 0., 0., 0., 0., 0., 0., 0., 0., 0., 1., 0., 0., 0., 0.],\n",
       "        [0., 0., 0., 0., 0., 0., 0., 0., 0., 0., 0., 1., 0., 0., 0.],\n",
       "        [0., 0., 0., 0., 0., 0., 0., 0., 0., 0., 0., 0., 1., 0., 0.],\n",
       "        [0., 0., 0., 0., 0., 0., 0., 0., 0., 0., 0., 0., 0., 1., 0.],\n",
       "        [0., 0., 0., 0., 0., 0., 0., 0., 0., 0., 0., 0., 0., 0., 1.],\n",
       "        [0., 0., 0., 0., 0., 0., 0., 0., 0., 0., 0., 0., 0., 0., 0.],\n",
       "        [0., 0., 0., 0., 0., 0., 0., 0., 0., 0., 0., 0., 0., 0., 0.],\n",
       "        [0., 0., 0., 0., 0., 0., 0., 0., 0., 0., 0., 0., 0., 0., 0.]])"
      ]
     },
     "execution_count": 73,
     "metadata": {},
     "output_type": "execute_result"
    }
   ],
   "source": [
    "n = 5\n",
    "nx = 3\n",
    "torch.kron(torch.diag(torch.ones(n-1), 1), torch.eye(nx))"
   ]
  },
  {
   "cell_type": "code",
   "execution_count": 41,
   "id": "8bae1be5",
   "metadata": {},
   "outputs": [
    {
     "data": {
      "text/plain": [
       "tensor([[0.],\n",
       "        [0.],\n",
       "        [0.],\n",
       "        [0.],\n",
       "        [0.]])"
      ]
     },
     "execution_count": 41,
     "metadata": {},
     "output_type": "execute_result"
    }
   ],
   "source": [
    "torch.cat(list(torch.zeros(1, 1) for i in range(5)))"
   ]
  },
  {
   "cell_type": "code",
   "execution_count": 33,
   "id": "13d339a8",
   "metadata": {},
   "outputs": [
    {
     "data": {
      "text/plain": [
       "torch.Size([108, 108])"
      ]
     },
     "execution_count": 33,
     "metadata": {},
     "output_type": "execute_result"
    }
   ],
   "source": [
    "sum(ls) * n\n",
    "sum(ns) * n\n",
    "W0.shape"
   ]
  },
  {
   "cell_type": "code",
   "execution_count": 77,
   "id": "9c9cc0d4",
   "metadata": {},
   "outputs": [
    {
     "data": {
      "text/plain": [
       "array([108., 108.])"
      ]
     },
     "execution_count": 77,
     "metadata": {},
     "output_type": "execute_result"
    }
   ],
   "source": [
    "m = np.zeros(2)\n",
    "m[:] = W0.shape\n",
    "m"
   ]
  },
  {
   "cell_type": "code",
   "execution_count": 103,
   "id": "88443b09",
   "metadata": {},
   "outputs": [],
   "source": [
    "def block_matrix(nested_lists): \n",
    "    # a is a list of list [[[], [], tensor], [[], tensor, []]]\n",
    "    # row and column size must be similar\n",
    "    sizes = np.zeros((len(nested_lists), len(nested_lists[0]), 2))\n",
    "    for i, row in enumerate(nested_lists): \n",
    "        for j, e in enumerate(row): \n",
    "            sizes[i, j, :] = e.shape if len(e) > 0 else (0, 0)\n",
    "    row_sizes = sizes.max(1)[:, 0].astype(int)\n",
    "    col_sizes = sizes.max(0)[:, 1].astype(int)\n",
    "    \n",
    "    arr = []\n",
    "    for i, row in enumerate(nested_lists): \n",
    "        arr_row = []\n",
    "        for j, e in enumerate(row): \n",
    "            if len(e) > 0: \n",
    "                arr_row.append(e)\n",
    "            else: \n",
    "                arr_row.append(np.zeros((row_sizes[i], col_sizes[j])))\n",
    "        print([_.shape for _ in arr_row])\n",
    "        arr.append(np.concatenate(arr_row, axis=1))\n",
    "    return np.concatenate(arr, axis=0)"
   ]
  },
  {
   "cell_type": "code",
   "execution_count": 105,
   "id": "8379e2d0",
   "metadata": {},
   "outputs": [
    {
     "name": "stdout",
     "output_type": "stream",
     "text": [
      "[(3, 2), (3, 3), (3, 1)]\n",
      "[(4, 2), (4, 3), (4, 1)]\n"
     ]
    },
    {
     "data": {
      "text/plain": [
       "tensor([[0., 0., 1., 0., 0., 0.],\n",
       "        [0., 0., 0., 1., 0., 0.],\n",
       "        [0., 0., 0., 0., 1., 0.],\n",
       "        [1., 1., 0., 0., 0., 1.],\n",
       "        [1., 1., 0., 0., 0., 1.],\n",
       "        [1., 1., 0., 0., 0., 1.],\n",
       "        [1., 1., 0., 0., 0., 1.]], dtype=torch.float64)"
      ]
     },
     "execution_count": 105,
     "metadata": {},
     "output_type": "execute_result"
    }
   ],
   "source": [
    "torch.tensor(block_matrix([[[], np.eye(3), []], \n",
    "              [np.ones((4, 2)), [], np.ones((4,1))]]))"
   ]
  },
  {
   "cell_type": "code",
   "execution_count": null,
   "id": "9b97759c",
   "metadata": {},
   "outputs": [],
   "source": [
    " def to_generalized_coordinates(self, series): \n",
    "        \"\"\" series: torch tensor (n_batchs, n_times, dim) \n",
    "            inspired from spm_DEM_embed.m\n",
    "            series_generalized = T * [series[t-order/2], dots, series[t+order/2]]\n",
    "        \"\"\"\n",
    "        n_batchs, n_times, dim = series.shape\n",
    "        p = self._order\n",
    "\n",
    "        E = torch.zeros((p + 1, p + 1))\n",
    "        times = torch.arange(n_times)\n",
    "\n",
    "        # Create E_ij(t) (note that indices start at 0) \n",
    "        for i in range(p + 1): \n",
    "            for j in range(p + 1): \n",
    "                E[i, j] = (i + 1 - int((p + 1) / 2))**(j) / np.math.factorial(j) \n",
    "\n",
    "        # Compute T\n",
    "        T = torch.linalg.inv(E)\n",
    "\n",
    "        # Compute the slices\n",
    "        slices = []\n",
    "        for t in times: \n",
    "            start = int(t - (p + 1) / 2)\n",
    "            end = start + p + 1\n",
    "            if start < 0: \n",
    "                slices.append(slice(0, p + 1))\n",
    "            elif end > n_times:\n",
    "                slices.append(slice(n_times - (p + 1), n_times))\n",
    "            else: \n",
    "                slices.append(slice(start, end))\n",
    "\n",
    "        series_slices = torch.stack([series[:, _slice] for _slice in slices], dim=1)\n",
    "\n",
    "        # series_slices is (n_batchs, n_times, order + 1, dim)\n",
    "        # T is ( order+1, order+1)\n",
    "        generalized_coordinates = torch.einsum('ijkl,mk->ijlm', series_slices, T)\n",
    "\n",
    "\n",
    "        return generalized_coordinates"
   ]
  }
 ],
 "metadata": {
  "kernelspec": {
   "display_name": "Python 3",
   "language": "python",
   "name": "python3"
  },
  "language_info": {
   "codemirror_mode": {
    "name": "ipython",
    "version": 3
   },
   "file_extension": ".py",
   "mimetype": "text/x-python",
   "name": "python",
   "nbconvert_exporter": "python",
   "pygments_lexer": "ipython3",
   "version": "3.8.10"
  }
 },
 "nbformat": 4,
 "nbformat_minor": 5
}
