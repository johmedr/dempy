{
 "cells": [
  {
   "cell_type": "code",
   "execution_count": 1,
   "id": "6858313c",
   "metadata": {},
   "outputs": [],
   "source": [
    "import numpy as np\n",
    "import symengine as si\n",
    "import plotly.express as px\n",
    "import plotly.graph_objects as go\n",
    "\n",
    "from plotly.subplots import make_subplots\n",
    "from torchkf import *"
   ]
  },
  {
   "cell_type": "code",
   "execution_count": 2,
   "id": "c030b72a",
   "metadata": {},
   "outputs": [],
   "source": [
    "def make_layer(m, l, n, *args, **kwargs): \n",
    "    A  = np.random.randn(n, n)\n",
    "    A  = (A - A.T) / (2 * 10)\n",
    "    B  = np.random.randn(n, m)\n",
    "    C  = np.random.randn(l, n)\n",
    "    D  = np.random.randn(l, m)\n",
    "    ia = np.arange(A.size)\n",
    "    ib = np.arange(B.size) + ia[-1] + 1\n",
    "    ic = np.arange(C.size) + ib[-1] + 1\n",
    "    id = np.arange(D.size) + ic[-1] + 1\n",
    "    \n",
    "    pE = np.concatenate([A.flat, B.flat, C.flat, D.flat])\n",
    "    \n",
    "    def f(x, v, p): \n",
    "        x = x.reshape((n, 1))\n",
    "        v = v.reshape((m, 1))\n",
    "        p = p.reshape((-1,))\n",
    "        A = p[ia].reshape((n, n))\n",
    "        B = p[ib].reshape((n, m))\n",
    "        return (A @ x).reshape((n, 1)) + (B @ v).reshape((n, 1))\n",
    "    \n",
    "    def g(x, v, p): \n",
    "        x = x.reshape((n, 1))\n",
    "        v = v.reshape((m, 1))\n",
    "        p = p.reshape((-1,))\n",
    "        C = p[ic].reshape((l, n))\n",
    "        D = p[id].reshape((l, m))\n",
    "        return (C @ x).reshape((l, 1)) + (D @ v).reshape((l, 1))\n",
    "    \n",
    "    s = GaussianModel(\n",
    "        n=n, l=l, m=m, \n",
    "        fsymb=f, gsymb=g, \n",
    "        pE=pE, pC=np.exp(32)\n",
    "    )\n",
    "    return s"
   ]
  },
  {
   "cell_type": "code",
   "execution_count": 3,
   "id": "4ec8b52c",
   "metadata": {},
   "outputs": [
    {
     "name": "stdout",
     "output_type": "stream",
     "text": [
      "Compiling derivatives, it might take some time... \n",
      "  Compiling f... f() ok. (compiled in 0.07s)\n",
      "  Compiling g... g() ok. (compiled in 0.02s)\n",
      "Done. \n",
      "Compiling derivatives, it might take some time... \n",
      "  Compiling f... f() ok. (compiled in 0.04s)\n",
      "  Compiling g... g() ok. (compiled in 0.01s)\n",
      "Done. \n"
     ]
    }
   ],
   "source": [
    "model = HierarchicalGaussianModel(make_layer(3, 1, 5), make_layer(1, 3, 5), dt=0.1)"
   ]
  },
  {
   "cell_type": "code",
   "execution_count": 4,
   "id": "0b7ab838",
   "metadata": {},
   "outputs": [
    {
     "data": {
      "application/vnd.jupyter.widget-view+json": {
       "model_id": "176d8087ad5d4f14932189931ee4815e",
       "version_major": 2,
       "version_minor": 0
      },
      "text/plain": [
       "  0%|          | 0/30 [00:00<?, ?it/s]"
      ]
     },
     "metadata": {},
     "output_type": "display_data"
    }
   ],
   "source": [
    "res = DEMInversion(model).generate(30)\n",
    "# px.line(y=[*res.x[:, 0, :, 0].T])"
   ]
  },
  {
   "cell_type": "code",
   "execution_count": 5,
   "id": "d0e190f9",
   "metadata": {},
   "outputs": [
    {
     "data": {
      "text/plain": [
       "(5, 5, 48)"
      ]
     },
     "execution_count": 5,
     "metadata": {},
     "output_type": "execute_result"
    }
   ],
   "source": [
    "model[0].d2f(model[0].x, model[1].v, model[0].pE).dx.dp.shape"
   ]
  },
  {
   "cell_type": "code",
   "execution_count": 6,
   "id": "b8d24487",
   "metadata": {},
   "outputs": [
    {
     "data": {
      "text/plain": [
       "(48, (48, 1))"
      ]
     },
     "execution_count": 6,
     "metadata": {},
     "output_type": "execute_result"
    }
   ],
   "source": [
    "model[1].p, model[1].pE.shape"
   ]
  },
  {
   "cell_type": "code",
   "execution_count": 7,
   "id": "48e02359",
   "metadata": {},
   "outputs": [
    {
     "data": {
      "application/vnd.jupyter.widget-view+json": {
       "model_id": "d9c3f36138d1467eb135613f3e4b8642",
       "version_major": 2,
       "version_minor": 0
      },
      "text/plain": [
       "E-step (F = -inf):   0%|          | 0/8 [00:00<?, ?it/s]"
      ]
     },
     "metadata": {},
     "output_type": "display_data"
    },
    {
     "data": {
      "application/vnd.jupyter.widget-view+json": {
       "model_id": "066f9695722e40e1b5bace83879807d0",
       "version_major": 2,
       "version_minor": 0
      },
      "text/plain": [
       "timestep:   0%|          | 0/100 [00:00<?, ?it/s]"
      ]
     },
     "metadata": {},
     "output_type": "display_data"
    },
    {
     "ename": "KeyboardInterrupt",
     "evalue": "",
     "output_type": "error",
     "traceback": [
      "\u001b[0;31m---------------------------------------------------------------------------\u001b[0m",
      "\u001b[0;31mKeyboardInterrupt\u001b[0m                         Traceback (most recent call last)",
      "\u001b[0;32m<ipython-input-7-ea89110c4724>\u001b[0m in \u001b[0;36m<module>\u001b[0;34m\u001b[0m\n\u001b[1;32m      1\u001b[0m \u001b[0mt\u001b[0m \u001b[0;34m=\u001b[0m \u001b[0mnp\u001b[0m\u001b[0;34m.\u001b[0m\u001b[0mlinspace\u001b[0m\u001b[0;34m(\u001b[0m\u001b[0;36m0\u001b[0m\u001b[0;34m,\u001b[0m \u001b[0;36m10\u001b[0m\u001b[0;34m,\u001b[0m \u001b[0;36m100\u001b[0m\u001b[0;34m)\u001b[0m\u001b[0;34m\u001b[0m\u001b[0;34m\u001b[0m\u001b[0m\n\u001b[1;32m      2\u001b[0m \u001b[0my\u001b[0m \u001b[0;34m=\u001b[0m \u001b[0mnp\u001b[0m\u001b[0;34m.\u001b[0m\u001b[0msin\u001b[0m\u001b[0;34m(\u001b[0m\u001b[0;36m2\u001b[0m \u001b[0;34m*\u001b[0m \u001b[0mnp\u001b[0m\u001b[0;34m.\u001b[0m\u001b[0mpi\u001b[0m \u001b[0;34m*\u001b[0m \u001b[0;36m5\u001b[0m \u001b[0;34m*\u001b[0m \u001b[0mt\u001b[0m\u001b[0;34m)\u001b[0m\u001b[0;34m[\u001b[0m\u001b[0;34m:\u001b[0m\u001b[0;34m,\u001b[0m \u001b[0;32mNone\u001b[0m\u001b[0;34m]\u001b[0m\u001b[0;34m\u001b[0m\u001b[0;34m\u001b[0m\u001b[0m\n\u001b[0;32m----> 3\u001b[0;31m \u001b[0mDEMInversion\u001b[0m\u001b[0;34m(\u001b[0m\u001b[0mmodel\u001b[0m\u001b[0;34m)\u001b[0m\u001b[0;34m.\u001b[0m\u001b[0mrun\u001b[0m\u001b[0;34m(\u001b[0m\u001b[0my\u001b[0m\u001b[0;34m,\u001b[0m \u001b[0mEmin\u001b[0m\u001b[0;34m=\u001b[0m\u001b[0;36m5\u001b[0m\u001b[0;34m)\u001b[0m\u001b[0;34m\u001b[0m\u001b[0;34m\u001b[0m\u001b[0m\n\u001b[0m",
      "\u001b[0;32m~/prog/python/torch-kf/torchkf/dem.py\u001b[0m in \u001b[0;36mrun\u001b[0;34m(self, y, u, x, nD, nE, nM, K, tol, td, Emin, Mmin)\u001b[0m\n\u001b[1;32m    452\u001b[0m                     \u001b[0;31m# E = v - g(x,v) and derivatives dE.dx\u001b[0m\u001b[0;34m\u001b[0m\u001b[0;34m\u001b[0m\u001b[0;34m\u001b[0m\u001b[0m\n\u001b[1;32m    453\u001b[0m                     \u001b[0;31m# ====================================\u001b[0m\u001b[0;34m\u001b[0m\u001b[0;34m\u001b[0m\u001b[0;34m\u001b[0m\u001b[0m\n\u001b[0;32m--> 454\u001b[0;31m                     \u001b[0mE\u001b[0m\u001b[0;34m,\u001b[0m \u001b[0mdE\u001b[0m \u001b[0;34m=\u001b[0m \u001b[0mdem_eval_err_diff\u001b[0m\u001b[0;34m(\u001b[0m\u001b[0mn\u001b[0m\u001b[0;34m,\u001b[0m \u001b[0md\u001b[0m\u001b[0;34m,\u001b[0m \u001b[0mM\u001b[0m\u001b[0;34m,\u001b[0m \u001b[0mqu\u001b[0m\u001b[0;34m,\u001b[0m \u001b[0mqp\u001b[0m\u001b[0;34m)\u001b[0m\u001b[0;34m\u001b[0m\u001b[0;34m\u001b[0m\u001b[0m\n\u001b[0m\u001b[1;32m    455\u001b[0m \u001b[0;34m\u001b[0m\u001b[0m\n\u001b[1;32m    456\u001b[0m                     \u001b[0;31m# conditional covariance [of states u]\u001b[0m\u001b[0;34m\u001b[0m\u001b[0;34m\u001b[0m\u001b[0;34m\u001b[0m\u001b[0m\n",
      "\u001b[0;32m~/prog/python/torch-kf/torchkf/dem_de.py\u001b[0m in \u001b[0;36mdem_eval_err_diff\u001b[0;34m(n, d, M, qu, qp)\u001b[0m\n\u001b[1;32m     98\u001b[0m         \u001b[0md2gi\u001b[0m\u001b[0;34m.\u001b[0m\u001b[0mdp\u001b[0m\u001b[0;34m.\u001b[0m\u001b[0mdv\u001b[0m \u001b[0;34m=\u001b[0m \u001b[0md2gi\u001b[0m\u001b[0;34m.\u001b[0m\u001b[0mdv\u001b[0m\u001b[0;34m.\u001b[0m\u001b[0mdp\u001b[0m\u001b[0;34m.\u001b[0m\u001b[0mswapaxes\u001b[0m\u001b[0;34m(\u001b[0m\u001b[0;36m1\u001b[0m\u001b[0;34m,\u001b[0m \u001b[0;36m2\u001b[0m\u001b[0;34m)\u001b[0m\u001b[0;34m\u001b[0m\u001b[0;34m\u001b[0m\u001b[0m\n\u001b[1;32m     99\u001b[0m \u001b[0;34m\u001b[0m\u001b[0m\n\u001b[0;32m--> 100\u001b[0;31m         \u001b[0md2gi\u001b[0m\u001b[0;34m.\u001b[0m\u001b[0mdp\u001b[0m\u001b[0;34m.\u001b[0m\u001b[0mdp\u001b[0m \u001b[0;34m=\u001b[0m \u001b[0mnp\u001b[0m\u001b[0;34m.\u001b[0m\u001b[0meinsum\u001b[0m\u001b[0;34m(\u001b[0m\u001b[0;34m'ik,aij,jl->akl'\u001b[0m\u001b[0;34m,\u001b[0m \u001b[0mu\u001b[0m\u001b[0;34m,\u001b[0m \u001b[0md2gi\u001b[0m\u001b[0;34m.\u001b[0m\u001b[0mdp\u001b[0m\u001b[0;34m.\u001b[0m\u001b[0mdp\u001b[0m\u001b[0;34m,\u001b[0m \u001b[0mu\u001b[0m\u001b[0;34m)\u001b[0m\u001b[0;34m\u001b[0m\u001b[0;34m\u001b[0m\u001b[0m\n\u001b[0m\u001b[1;32m    101\u001b[0m \u001b[0;34m\u001b[0m\u001b[0m\n\u001b[1;32m    102\u001b[0m         \u001b[0mdg\u001b[0m\u001b[0;34m.\u001b[0m\u001b[0mappend\u001b[0m\u001b[0;34m(\u001b[0m\u001b[0mdgi\u001b[0m\u001b[0;34m)\u001b[0m\u001b[0;34m\u001b[0m\u001b[0;34m\u001b[0m\u001b[0m\n",
      "\u001b[0;32m<__array_function__ internals>\u001b[0m in \u001b[0;36meinsum\u001b[0;34m(*args, **kwargs)\u001b[0m\n",
      "\u001b[0;32m~/anaconda3/envs/bcirob/lib/python3.8/site-packages/numpy/core/einsumfunc.py\u001b[0m in \u001b[0;36meinsum\u001b[0;34m(out, optimize, *operands, **kwargs)\u001b[0m\n\u001b[1;32m   1357\u001b[0m         \u001b[0;32mif\u001b[0m \u001b[0mspecified_out\u001b[0m\u001b[0;34m:\u001b[0m\u001b[0;34m\u001b[0m\u001b[0;34m\u001b[0m\u001b[0m\n\u001b[1;32m   1358\u001b[0m             \u001b[0mkwargs\u001b[0m\u001b[0;34m[\u001b[0m\u001b[0;34m'out'\u001b[0m\u001b[0;34m]\u001b[0m \u001b[0;34m=\u001b[0m \u001b[0mout\u001b[0m\u001b[0;34m\u001b[0m\u001b[0;34m\u001b[0m\u001b[0m\n\u001b[0;32m-> 1359\u001b[0;31m         \u001b[0;32mreturn\u001b[0m \u001b[0mc_einsum\u001b[0m\u001b[0;34m(\u001b[0m\u001b[0;34m*\u001b[0m\u001b[0moperands\u001b[0m\u001b[0;34m,\u001b[0m \u001b[0;34m**\u001b[0m\u001b[0mkwargs\u001b[0m\u001b[0;34m)\u001b[0m\u001b[0;34m\u001b[0m\u001b[0;34m\u001b[0m\u001b[0m\n\u001b[0m\u001b[1;32m   1360\u001b[0m \u001b[0;34m\u001b[0m\u001b[0m\n\u001b[1;32m   1361\u001b[0m     \u001b[0;31m# Check the kwargs to avoid a more cryptic error later, without having to\u001b[0m\u001b[0;34m\u001b[0m\u001b[0;34m\u001b[0m\u001b[0;34m\u001b[0m\u001b[0m\n",
      "\u001b[0;31mKeyboardInterrupt\u001b[0m: "
     ]
    }
   ],
   "source": [
    "t = np.linspace(0, 10, 100)\n",
    "y = np.sin(2 * np.pi * 5 * t)[:, None]\n",
    "DEMInversion(model).run(y, Emin=5)"
   ]
  },
  {
   "cell_type": "code",
   "execution_count": null,
   "id": "d1e861c8",
   "metadata": {},
   "outputs": [],
   "source": [
    "a, b = repeat(0, 2)"
   ]
  },
  {
   "cell_type": "code",
   "execution_count": null,
   "id": "cdecc8d5",
   "metadata": {},
   "outputs": [],
   "source": [
    "%timeit np.zeros((5,0,0))\n",
    "%timeit np.empty((5,0,0))"
   ]
  },
  {
   "cell_type": "code",
   "execution_count": 26,
   "id": "2973132d",
   "metadata": {},
   "outputs": [
    {
     "data": {
      "text/plain": [
       "(array([[[   0,    1,    2],\n",
       "         [   3,    4, -128],\n",
       "         [   6,    7,    8],\n",
       "         [   9,   10,   11],\n",
       "         [  12,   13,   14],\n",
       "         [  15,   16,   17],\n",
       "         [  18,   19,   20],\n",
       "         [  21,   22,   23],\n",
       "         [  24,   25,   26],\n",
       "         [  27,   28,   29]],\n",
       " \n",
       "        [[  30,   31,   32],\n",
       "         [  33,   34,   35],\n",
       "         [  36,   37,   38],\n",
       "         [  39,   40,   41],\n",
       "         [  42,   43,   44],\n",
       "         [  45,   46,   47],\n",
       "         [  48,   49,   50],\n",
       "         [  51,   52,   53],\n",
       "         [  54,   55,   56],\n",
       "         [  57,   58,   59]],\n",
       " \n",
       "        [[  60,   61,   62],\n",
       "         [  63,   64,   65],\n",
       "         [  66,   67,   68],\n",
       "         [  69,   70,   71],\n",
       "         [  72,   73,   74],\n",
       "         [  75,   76,   77],\n",
       "         [  78,   79,   80],\n",
       "         [  81,   82,   83],\n",
       "         [  84,   85,   86],\n",
       "         [  87,   88,   89]],\n",
       " \n",
       "        [[  90,   91,   92],\n",
       "         [  93,   94,   95],\n",
       "         [  96,   97,   98],\n",
       "         [  99,  100,  101],\n",
       "         [ 102,  103,  104],\n",
       "         [ 105,  106,  107],\n",
       "         [ 108,  109,  110],\n",
       "         [ 111,  112,  113],\n",
       "         [ 114,  115,  116],\n",
       "         [ 117,  118,  119]],\n",
       " \n",
       "        [[ 120,  121,  122],\n",
       "         [ 123,  124,  125],\n",
       "         [ 126,  127,  128],\n",
       "         [ 129,  130,  131],\n",
       "         [ 132,  133,  134],\n",
       "         [ 135,  136,  137],\n",
       "         [ 138,  139,  140],\n",
       "         [ 141,  142,  143],\n",
       "         [ 144,  145,  146],\n",
       "         [ 147,  148,  149]]]),\n",
       " array([[[   0,   30,   60,   90,  120],\n",
       "         [   3,   33,   63,   93,  123],\n",
       "         [   6,   36,   66,   96,  126],\n",
       "         [   9,   39,   69,   99,  129],\n",
       "         [  12,   42,   72,  102,  132],\n",
       "         [  15,   45,   75,  105,  135],\n",
       "         [  18,   48,   78,  108,  138],\n",
       "         [  21,   51,   81,  111,  141],\n",
       "         [  24,   54,   84,  114,  144],\n",
       "         [  27,   57,   87,  117,  147]],\n",
       " \n",
       "        [[   1,   31,   61,   91,  121],\n",
       "         [   4,   34,   64,   94,  124],\n",
       "         [   7,   37,   67,   97,  127],\n",
       "         [  10,   40,   70,  100,  130],\n",
       "         [  13,   43,   73,  103,  133],\n",
       "         [  16,   46,   76,  106,  136],\n",
       "         [  19,   49,   79,  109,  139],\n",
       "         [  22,   52,   82,  112,  142],\n",
       "         [  25,   55,   85,  115,  145],\n",
       "         [  28,   58,   88,  118,  148]],\n",
       " \n",
       "        [[   2,   32,   62,   92,  122],\n",
       "         [-128,   35,   65,   95,  125],\n",
       "         [   8,   38,   68,   98,  128],\n",
       "         [  11,   41,   71,  101,  131],\n",
       "         [  14,   44,   74,  104,  134],\n",
       "         [  17,   47,   77,  107,  137],\n",
       "         [  20,   50,   80,  110,  140],\n",
       "         [  23,   53,   83,  113,  143],\n",
       "         [  26,   56,   86,  116,  146],\n",
       "         [  29,   59,   89,  119,  149]]]))"
      ]
     },
     "execution_count": 26,
     "metadata": {},
     "output_type": "execute_result"
    }
   ],
   "source": [
    "N = 5\n",
    "M = 10\n",
    "P = 3\n",
    "A = np.arange(N*M*P).reshape((N, M, P))\n",
    "B = A.swapaxes(0, 2)\n",
    "A[0, 1, 2] = -128\n",
    "A, B"
   ]
  },
  {
   "cell_type": "code",
   "execution_count": null,
   "id": "f0753bf4",
   "metadata": {},
   "outputs": [],
   "source": []
  },
  {
   "cell_type": "code",
   "execution_count": 11,
   "id": "3a45f570",
   "metadata": {},
   "outputs": [
    {
     "data": {
      "text/plain": [
       "array([0, 0, 0, 0, 0, 0, 0, 0, 0, 0, 0, 0, 0, 0, 0, 0, 0, 0, 0, 0, 0, 0,\n",
       "       0, 0, 0, 0, 0, 0, 0, 0, 0, 0, 0, 0, 0, 0, 0, 0, 0, 0, 0, 0, 0, 0,\n",
       "       0, 0, 0, 0, 1, 1, 1, 1, 1, 1, 1, 1, 1, 1, 1, 1, 1, 1, 1, 1, 1, 1,\n",
       "       1, 1, 1, 1, 1, 1, 1, 1, 1, 1, 1, 1, 1, 1, 1, 1, 1, 1, 1, 1, 1, 1,\n",
       "       1, 1, 1, 1, 1, 1, 1, 1, 1, 1, 1, 1, 1, 1, 1, 1], dtype=int32)"
      ]
     },
     "execution_count": 11,
     "metadata": {},
     "output_type": "execute_result"
    }
   ],
   "source": [
    "from itertools import *\n",
    "\n",
    "np.fromiter(chain(*(np.arange(model[i].p) for i in range(2))), dtype='i')\n",
    "np.fromiter(chain(*(model[i].p * [i] for i in range(2))), dtype='i')"
   ]
  }
 ],
 "metadata": {
  "kernelspec": {
   "display_name": "Python 3",
   "language": "python",
   "name": "python3"
  },
  "language_info": {
   "codemirror_mode": {
    "name": "ipython",
    "version": 3
   },
   "file_extension": ".py",
   "mimetype": "text/x-python",
   "name": "python",
   "nbconvert_exporter": "python",
   "pygments_lexer": "ipython3",
   "version": "3.8.12"
  }
 },
 "nbformat": 4,
 "nbformat_minor": 5
}
