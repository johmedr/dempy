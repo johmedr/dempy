{
 "cells": [
  {
   "cell_type": "code",
   "execution_count": null,
   "id": "9979562b",
   "metadata": {},
   "outputs": [],
   "source": [
    "from dempy import *\n",
    "import sympy\n",
    "import torch\n",
    "from torch import distributions as td\n",
    "from torch import nn\n",
    "import numpy as np\n",
    "import plotly.graph_objs as go\n",
    "import plotly.express as px\n",
    "import pykeos as pk\n",
    "# from easystate import EasyState"
   ]
  },
  {
   "cell_type": "code",
   "execution_count": null,
   "id": "79258ca7",
   "metadata": {},
   "outputs": [],
   "source": [
    "class KeyAccess: \n",
    "    def __init__(self, keys):\n",
    "        self._keys = {k:keys.index(k) for k in keys}\n",
    "        self._it   = None\n",
    "        \n",
    "    def __call__(self, it): \n",
    "        self._it = it\n",
    "        return self\n",
    "        \n",
    "    def __getitem__(self, key):\n",
    "        try:\n",
    "            return self._it[self._keys[key]]\n",
    "        except KeyError: \n",
    "            return self._it[key]\n",
    "        \n",
    "    def __setitem__(self, key, value): \n",
    "        try: \n",
    "            self._it[self._keys[key]] = value \n",
    "        except KeyError:\n",
    "            self._it[key] = value "
   ]
  },
  {
   "cell_type": "code",
   "execution_count": null,
   "id": "ca31e00d",
   "metadata": {},
   "outputs": [],
   "source": [
    "from collections import OrderedDict\n",
    "from functools import partial\n",
    "\n",
    "class JansenRit:\n",
    "    def __init__(self): \n",
    "        self._params_init = OrderedDict(A=3.25, B=22., a_inv=10., b_inv=20., C=135., C1rep=1., C2rep=0.8, \n",
    "                        C3rep=0.25, C4rep=0.25, vmax=5., v0=6., r=0.56)\n",
    "        self._params_keys = [*self._params_init.keys()]\n",
    "        self._dt = 1e-3\n",
    "\n",
    "        self.params = np.log(np.array([*self._params_init.values()]).reshape((-1, 1)))\n",
    "        \n",
    "        self.m = 1\n",
    "        self.p = len(self._params_init)\n",
    "        self.l = 1\n",
    "        self.n = 6\n",
    "        \n",
    "        self.pE = self.params\n",
    "        self.pC = np.ones(len(self._params_init)) * np.exp(-32)\n",
    "        self.V  = np.exp(8) * np.ones(self.m)\n",
    "        self.W  = np.exp(16) * np.ones(self.n)\n",
    "\n",
    "    @staticmethod\n",
    "    def sigmoid(x, vmax, v0, r): \n",
    "        return vmax / (1. + np.exp(r * (v0 - x)))\n",
    "    \n",
    "    def fsymb(self, x, v, p): \n",
    "        x, v, p = x[:, 0], v[:, 0], p[:, 0]\n",
    "        A,B,a_inv,b_inv,C,C1rep,C2rep,C3rep,C4rep,vmax,v0,r = [sympy.exp(_) for _ in p]\n",
    "\n",
    "        def sigm(x): \n",
    "            return vmax / (1. + sympy.exp(r * (v0 - x)))\n",
    "        \n",
    "        a, b = 1e3/a_inv, 1e3/b_inv\n",
    "        C1, C2, C3, C4 = C*C1rep, C*C2rep, C*C3rep, C*C4rep\n",
    "\n",
    "        x0 = x[3]\n",
    "        x1 = x[4]\n",
    "        x2 = x[5]\n",
    "        x3 = A * a * sigm(x[1] - x[2]) - 2 * a * x[3] - x[0] * a**2\n",
    "        x4 = A * a * (v[0] + C2 * sigm(C1 * x[0])) - 2 * a * x[4] - x[1] * a ** 2\n",
    "        x5 = B * b * C4 * sigm(C3 * x[0]) - 2 * b * x[5] -  x[2] * b ** 2\n",
    "\n",
    "        return sympy.Matrix([x0, x1, x2, x3, x4, x5]) * self._dt\n",
    "    \n",
    "    \n",
    "#     @staticmethod\n",
    "    def g(self, x, v, p): \n",
    "        return (x[1] - x[2]).reshape((1, 1))"
   ]
  },
  {
   "cell_type": "code",
   "execution_count": null,
   "id": "ca55202f",
   "metadata": {},
   "outputs": [],
   "source": [
    "x = sympy.MatrixSymbol('x', 6, 1)\n",
    "v = sympy.MatrixSymbol('v', 1, 1)\n",
    "p = sympy.MatrixSymbol('p', 12, 1)"
   ]
  },
  {
   "cell_type": "code",
   "execution_count": null,
   "id": "1ca3e05b",
   "metadata": {},
   "outputs": [],
   "source": [
    "jrit = JansenRit()\n",
    "func = sympy.lambdify((x, v, p), jrit.fsymb(x, v, p), 'numpy')"
   ]
  },
  {
   "cell_type": "code",
   "execution_count": null,
   "id": "175bd8ba",
   "metadata": {},
   "outputs": [],
   "source": [
    "class Ueda: \n",
    "    def __init__(self): \n",
    "        self._dt = 1e-3\n",
    "        \n",
    "    def f(self, x, v, p): \n",
    "        x,y,z = [x[...,i] for i in range(x.shape[-1])]\n",
    "        return np.stack([\n",
    "            x[1],\n",
    "            - x[0] ** 3 - 0.05 * x[1] + 7.5 * np.sin(x[2]),\n",
    "            1\n",
    "        ], dim=-1) * self._dt\n",
    "\n",
    "    def g(self, x, v, p): \n",
    "        return np.array([40 * x[0] + 240.])\n",
    "    \n",
    "# class Rossler: \n",
    "#     def __init__(self, dt=0.001): \n",
    "#         self.dt = dt\n",
    "        \n",
    "#     def ode(self, x): \n",
    "#         x,y,z = [x[...,i] for i in range(x.shape[-1])]\n",
    "#         return torch.stack([\n",
    "#             - y - z,\n",
    "#             x + 0.1 * y,\n",
    "#             0.1 + z * (x - 14.)\n",
    "#         ], dim=-1)\n",
    "\n",
    "#     def __call__(self, x): \n",
    "#         return x + self.dt * self.ode(x)"
   ]
  },
  {
   "cell_type": "code",
   "execution_count": null,
   "id": "91e97742",
   "metadata": {},
   "outputs": [],
   "source": [
    "jrit = JansenRit()\n",
    "jrit = GaussianModel(\n",
    "    fsymb=jrit.fsymb, \n",
    "    g=jrit.g,\n",
    "    m=jrit.m, \n",
    "    n=jrit.n, \n",
    "    l=jrit.l,\n",
    "    p=jrit.p,\n",
    "    pE=jrit.pE,\n",
    "    pC=jrit.pC,\n",
    "    V=jrit.V, \n",
    "    W=jrit.W\n",
    ")\n",
    "ueda = Ueda()\n",
    "ueda = GaussianModel(\n",
    "    f=jrit.fsymb, \n",
    "    g=jrit.g,\n",
    "    m=jrit.m, \n",
    "    n=jrit.n, \n",
    "    l=jrit.l,\n",
    "    p=jrit.p,\n",
    "    pE=jrit.pE,\n",
    "    pC=jrit.pC,\n",
    "    V=jrit.V, \n",
    "    W=jrit.W\n",
    ")\n",
    "\n",
    "hdm = HierarchicalGaussianModel(jrit)"
   ]
  },
  {
   "cell_type": "code",
   "execution_count": null,
   "id": "deb19e40",
   "metadata": {},
   "outputs": [],
   "source": [
    "gen = DEMInversion(hdm).generate(1000)"
   ]
  },
  {
   "cell_type": "code",
   "execution_count": null,
   "id": "ecd0eb42",
   "metadata": {},
   "outputs": [],
   "source": [
    "px.line(y=gen.v[:, 0, 0, 0]);"
   ]
  },
  {
   "cell_type": "code",
   "execution_count": null,
   "id": "439a683e",
   "metadata": {},
   "outputs": [],
   "source": [
    "DEMInversion(hdm).run(gen.v[:, 0, 0, 0, None])"
   ]
  },
  {
   "cell_type": "code",
   "execution_count": null,
   "id": "75ac9e2c",
   "metadata": {},
   "outputs": [],
   "source": [
    "jansen_rit = JansenRit(0.001)\n",
    "ueda = Ueda(0.008)\n",
    "\n",
    "input_model = GaussianSystem(\n",
    "    state_dim=3, \n",
    "    obs_dim=1, \n",
    "    fwd_transform=LinearizedTransform(ueda), \n",
    "    obs_transform=LinearTransform(torch.tensor([[40., 0., 0.]]), torch.tensor([240.])), \n",
    "    initial_state_mean=torch.tensor([2., 2., 0.]), \n",
    "    initial_state_cov=np.exp(-128) * torch.eye(3),\n",
    "    process_noise_cov=np.exp(-32) * torch.eye(3), \n",
    "    obs_noise_cov=np.exp(2) * torch.eye(1),\n",
    ")\n",
    "\n",
    "cortical_model = GaussianSystem(\n",
    "    fwd_transform=LinearizedTransform(jansen_rit), \n",
    "    obs_transform=LinearTransform(torch.tensor([[0., 1., -1., 0., 0., 0.]])), \n",
    "    input_dim=1,\n",
    "    state_dim=6, \n",
    "    obs_dim=1, \n",
    "    obs_noise_cov=np.exp(2) * torch.eye(1), \n",
    "    process_noise_cov=np.exp(2) * torch.eye(6), \n",
    "    initial_state_mean=torch.zeros(6), \n",
    "    initial_state_cov=np.exp(-6) * torch.eye(6),\n",
    ")"
   ]
  },
  {
   "cell_type": "code",
   "execution_count": null,
   "id": "e7e64a62",
   "metadata": {},
   "outputs": [],
   "source": [
    "state_space = HierarchicalDynamicalModel(systems=[input_model, cortical_model]) "
   ]
  },
  {
   "cell_type": "code",
   "execution_count": null,
   "id": "2dadc7d6",
   "metadata": {},
   "outputs": [],
   "source": [
    "traj = state_space.blind_forecast(4500)\n",
    "# plot_traj(traj[2]['y'][None])\n",
    "plot_traj(traj[0]['y'][None]).show()\n",
    "plot_traj(traj[1]['y'][None]).show()"
   ]
  },
  {
   "cell_type": "code",
   "execution_count": null,
   "id": "a475ef5b",
   "metadata": {},
   "outputs": [],
   "source": [
    "y = state_space.sample(4500)\n",
    "px.line(y=y[0]['y'][:, 0].detach()).show()\n",
    "px.line(y=y[1]['y'][:, 0].detach()).show()"
   ]
  },
  {
   "cell_type": "code",
   "execution_count": null,
   "id": "c5bc5d61",
   "metadata": {},
   "outputs": [],
   "source": [
    "\n",
    "input_model_ = GaussianSystem(\n",
    "    state_dim=3, \n",
    "    obs_dim=1, \n",
    "    fwd_transform=LinearizedTransform(ueda), \n",
    "    obs_transform=LinearTransform(torch.tensor([[40., 0., 0.]]), torch.tensor([240.])), \n",
    "    initial_state_mean=torch.tensor([1., 3., 0.]), \n",
    "    initial_state_cov=np.exp(0) * torch.eye(3),\n",
    "    process_noise_cov=np.exp(-32) * torch.eye(3), \n",
    "    obs_noise_cov=np.exp(2) * torch.eye(1),\n",
    ")\n",
    "\n",
    "cortical_model_ = GaussianSystem(\n",
    "    fwd_transform=LinearizedTransform(jansen_rit), \n",
    "    obs_transform=LinearTransform(torch.FloatTensor([[0., 1., -1., 0., 0., 0.]])), \n",
    "    input_dim=1,\n",
    "    state_dim=6, \n",
    "    obs_dim=1, \n",
    "    obs_noise_cov=np.exp(4) * torch.eye(1), \n",
    "    process_noise_cov=np.exp(2) * torch.eye(6), \n",
    "    initial_state_mean=torch.zeros(6), \n",
    "    initial_state_cov=np.exp(-6) * torch.eye(6),\n",
    ")\n",
    "\n",
    "dec_state_space = HierarchicalDynamicalModel(systems=[input_model_, cortical_model_]) "
   ]
  },
  {
   "cell_type": "code",
   "execution_count": null,
   "id": "dcd481cf",
   "metadata": {},
   "outputs": [],
   "source": [
    "filter_traj = dec_state_space.filter(y[1]['y'][None], backward_pass=True)"
   ]
  },
  {
   "cell_type": "code",
   "execution_count": null,
   "id": "6cf47bbd",
   "metadata": {
    "scrolled": false
   },
   "outputs": [],
   "source": [
    "fig = plot_traj(Gaussian(filter_traj[0]['x_backward'].mean[..., :2], filter_traj[0]['x_backward'].covariance_matrix[..., :2, :2]))\n",
    "for i in range(2):     \n",
    "    fig.add_scatter(y=y[0]['x'][:, i], line_color=px.colors.qualitative.T10[i], line_dash='dash', name=f'x[{i}]')\n",
    "fig.update_layout(template='plotly_white', \n",
    "        title={\n",
    "         'text':'hidden states (ueda)',\n",
    "         'x':0.5,\n",
    "         'xanchor': 'center'}, height=600, width=800)\n",
    "fig.update_yaxes(title_text='states (a.u.)', range=(-15, 15))\n",
    "fig.update_xaxes(title_text='time')\n",
    "fig.show()"
   ]
  },
  {
   "cell_type": "code",
   "execution_count": null,
   "id": "c2f5fd65",
   "metadata": {},
   "outputs": [],
   "source": [
    "r=pk.Rossler()"
   ]
  },
  {
   "cell_type": "code",
   "execution_count": null,
   "id": "c2cc624d",
   "metadata": {},
   "outputs": [],
   "source": [
    "fig = pk.SysWrapper(filter_traj[0]['x_backward'].mean[0, :, :2].detach()).plot(line_color=px.colors.qualitative.T10[1], opacity=0.7, show=False, )\n",
    "pk.SysWrapper(y[0]['x'][:, :2]).plot(fig=fig, line_color=px.colors.qualitative.T10[0], opacity=0.7, show=False)\n",
    "fig.update_layout(template='simple_white', width=800, height=600)\n",
    "fig"
   ]
  },
  {
   "cell_type": "code",
   "execution_count": null,
   "id": "67837895",
   "metadata": {},
   "outputs": [],
   "source": [
    "fig = plot_traj(filter_traj[0]['y_prior'])\n",
    "fig.add_scatter(y=y[0]['y'][:, 0].detach(), line_color=px.colors.qualitative.T10[0], line_dash='dash', name='x[0]')\n",
    "fig.update_layout(template='plotly_white', \n",
    "        title={\n",
    "         'text':'ueda output',\n",
    "         'x':0.5,\n",
    "         'xanchor': 'center'}, height=600, width=600)\n",
    "fig.update_yaxes(title_text='states (hz)', range=(0, 450))\n",
    "fig.update_xaxes(title_text='time')\n",
    "fig.show()"
   ]
  },
  {
   "cell_type": "code",
   "execution_count": null,
   "id": "6fe32829",
   "metadata": {},
   "outputs": [],
   "source": [
    "\n",
    "fig = plot_traj(Gaussian(filter_traj[1]['x_backward'].mean[..., :3], filter_traj[1]['x_backward'].covariance_matrix[..., :3, :3]))\n",
    "for i in range(3): \n",
    "    fig.add_scatter(y=y[1]['x'][:, i].detach(), line_color=px.colors.qualitative.T10[i], line_dash='dash', name=f'x[{i}]')\n",
    "fig.update_layout(template='plotly_white', \n",
    "        title={\n",
    "         'text':'causal states',\n",
    "         'x':0.5,\n",
    "         'xanchor': 'center'}, height=600, width=800)\n",
    "fig.update_yaxes(title_text='states (hz)', range=(-75, 75))\n",
    "fig.update_xaxes(title_text='time')\n",
    "fig.show()"
   ]
  },
  {
   "cell_type": "code",
   "execution_count": null,
   "id": "2d1ef196",
   "metadata": {},
   "outputs": [],
   "source": [
    "\n",
    "fig = plot_traj(filter_traj[1]['y_prior'])\n",
    "fig.add_scatter(y=y[1]['y'][:, 0].detach(), line_color=px.colors.qualitative.T10[1], line_dash='dash', name=f'x[{0}]', opacity=0.7)\n",
    "fig.update_layout(template='plotly_white', \n",
    "        title={\n",
    "         'text':'jansen-rit output',\n",
    "         'x':0.5,\n",
    "         'xanchor': 'center'}, height=600, width=800)\n",
    "fig.update_yaxes(title_text='states (hz)', range=(-70, 70))\n",
    "fig.update_xaxes(title_text='time')\n",
    "fig.show()"
   ]
  }
 ],
 "metadata": {
  "kernelspec": {
   "display_name": "Python 3 (ipykernel)",
   "language": "python",
   "name": "python3"
  },
  "language_info": {
   "codemirror_mode": {
    "name": "ipython",
    "version": 3
   },
   "file_extension": ".py",
   "mimetype": "text/x-python",
   "name": "python",
   "nbconvert_exporter": "python",
   "pygments_lexer": "ipython3",
   "version": "3.9.12"
  }
 },
 "nbformat": 4,
 "nbformat_minor": 5
}
