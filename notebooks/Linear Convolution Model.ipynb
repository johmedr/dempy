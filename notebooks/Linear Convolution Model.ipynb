{
 "cells": [
  {
   "cell_type": "code",
   "execution_count": null,
   "id": "ededee9b",
   "metadata": {},
   "outputs": [],
   "source": [
    "!pip install git+https://github.com/johmedr/dempy.git"
   ]
  },
  {
   "cell_type": "code",
   "execution_count": null,
   "id": "7ee40496",
   "metadata": {},
   "outputs": [],
   "source": [
    "from dempy import *\n",
    "\n",
    "import numpy as np\n",
    "\n",
    "import plotly.express as px\n",
    "import plotly.graph_objects as go\n",
    "\n",
    "from plotly.subplots import make_subplots\n",
    "\n",
    "np.set_printoptions(linewidth=160, precision=2)"
   ]
  },
  {
   "cell_type": "markdown",
   "id": "f688c1bc",
   "metadata": {},
   "source": [
    "#### Generate some data\n",
    "The model is: \n",
    "\\begin{align} \n",
    "    y &= \\theta_1 x \\\\ \\dot{x} &= \\theta_2 x + \\theta_3 v \n",
    "\\end{align}\n",
    "where \n",
    "\\begin{align} \n",
    "    \\theta_1 = \\begin{bmatrix} \n",
    "        0.1250 & 0.1633 \\\\\n",
    "        0.1250 & 0.0676 \\\\ \n",
    "        0.1250 & -0.0676 \\\\ \n",
    "        0.1250 & -0.1633 \n",
    "     \\end{bmatrix} &&\n",
    "     \\theta_2 = \\begin{bmatrix} \n",
    "         -0.25 & 1.00 \\\\\n",
    "         -0.50 & -0.25 \n",
    "     \\end{bmatrix} && \n",
    "     \\theta_3 = \\begin{bmatrix} \n",
    "         1 \\\\ 0\n",
    "     \\end{bmatrix} \n",
    "\\end{align}\n",
    "\n",
    "We generate the data with $v = \\exp\\left(\\frac{1}{4} (t - 12)^2\\right)$. "
   ]
  },
  {
   "cell_type": "code",
   "execution_count": null,
   "id": "41e305ab",
   "metadata": {},
   "outputs": [],
   "source": [
    "theta1 = np.array([[0.125,  0.1633], \n",
    "                   [0.125,  0.0676], \n",
    "                   [0.125, -0.0676], \n",
    "                   [0.125, -0.1633]])\n",
    "theta2 = np.array([[-0.25,  1.00],\n",
    "                   [-0.50, -0.25]])\n",
    "theta3 = np.array([[1.], [0.]])\n",
    "\n",
    "# Prior expectation on the parameters\n",
    "pE  = np.concatenate([theta1.reshape((-1,)), theta2.reshape((-1,)), theta3.reshape((-1,))])\n",
    "\n",
    "nps = (theta1.size,theta2.size,theta3.size)\n",
    "\n",
    "def g_(x, v, p): \n",
    "    return p[:nps[0]].reshape(theta1.shape) @ x\n",
    "\n",
    "def f_(x, v, p): \n",
    "    return p[nps[0]:nps[0] + nps[1]].reshape(theta2.shape) @ x + p[-nps[2]:].reshape(theta3.shape) @ v"
   ]
  },
  {
   "cell_type": "code",
   "execution_count": null,
   "id": "e1219940",
   "metadata": {},
   "outputs": [],
   "source": [
    "models = [\n",
    "    GaussianModel(\n",
    "        fsymb=f_, gsymb=g_, \n",
    "        n=2, sv=1./2,sw=1./2,\n",
    "        V=np.array([np.exp(8.)]), \n",
    "        W=np.array([np.exp(8.)]), \n",
    "        pE=pE, pC=np.ones_like(pE) * np.exp(-64), xP=np.array([12])\n",
    "    ), \n",
    "    GaussianModel(l=1, V=np.array([np.exp(32.)]))\n",
    "]\n",
    "genmodel = HierarchicalGaussianModel(*models)"
   ]
  },
  {
   "cell_type": "markdown",
   "id": "e30eb2c4",
   "metadata": {},
   "source": [
    "Run the model to generate some data."
   ]
  },
  {
   "cell_type": "code",
   "execution_count": null,
   "id": "980159a3",
   "metadata": {},
   "outputs": [],
   "source": [
    "nT = 32\n",
    "t  = np.arange(1, nT+1)  \n",
    "\n",
    "# Input vector\n",
    "u  = (np.exp(-(t - 12)**2/4))[:, None]\n",
    "\n",
    "# Generate the data\n",
    "gen = DEMInversion(genmodel, states_embedding_order=5).generate(nT, u)\n",
    "\n",
    "plot_dem_generate(genmodel, gen);\n",
    "\n",
    "# Store y as an \"observed\" trajectory\n",
    "y   = gen.v[:,0,:4]"
   ]
  },
  {
   "cell_type": "code",
   "execution_count": null,
   "id": "7cfa2c21",
   "metadata": {},
   "outputs": [],
   "source": [
    "decmodel      = genmodel.copy()\n",
    "\n",
    "# Change the prior precision of the higher level causes (<-> assume unknown input)\n",
    "decmodel[1].V = np.ones((1,1))"
   ]
  },
  {
   "cell_type": "code",
   "execution_count": null,
   "id": "cf2910f6",
   "metadata": {
    "scrolled": true
   },
   "outputs": [],
   "source": [
    "# Run inversion\n",
    "deminv  = DEMInversion(decmodel, states_embedding_order=4)\n",
    "results = deminv.run(y, nD=1, nE=1, nM=1, K=1, td=1)"
   ]
  },
  {
   "cell_type": "code",
   "execution_count": null,
   "id": "97b90207",
   "metadata": {},
   "outputs": [],
   "source": [
    "plot_dem_states(genmodel, results, gen);"
   ]
  },
  {
   "cell_type": "code",
   "execution_count": null,
   "id": "90cade84",
   "metadata": {},
   "outputs": [],
   "source": [
    "nps   = (theta1.size,theta2.size,theta3.size)\n",
    "ip    = [0, 10] \n",
    "P     = pE.copy()\n",
    "P[0]  = 0.6\n",
    "P[10] = -0.2\n",
    "pC    = np.zeros_like(pE, dtype='d')\n",
    "pC[ip]= np.exp(4)\n",
    "# cC    = np.empty_like(pE , dtype=object)\n",
    "# cC[0] = 'positive'\n",
    "# cC[10] = 'negative'\n",
    "\n",
    "models = [\n",
    "    GaussianModel(\n",
    "        g=g_, f=f_,\n",
    "        n=2, sv=1., sw=1.,\n",
    "#         V=np.array([np.exp(8.)]), \n",
    "#         W=np.array([np.exp(16.)]), \n",
    "        Q=[np.eye(4)], R=[np.eye(2)],\n",
    "        hE=np.array([6.]), hC=np.array([[1/4.]]),\n",
    "        gE=np.array([6.]), gC=np.array([[1/4.]]), \n",
    "        pE=P.copy(), pC=pC, #constraints=cC\n",
    "    ), \n",
    "    GaussianModel(l=1, V=np.array([np.exp(0)]))\n",
    "]\n",
    "decdualmodel = HierarchicalGaussianModel(*models)"
   ]
  },
  {
   "cell_type": "code",
   "execution_count": null,
   "id": "5c0c43c1",
   "metadata": {},
   "outputs": [],
   "source": [
    "deminv  = DEMInversion(decdualmodel, states_embedding_order=6)\n",
    "deminv.logger.setLevel('ERROR')\n",
    "results = deminv.run(y.copy(), u.copy(), nD=1, nE=128, nM=8, K=1., Emin=64, Mmin=8, tol=np.finfo(np.float64).eps)\n",
    "px.line(y=[results.F]).update_layout(template='simple_white', height=400, width=800)"
   ]
  },
  {
   "cell_type": "code",
   "execution_count": null,
   "id": "c328af53",
   "metadata": {},
   "outputs": [],
   "source": [
    "pE[0], results.qP.P[0], results.qP.V[0], pE[10],  results.qP.P[10], "
   ]
  },
  {
   "cell_type": "code",
   "execution_count": null,
   "id": "42c0d5b3",
   "metadata": {},
   "outputs": [],
   "source": [
    "plot_dem_states(decdualmodel, results, gen);"
   ]
  }
 ],
 "metadata": {
  "kernelspec": {
   "display_name": "Python 3 (ipykernel)",
   "language": "python",
   "name": "python3"
  },
  "language_info": {
   "codemirror_mode": {
    "name": "ipython",
    "version": 3
   },
   "file_extension": ".py",
   "mimetype": "text/x-python",
   "name": "python",
   "nbconvert_exporter": "python",
   "pygments_lexer": "ipython3",
   "version": "3.9.12"
  }
 },
 "nbformat": 4,
 "nbformat_minor": 5
}
