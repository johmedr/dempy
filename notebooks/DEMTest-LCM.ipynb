{
 "cells": [
  {
   "cell_type": "code",
   "execution_count": 1,
   "id": "7ee40496",
   "metadata": {},
   "outputs": [],
   "source": [
    "import torch \n",
    "import numpy as np\n",
    "from torchkf import *\n",
    "from pprint import pprint\n",
    "import plotly.express as px\n",
    "import plotly.graph_objects as go\n",
    "from plotly.subplots import make_subplots\n",
    "import logging\n",
    "\n",
    "np.set_printoptions(linewidth=160, precision=2)"
   ]
  },
  {
   "cell_type": "markdown",
   "id": "f688c1bc",
   "metadata": {},
   "source": [
    "#### Generate some data\n",
    "The assumed model is: \n",
    "\\begin{align} \n",
    "    y &= \\theta_1 x \\\\ \\dot{x} &= \\theta_2 x + \\theta_3 v \n",
    "\\end{align}\n",
    "where \n",
    "\\begin{align} \n",
    "    \\theta_1 = \\begin{bmatrix} \n",
    "        0.1250 & 0.1633 \\\\\n",
    "        0.1250 & 0.0676 \\\\ \n",
    "        0.1250 & -0.0676 \\\\ \n",
    "        0.1250 & -0.1633 \n",
    "     \\end{bmatrix} &&\n",
    "     \\theta_2 = \\begin{bmatrix} \n",
    "         -0.25 & 1.00 \\\\\n",
    "         -0.50 & -0.25 \n",
    "     \\end{bmatrix} && \n",
    "     \\theta_3 = \\begin{bmatrix} \n",
    "         1 \\\\ 0\n",
    "     \\end{bmatrix} \n",
    "\\end{align}\n",
    "\n",
    "We generate the data with $v = \\exp\\left(\\frac{1}{4} (t - 12)^2\\right)$. "
   ]
  },
  {
   "cell_type": "code",
   "execution_count": 2,
   "id": "41e305ab",
   "metadata": {},
   "outputs": [],
   "source": [
    "theta1 = torch.tensor([[0.125,  0.1633], \n",
    "                       [0.125,  0.0676], \n",
    "                       [0.125, -0.0676], \n",
    "                       [0.125, -0.1633]])\n",
    "theta2 = torch.tensor([[-0.25,  1.00],\n",
    "                       [-0.50, -0.25]])\n",
    "theta3 = torch.tensor([[1.], \n",
    "                       [0.]])\n",
    "pE = torch.cat([theta1.reshape((-1,)), theta2.reshape((-1,)), theta3.reshape((-1,))])"
   ]
  },
  {
   "cell_type": "code",
   "execution_count": 41,
   "id": "e1219940",
   "metadata": {},
   "outputs": [],
   "source": [
    "nps = (torch.numel(theta1),torch.numel(theta2),torch.numel(theta3))\n",
    "models = [\n",
    "    GaussianModel(\n",
    "        g=lambda x, v, P: P[:nps[0]].reshape(theta1.shape) @ x, \n",
    "        f=lambda x, v, P: P[nps[0]:nps[0] + nps[1]].reshape(theta2.shape) @ x \\\n",
    "                        + P[-nps[2]:].reshape(theta3.shape) @ v,\n",
    "        n=2, sv=1./2,sw=1./2,\n",
    "        V=torch.tensor([np.exp(32.)]), \n",
    "        W=torch.tensor([np.exp(32.)]), \n",
    "        pE=pE, pC=torch.ones_like(pE) * np.exp(-32)\n",
    "    ), \n",
    "    GaussianModel(l=1, V=torch.tensor([np.exp(32.)]))\n",
    "]\n",
    "genmodel = HierarchicalGaussianModel(*models)"
   ]
  },
  {
   "cell_type": "code",
   "execution_count": 56,
   "id": "980159a3",
   "metadata": {},
   "outputs": [
    {
     "data": {
      "application/vnd.plotly.v1+json": {
       "config": {
        "plotlyServerURL": "https://plot.ly"
       },
       "data": [
        {
         "hovertemplate": "variable=wide_variable_0<br>index=%{x}<br>value=%{y}<extra></extra>",
         "legendgroup": "wide_variable_0",
         "line": {
          "color": "#636efa",
          "dash": "solid"
         },
         "marker": {
          "symbol": "circle"
         },
         "mode": "lines",
         "name": "wide_variable_0",
         "orientation": "v",
         "showlegend": true,
         "type": "scatter",
         "x": [
          0,
          1,
          2,
          3,
          4,
          5,
          6,
          7,
          8,
          9,
          10,
          11,
          12,
          13,
          14,
          15,
          16,
          17,
          18,
          19,
          20,
          21,
          22,
          23,
          24,
          25,
          26,
          27,
          28,
          29,
          30,
          31
         ],
         "xaxis": "x",
         "y": [
          -1.0773956030845229e-11,
          -4.109089887375937e-10,
          -8.81475761709555e-09,
          -9.634833970542848e-08,
          -3.2954742429659675e-07,
          3.86718645598494e-06,
          6.850134948305525e-05,
          0.0006557249425163203,
          0.004180792907018005,
          0.01635433886021621,
          0.037007623585031305,
          0.04483242031118546,
          0.02106692104918306,
          -0.008898255691776331,
          -0.01275412441094454,
          -0.003332243388702485,
          -0.0004878832826233784,
          -0.0004340912342909791,
          0.00020939462845273674,
          -2.4531696163574012e-05,
          -7.06481820998589e-05,
          6.816365909775428e-05,
          -2.5718630013652108e-05,
          -7.803249367109562e-06,
          1.7229287630023058e-05,
          -1.0760489647474104e-05,
          1.5016805771340316e-06,
          3.3198009268051634e-06,
          -3.3427010030928866e-06,
          1.3249227205853485e-06,
          3.309375578672106e-07,
          0
         ],
         "yaxis": "y"
        },
        {
         "hovertemplate": "variable=wide_variable_1<br>index=%{x}<br>value=%{y}<extra></extra>",
         "legendgroup": "wide_variable_1",
         "line": {
          "color": "#EF553B",
          "dash": "solid"
         },
         "marker": {
          "symbol": "circle"
         },
         "mode": "lines",
         "name": "wide_variable_1",
         "orientation": "v",
         "showlegend": true,
         "type": "scatter",
         "x": [
          0,
          1,
          2,
          3,
          4,
          5,
          6,
          7,
          8,
          9,
          10,
          11,
          12,
          13,
          14,
          15,
          16,
          17,
          18,
          19,
          20,
          21,
          22,
          23,
          24,
          25,
          26,
          27,
          28,
          29,
          30,
          31
         ],
         "xaxis": "x",
         "y": [
          -1.3778416061866885e-11,
          -5.329693463312298e-10,
          -1.15708563672168e-08,
          -1.3007780589188627e-07,
          -5.151692308402637e-07,
          4.069091363098718e-06,
          8.019869837800637e-05,
          0.0007880691830998946,
          0.005221669724686205,
          0.02181696442964218,
          0.05527478010988788,
          0.08333594039177304,
          0.07157676310288005,
          0.030838617947594783,
          0.004522987061381459,
          0.00044452048897869955,
          0.0002520431109216947,
          -0.0003126783360934574,
          0.00011845728394529944,
          2.834583765901946e-05,
          -7.436226404042223e-05,
          4.856094160010298e-05,
          -8.216994960757955e-06,
          -1.3807168350936885e-05,
          1.47351029614292e-05,
          -6.189745010125436e-06,
          -1.1738491790137908e-06,
          3.5720532357844007e-06,
          -2.4184288363254796e-06,
          4.643183948016543e-07,
          6.426674299927991e-07,
          0
         ],
         "yaxis": "y"
        },
        {
         "hovertemplate": "variable=wide_variable_2<br>index=%{x}<br>value=%{y}<extra></extra>",
         "legendgroup": "wide_variable_2",
         "line": {
          "color": "#00cc96",
          "dash": "solid"
         },
         "marker": {
          "symbol": "circle"
         },
         "mode": "lines",
         "name": "wide_variable_2",
         "orientation": "v",
         "showlegend": true,
         "type": "scatter",
         "x": [
          0,
          1,
          2,
          3,
          4,
          5,
          6,
          7,
          8,
          9,
          10,
          11,
          12,
          13,
          14,
          15,
          16,
          17,
          18,
          19,
          20,
          21,
          22,
          23,
          24,
          25,
          26,
          27,
          28,
          29,
          30,
          31
         ],
         "xaxis": "x",
         "y": [
          -1.8022961476643592e-11,
          -7.054098933182683e-10,
          -1.546452983656261e-08,
          -1.7772904756805217e-07,
          -7.774060986010158e-07,
          4.354332151414107e-06,
          9.672410663921218e-05,
          0.0009750382669755397,
          0.006692166545467193,
          0.029534278713721496,
          0.08108167208648775,
          0.13773171797688727,
          0.14293445010037045,
          0.08697681351753174,
          0.028931194700445976,
          0.005780136750864766,
          0.0012973727703500517,
          -0.00014115248618431486,
          -1.0014283216722673e-05,
          0.00010304847687338347,
          -7.960932651026718e-05,
          2.0867238301435732e-05,
          1.650840795618343e-05,
          -2.228919391638572e-05,
          1.1211448131816974e-05,
          2.6756611808291765e-07,
          -4.9536989494546e-06,
          3.928422224018391e-06,
          -1.1126650228776895e-06,
          -7.514987927213906e-07,
          1.0830632367992735e-06,
          0
         ],
         "yaxis": "y"
        },
        {
         "hovertemplate": "variable=wide_variable_3<br>index=%{x}<br>value=%{y}<extra></extra>",
         "legendgroup": "wide_variable_3",
         "line": {
          "color": "#ab63fa",
          "dash": "solid"
         },
         "marker": {
          "symbol": "circle"
         },
         "mode": "lines",
         "name": "wide_variable_3",
         "orientation": "v",
         "showlegend": true,
         "type": "scatter",
         "x": [
          0,
          1,
          2,
          3,
          4,
          5,
          6,
          7,
          8,
          9,
          10,
          11,
          12,
          13,
          14,
          15,
          16,
          17,
          18,
          19,
          20,
          21,
          22,
          23,
          24,
          25,
          26,
          27,
          28,
          29,
          30,
          31
         ],
         "xaxis": "x",
         "y": [
          -2.1027421507665265e-11,
          -8.27470250911905e-10,
          -1.8220628586683877e-08,
          -2.1145851375450984e-07,
          -9.63027905144683e-07,
          4.556237058527885e-06,
          0.00010842145553416333,
          0.0011073825075591137,
          0.007733043363135392,
          0.034996904283147466,
          0.09934882861134434,
          0.17623523805747485,
          0.1934442921540675,
          0.12671368715690282,
          0.04620830617277198,
          0.00955690062854596,
          0.0020372991638951247,
          -1.9739587986793215e-05,
          -0.00010095162772415998,
          0.0001559260106959769,
          -8.332340845083049e-05,
          1.2645208037844233e-06,
          3.401004300907759e-05,
          -2.8293112900213045e-05,
          8.717263463223123e-06,
          4.838310755431584e-06,
          -7.6292287056024225e-06,
          4.180674532997629e-06,
          -1.883928561102821e-07,
          -1.6121031185050848e-06,
          1.394793108924862e-06,
          0
         ],
         "yaxis": "y"
        },
        {
         "hovertemplate": "variable=wide_variable_4<br>index=%{x}<br>value=%{y}<extra></extra>",
         "legendgroup": "wide_variable_4",
         "line": {
          "color": "#FFA15A",
          "dash": "solid"
         },
         "marker": {
          "symbol": "circle"
         },
         "mode": "lines",
         "name": "wide_variable_4",
         "orientation": "v",
         "showlegend": true,
         "type": "scatter",
         "x": [
          0,
          1,
          2,
          3,
          4,
          5,
          6,
          7,
          8,
          9,
          10,
          11,
          12,
          13,
          14,
          15,
          16,
          17,
          18,
          19,
          20,
          21,
          22,
          23,
          24,
          25,
          26,
          27,
          28,
          29,
          30,
          31
         ],
         "xaxis": "x",
         "y": [
          -1.2720551015404194e-10,
          -4.826311448443948e-09,
          -1.0331523336667366e-07,
          -1.127912180473078e-06,
          -4.042389137292041e-06,
          3.7736083195343355e-05,
          0.000669955136873531,
          0.006382474663428207,
          0.04127287041718538,
          0.16413210215626928,
          0.3812937066292332,
          0.5029769268454068,
          0.35506792596759434,
          0.11619379989291105,
          0.01762292715439835,
          0.007275701804975541,
          -0.001078038279888561,
          -0.0007372850092225281,
          0.0011710570121368348,
          -0.000645479754007223,
          2.95933918044654e-05,
          0.0002481193278016895,
          -0.00021495367581998755,
          7.056822675069714e-05,
          3.321797762228757e-05,
          -5.690669319045763e-05,
          3.2396500676584074e-05,
          -2.394598837372911e-06,
          -1.1729776599439764e-05,
          1.0581055007760819e-05,
          -3.6781323405925288e-06,
          0
         ],
         "yaxis": "y"
        },
        {
         "hovertemplate": "variable=wide_variable_5<br>index=%{x}<br>value=%{y}<extra></extra>",
         "legendgroup": "wide_variable_5",
         "line": {
          "color": "#19d3f3",
          "dash": "solid"
         },
         "marker": {
          "symbol": "circle"
         },
         "mode": "lines",
         "name": "wide_variable_5",
         "orientation": "v",
         "showlegend": true,
         "type": "scatter",
         "x": [
          0,
          1,
          2,
          3,
          4,
          5,
          6,
          7,
          8,
          9,
          10,
          11,
          12,
          13,
          14,
          15,
          16,
          17,
          18,
          19,
          20,
          21,
          22,
          23,
          24,
          25,
          26,
          27,
          28,
          29,
          30,
          31
         ],
         "xaxis": "x",
         "y": [
          3.1394566677342376e-11,
          1.2440532660670297e-09,
          2.7555306714301378e-08,
          3.2489470568337577e-07,
          1.6147270972807623e-06,
          -3.7244962416253554e-06,
          -0.0001185048548027963,
          -0.001264402570312921,
          -0.009612053204694392,
          -0.04746867374855497,
          -0.14341070477659207,
          -0.2589249282494007,
          -0.26886861463144507,
          -0.14635472538288158,
          -0.03417935478771393,
          -0.005285262533928599,
          -0.0024464657162811486,
          0.0011777833944679645,
          -0.00022754990954176505,
          -0.00032498440417394497,
          0.00036379403782664407,
          -0.00015895895425662,
          -2.392124483318313e-05,
          8.665812031727216e-05,
          -6.0595584595288266e-05,
          1.2834407611498644e-05,
          1.5123061104779538e-05,
          -1.7758926402368224e-05,
          8.100910030712977e-06,
          8.918206462326238e-07,
          -4.149186081191753e-06,
          0
         ],
         "yaxis": "y"
        }
       ],
       "layout": {
        "legend": {
         "title": {
          "text": "variable"
         },
         "tracegroupgap": 0
        },
        "margin": {
         "t": 60
        },
        "template": {
         "data": {
          "bar": [
           {
            "error_x": {
             "color": "#2a3f5f"
            },
            "error_y": {
             "color": "#2a3f5f"
            },
            "marker": {
             "line": {
              "color": "#E5ECF6",
              "width": 0.5
             },
             "pattern": {
              "fillmode": "overlay",
              "size": 10,
              "solidity": 0.2
             }
            },
            "type": "bar"
           }
          ],
          "barpolar": [
           {
            "marker": {
             "line": {
              "color": "#E5ECF6",
              "width": 0.5
             },
             "pattern": {
              "fillmode": "overlay",
              "size": 10,
              "solidity": 0.2
             }
            },
            "type": "barpolar"
           }
          ],
          "carpet": [
           {
            "aaxis": {
             "endlinecolor": "#2a3f5f",
             "gridcolor": "white",
             "linecolor": "white",
             "minorgridcolor": "white",
             "startlinecolor": "#2a3f5f"
            },
            "baxis": {
             "endlinecolor": "#2a3f5f",
             "gridcolor": "white",
             "linecolor": "white",
             "minorgridcolor": "white",
             "startlinecolor": "#2a3f5f"
            },
            "type": "carpet"
           }
          ],
          "choropleth": [
           {
            "colorbar": {
             "outlinewidth": 0,
             "ticks": ""
            },
            "type": "choropleth"
           }
          ],
          "contour": [
           {
            "colorbar": {
             "outlinewidth": 0,
             "ticks": ""
            },
            "colorscale": [
             [
              0,
              "#0d0887"
             ],
             [
              0.1111111111111111,
              "#46039f"
             ],
             [
              0.2222222222222222,
              "#7201a8"
             ],
             [
              0.3333333333333333,
              "#9c179e"
             ],
             [
              0.4444444444444444,
              "#bd3786"
             ],
             [
              0.5555555555555556,
              "#d8576b"
             ],
             [
              0.6666666666666666,
              "#ed7953"
             ],
             [
              0.7777777777777778,
              "#fb9f3a"
             ],
             [
              0.8888888888888888,
              "#fdca26"
             ],
             [
              1,
              "#f0f921"
             ]
            ],
            "type": "contour"
           }
          ],
          "contourcarpet": [
           {
            "colorbar": {
             "outlinewidth": 0,
             "ticks": ""
            },
            "type": "contourcarpet"
           }
          ],
          "heatmap": [
           {
            "colorbar": {
             "outlinewidth": 0,
             "ticks": ""
            },
            "colorscale": [
             [
              0,
              "#0d0887"
             ],
             [
              0.1111111111111111,
              "#46039f"
             ],
             [
              0.2222222222222222,
              "#7201a8"
             ],
             [
              0.3333333333333333,
              "#9c179e"
             ],
             [
              0.4444444444444444,
              "#bd3786"
             ],
             [
              0.5555555555555556,
              "#d8576b"
             ],
             [
              0.6666666666666666,
              "#ed7953"
             ],
             [
              0.7777777777777778,
              "#fb9f3a"
             ],
             [
              0.8888888888888888,
              "#fdca26"
             ],
             [
              1,
              "#f0f921"
             ]
            ],
            "type": "heatmap"
           }
          ],
          "heatmapgl": [
           {
            "colorbar": {
             "outlinewidth": 0,
             "ticks": ""
            },
            "colorscale": [
             [
              0,
              "#0d0887"
             ],
             [
              0.1111111111111111,
              "#46039f"
             ],
             [
              0.2222222222222222,
              "#7201a8"
             ],
             [
              0.3333333333333333,
              "#9c179e"
             ],
             [
              0.4444444444444444,
              "#bd3786"
             ],
             [
              0.5555555555555556,
              "#d8576b"
             ],
             [
              0.6666666666666666,
              "#ed7953"
             ],
             [
              0.7777777777777778,
              "#fb9f3a"
             ],
             [
              0.8888888888888888,
              "#fdca26"
             ],
             [
              1,
              "#f0f921"
             ]
            ],
            "type": "heatmapgl"
           }
          ],
          "histogram": [
           {
            "marker": {
             "pattern": {
              "fillmode": "overlay",
              "size": 10,
              "solidity": 0.2
             }
            },
            "type": "histogram"
           }
          ],
          "histogram2d": [
           {
            "colorbar": {
             "outlinewidth": 0,
             "ticks": ""
            },
            "colorscale": [
             [
              0,
              "#0d0887"
             ],
             [
              0.1111111111111111,
              "#46039f"
             ],
             [
              0.2222222222222222,
              "#7201a8"
             ],
             [
              0.3333333333333333,
              "#9c179e"
             ],
             [
              0.4444444444444444,
              "#bd3786"
             ],
             [
              0.5555555555555556,
              "#d8576b"
             ],
             [
              0.6666666666666666,
              "#ed7953"
             ],
             [
              0.7777777777777778,
              "#fb9f3a"
             ],
             [
              0.8888888888888888,
              "#fdca26"
             ],
             [
              1,
              "#f0f921"
             ]
            ],
            "type": "histogram2d"
           }
          ],
          "histogram2dcontour": [
           {
            "colorbar": {
             "outlinewidth": 0,
             "ticks": ""
            },
            "colorscale": [
             [
              0,
              "#0d0887"
             ],
             [
              0.1111111111111111,
              "#46039f"
             ],
             [
              0.2222222222222222,
              "#7201a8"
             ],
             [
              0.3333333333333333,
              "#9c179e"
             ],
             [
              0.4444444444444444,
              "#bd3786"
             ],
             [
              0.5555555555555556,
              "#d8576b"
             ],
             [
              0.6666666666666666,
              "#ed7953"
             ],
             [
              0.7777777777777778,
              "#fb9f3a"
             ],
             [
              0.8888888888888888,
              "#fdca26"
             ],
             [
              1,
              "#f0f921"
             ]
            ],
            "type": "histogram2dcontour"
           }
          ],
          "mesh3d": [
           {
            "colorbar": {
             "outlinewidth": 0,
             "ticks": ""
            },
            "type": "mesh3d"
           }
          ],
          "parcoords": [
           {
            "line": {
             "colorbar": {
              "outlinewidth": 0,
              "ticks": ""
             }
            },
            "type": "parcoords"
           }
          ],
          "pie": [
           {
            "automargin": true,
            "type": "pie"
           }
          ],
          "scatter": [
           {
            "marker": {
             "colorbar": {
              "outlinewidth": 0,
              "ticks": ""
             }
            },
            "type": "scatter"
           }
          ],
          "scatter3d": [
           {
            "line": {
             "colorbar": {
              "outlinewidth": 0,
              "ticks": ""
             }
            },
            "marker": {
             "colorbar": {
              "outlinewidth": 0,
              "ticks": ""
             }
            },
            "type": "scatter3d"
           }
          ],
          "scattercarpet": [
           {
            "marker": {
             "colorbar": {
              "outlinewidth": 0,
              "ticks": ""
             }
            },
            "type": "scattercarpet"
           }
          ],
          "scattergeo": [
           {
            "marker": {
             "colorbar": {
              "outlinewidth": 0,
              "ticks": ""
             }
            },
            "type": "scattergeo"
           }
          ],
          "scattergl": [
           {
            "marker": {
             "colorbar": {
              "outlinewidth": 0,
              "ticks": ""
             }
            },
            "type": "scattergl"
           }
          ],
          "scattermapbox": [
           {
            "marker": {
             "colorbar": {
              "outlinewidth": 0,
              "ticks": ""
             }
            },
            "type": "scattermapbox"
           }
          ],
          "scatterpolar": [
           {
            "marker": {
             "colorbar": {
              "outlinewidth": 0,
              "ticks": ""
             }
            },
            "type": "scatterpolar"
           }
          ],
          "scatterpolargl": [
           {
            "marker": {
             "colorbar": {
              "outlinewidth": 0,
              "ticks": ""
             }
            },
            "type": "scatterpolargl"
           }
          ],
          "scatterternary": [
           {
            "marker": {
             "colorbar": {
              "outlinewidth": 0,
              "ticks": ""
             }
            },
            "type": "scatterternary"
           }
          ],
          "surface": [
           {
            "colorbar": {
             "outlinewidth": 0,
             "ticks": ""
            },
            "colorscale": [
             [
              0,
              "#0d0887"
             ],
             [
              0.1111111111111111,
              "#46039f"
             ],
             [
              0.2222222222222222,
              "#7201a8"
             ],
             [
              0.3333333333333333,
              "#9c179e"
             ],
             [
              0.4444444444444444,
              "#bd3786"
             ],
             [
              0.5555555555555556,
              "#d8576b"
             ],
             [
              0.6666666666666666,
              "#ed7953"
             ],
             [
              0.7777777777777778,
              "#fb9f3a"
             ],
             [
              0.8888888888888888,
              "#fdca26"
             ],
             [
              1,
              "#f0f921"
             ]
            ],
            "type": "surface"
           }
          ],
          "table": [
           {
            "cells": {
             "fill": {
              "color": "#EBF0F8"
             },
             "line": {
              "color": "white"
             }
            },
            "header": {
             "fill": {
              "color": "#C8D4E3"
             },
             "line": {
              "color": "white"
             }
            },
            "type": "table"
           }
          ]
         },
         "layout": {
          "annotationdefaults": {
           "arrowcolor": "#2a3f5f",
           "arrowhead": 0,
           "arrowwidth": 1
          },
          "autotypenumbers": "strict",
          "coloraxis": {
           "colorbar": {
            "outlinewidth": 0,
            "ticks": ""
           }
          },
          "colorscale": {
           "diverging": [
            [
             0,
             "#8e0152"
            ],
            [
             0.1,
             "#c51b7d"
            ],
            [
             0.2,
             "#de77ae"
            ],
            [
             0.3,
             "#f1b6da"
            ],
            [
             0.4,
             "#fde0ef"
            ],
            [
             0.5,
             "#f7f7f7"
            ],
            [
             0.6,
             "#e6f5d0"
            ],
            [
             0.7,
             "#b8e186"
            ],
            [
             0.8,
             "#7fbc41"
            ],
            [
             0.9,
             "#4d9221"
            ],
            [
             1,
             "#276419"
            ]
           ],
           "sequential": [
            [
             0,
             "#0d0887"
            ],
            [
             0.1111111111111111,
             "#46039f"
            ],
            [
             0.2222222222222222,
             "#7201a8"
            ],
            [
             0.3333333333333333,
             "#9c179e"
            ],
            [
             0.4444444444444444,
             "#bd3786"
            ],
            [
             0.5555555555555556,
             "#d8576b"
            ],
            [
             0.6666666666666666,
             "#ed7953"
            ],
            [
             0.7777777777777778,
             "#fb9f3a"
            ],
            [
             0.8888888888888888,
             "#fdca26"
            ],
            [
             1,
             "#f0f921"
            ]
           ],
           "sequentialminus": [
            [
             0,
             "#0d0887"
            ],
            [
             0.1111111111111111,
             "#46039f"
            ],
            [
             0.2222222222222222,
             "#7201a8"
            ],
            [
             0.3333333333333333,
             "#9c179e"
            ],
            [
             0.4444444444444444,
             "#bd3786"
            ],
            [
             0.5555555555555556,
             "#d8576b"
            ],
            [
             0.6666666666666666,
             "#ed7953"
            ],
            [
             0.7777777777777778,
             "#fb9f3a"
            ],
            [
             0.8888888888888888,
             "#fdca26"
            ],
            [
             1,
             "#f0f921"
            ]
           ]
          },
          "colorway": [
           "#636efa",
           "#EF553B",
           "#00cc96",
           "#ab63fa",
           "#FFA15A",
           "#19d3f3",
           "#FF6692",
           "#B6E880",
           "#FF97FF",
           "#FECB52"
          ],
          "font": {
           "color": "#2a3f5f"
          },
          "geo": {
           "bgcolor": "white",
           "lakecolor": "white",
           "landcolor": "#E5ECF6",
           "showlakes": true,
           "showland": true,
           "subunitcolor": "white"
          },
          "hoverlabel": {
           "align": "left"
          },
          "hovermode": "closest",
          "mapbox": {
           "style": "light"
          },
          "paper_bgcolor": "white",
          "plot_bgcolor": "#E5ECF6",
          "polar": {
           "angularaxis": {
            "gridcolor": "white",
            "linecolor": "white",
            "ticks": ""
           },
           "bgcolor": "#E5ECF6",
           "radialaxis": {
            "gridcolor": "white",
            "linecolor": "white",
            "ticks": ""
           }
          },
          "scene": {
           "xaxis": {
            "backgroundcolor": "#E5ECF6",
            "gridcolor": "white",
            "gridwidth": 2,
            "linecolor": "white",
            "showbackground": true,
            "ticks": "",
            "zerolinecolor": "white"
           },
           "yaxis": {
            "backgroundcolor": "#E5ECF6",
            "gridcolor": "white",
            "gridwidth": 2,
            "linecolor": "white",
            "showbackground": true,
            "ticks": "",
            "zerolinecolor": "white"
           },
           "zaxis": {
            "backgroundcolor": "#E5ECF6",
            "gridcolor": "white",
            "gridwidth": 2,
            "linecolor": "white",
            "showbackground": true,
            "ticks": "",
            "zerolinecolor": "white"
           }
          },
          "shapedefaults": {
           "line": {
            "color": "#2a3f5f"
           }
          },
          "ternary": {
           "aaxis": {
            "gridcolor": "white",
            "linecolor": "white",
            "ticks": ""
           },
           "baxis": {
            "gridcolor": "white",
            "linecolor": "white",
            "ticks": ""
           },
           "bgcolor": "#E5ECF6",
           "caxis": {
            "gridcolor": "white",
            "linecolor": "white",
            "ticks": ""
           }
          },
          "title": {
           "x": 0.05
          },
          "xaxis": {
           "automargin": true,
           "gridcolor": "white",
           "linecolor": "white",
           "ticks": "",
           "title": {
            "standoff": 15
           },
           "zerolinecolor": "white",
           "zerolinewidth": 2
          },
          "yaxis": {
           "automargin": true,
           "gridcolor": "white",
           "linecolor": "white",
           "ticks": "",
           "title": {
            "standoff": 15
           },
           "zerolinecolor": "white",
           "zerolinewidth": 2
          }
         }
        },
        "xaxis": {
         "anchor": "y",
         "domain": [
          0,
          1
         ],
         "title": {
          "text": "index"
         }
        },
        "yaxis": {
         "anchor": "x",
         "domain": [
          0,
          1
         ],
         "title": {
          "text": "value"
         }
        }
       }
      },
      "text/html": [
       "<div>                            <div id=\"18b33ad2-0d12-46f5-b07a-c77fa2f6b139\" class=\"plotly-graph-div\" style=\"height:525px; width:100%;\"></div>            <script type=\"text/javascript\">                require([\"plotly\"], function(Plotly) {                    window.PLOTLYENV=window.PLOTLYENV || {};                                    if (document.getElementById(\"18b33ad2-0d12-46f5-b07a-c77fa2f6b139\")) {                    Plotly.newPlot(                        \"18b33ad2-0d12-46f5-b07a-c77fa2f6b139\",                        [{\"hovertemplate\":\"variable=wide_variable_0<br>index=%{x}<br>value=%{y}<extra></extra>\",\"legendgroup\":\"wide_variable_0\",\"line\":{\"color\":\"#636efa\",\"dash\":\"solid\"},\"marker\":{\"symbol\":\"circle\"},\"mode\":\"lines\",\"name\":\"wide_variable_0\",\"orientation\":\"v\",\"showlegend\":true,\"x\":[0,1,2,3,4,5,6,7,8,9,10,11,12,13,14,15,16,17,18,19,20,21,22,23,24,25,26,27,28,29,30,31],\"xaxis\":\"x\",\"y\":[-1.0773956030845229e-11,-4.109089887375937e-10,-8.81475761709555e-09,-9.634833970542848e-08,-3.2954742429659675e-07,3.86718645598494e-06,6.850134948305525e-05,0.0006557249425163203,0.004180792907018005,0.01635433886021621,0.037007623585031305,0.04483242031118546,0.02106692104918306,-0.008898255691776331,-0.01275412441094454,-0.003332243388702485,-0.0004878832826233784,-0.0004340912342909791,0.00020939462845273674,-2.4531696163574012e-05,-7.06481820998589e-05,6.816365909775428e-05,-2.5718630013652108e-05,-7.803249367109562e-06,1.7229287630023058e-05,-1.0760489647474104e-05,1.5016805771340316e-06,3.3198009268051634e-06,-3.3427010030928866e-06,1.3249227205853485e-06,3.309375578672106e-07,0.0],\"yaxis\":\"y\",\"type\":\"scatter\"},{\"hovertemplate\":\"variable=wide_variable_1<br>index=%{x}<br>value=%{y}<extra></extra>\",\"legendgroup\":\"wide_variable_1\",\"line\":{\"color\":\"#EF553B\",\"dash\":\"solid\"},\"marker\":{\"symbol\":\"circle\"},\"mode\":\"lines\",\"name\":\"wide_variable_1\",\"orientation\":\"v\",\"showlegend\":true,\"x\":[0,1,2,3,4,5,6,7,8,9,10,11,12,13,14,15,16,17,18,19,20,21,22,23,24,25,26,27,28,29,30,31],\"xaxis\":\"x\",\"y\":[-1.3778416061866885e-11,-5.329693463312298e-10,-1.15708563672168e-08,-1.3007780589188627e-07,-5.151692308402637e-07,4.069091363098718e-06,8.019869837800637e-05,0.0007880691830998946,0.005221669724686205,0.02181696442964218,0.05527478010988788,0.08333594039177304,0.07157676310288005,0.030838617947594783,0.004522987061381459,0.00044452048897869955,0.0002520431109216947,-0.0003126783360934574,0.00011845728394529944,2.834583765901946e-05,-7.436226404042223e-05,4.856094160010298e-05,-8.216994960757955e-06,-1.3807168350936885e-05,1.47351029614292e-05,-6.189745010125436e-06,-1.1738491790137908e-06,3.5720532357844007e-06,-2.4184288363254796e-06,4.643183948016543e-07,6.426674299927991e-07,0.0],\"yaxis\":\"y\",\"type\":\"scatter\"},{\"hovertemplate\":\"variable=wide_variable_2<br>index=%{x}<br>value=%{y}<extra></extra>\",\"legendgroup\":\"wide_variable_2\",\"line\":{\"color\":\"#00cc96\",\"dash\":\"solid\"},\"marker\":{\"symbol\":\"circle\"},\"mode\":\"lines\",\"name\":\"wide_variable_2\",\"orientation\":\"v\",\"showlegend\":true,\"x\":[0,1,2,3,4,5,6,7,8,9,10,11,12,13,14,15,16,17,18,19,20,21,22,23,24,25,26,27,28,29,30,31],\"xaxis\":\"x\",\"y\":[-1.8022961476643592e-11,-7.054098933182683e-10,-1.546452983656261e-08,-1.7772904756805217e-07,-7.774060986010158e-07,4.354332151414107e-06,9.672410663921218e-05,0.0009750382669755397,0.006692166545467193,0.029534278713721496,0.08108167208648775,0.13773171797688727,0.14293445010037045,0.08697681351753174,0.028931194700445976,0.005780136750864766,0.0012973727703500517,-0.00014115248618431486,-1.0014283216722673e-05,0.00010304847687338347,-7.960932651026718e-05,2.0867238301435732e-05,1.650840795618343e-05,-2.228919391638572e-05,1.1211448131816974e-05,2.6756611808291765e-07,-4.9536989494546e-06,3.928422224018391e-06,-1.1126650228776895e-06,-7.514987927213906e-07,1.0830632367992735e-06,0.0],\"yaxis\":\"y\",\"type\":\"scatter\"},{\"hovertemplate\":\"variable=wide_variable_3<br>index=%{x}<br>value=%{y}<extra></extra>\",\"legendgroup\":\"wide_variable_3\",\"line\":{\"color\":\"#ab63fa\",\"dash\":\"solid\"},\"marker\":{\"symbol\":\"circle\"},\"mode\":\"lines\",\"name\":\"wide_variable_3\",\"orientation\":\"v\",\"showlegend\":true,\"x\":[0,1,2,3,4,5,6,7,8,9,10,11,12,13,14,15,16,17,18,19,20,21,22,23,24,25,26,27,28,29,30,31],\"xaxis\":\"x\",\"y\":[-2.1027421507665265e-11,-8.27470250911905e-10,-1.8220628586683877e-08,-2.1145851375450984e-07,-9.63027905144683e-07,4.556237058527885e-06,0.00010842145553416333,0.0011073825075591137,0.007733043363135392,0.034996904283147466,0.09934882861134434,0.17623523805747485,0.1934442921540675,0.12671368715690282,0.04620830617277198,0.00955690062854596,0.0020372991638951247,-1.9739587986793215e-05,-0.00010095162772415998,0.0001559260106959769,-8.332340845083049e-05,1.2645208037844233e-06,3.401004300907759e-05,-2.8293112900213045e-05,8.717263463223123e-06,4.838310755431584e-06,-7.6292287056024225e-06,4.180674532997629e-06,-1.883928561102821e-07,-1.6121031185050848e-06,1.394793108924862e-06,0.0],\"yaxis\":\"y\",\"type\":\"scatter\"},{\"hovertemplate\":\"variable=wide_variable_4<br>index=%{x}<br>value=%{y}<extra></extra>\",\"legendgroup\":\"wide_variable_4\",\"line\":{\"color\":\"#FFA15A\",\"dash\":\"solid\"},\"marker\":{\"symbol\":\"circle\"},\"mode\":\"lines\",\"name\":\"wide_variable_4\",\"orientation\":\"v\",\"showlegend\":true,\"x\":[0,1,2,3,4,5,6,7,8,9,10,11,12,13,14,15,16,17,18,19,20,21,22,23,24,25,26,27,28,29,30,31],\"xaxis\":\"x\",\"y\":[-1.2720551015404194e-10,-4.826311448443948e-09,-1.0331523336667366e-07,-1.127912180473078e-06,-4.042389137292041e-06,3.7736083195343355e-05,0.000669955136873531,0.006382474663428207,0.04127287041718538,0.16413210215626928,0.3812937066292332,0.5029769268454068,0.35506792596759434,0.11619379989291105,0.01762292715439835,0.007275701804975541,-0.001078038279888561,-0.0007372850092225281,0.0011710570121368348,-0.000645479754007223,2.95933918044654e-05,0.0002481193278016895,-0.00021495367581998755,7.056822675069714e-05,3.321797762228757e-05,-5.690669319045763e-05,3.2396500676584074e-05,-2.394598837372911e-06,-1.1729776599439764e-05,1.0581055007760819e-05,-3.6781323405925288e-06,0.0],\"yaxis\":\"y\",\"type\":\"scatter\"},{\"hovertemplate\":\"variable=wide_variable_5<br>index=%{x}<br>value=%{y}<extra></extra>\",\"legendgroup\":\"wide_variable_5\",\"line\":{\"color\":\"#19d3f3\",\"dash\":\"solid\"},\"marker\":{\"symbol\":\"circle\"},\"mode\":\"lines\",\"name\":\"wide_variable_5\",\"orientation\":\"v\",\"showlegend\":true,\"x\":[0,1,2,3,4,5,6,7,8,9,10,11,12,13,14,15,16,17,18,19,20,21,22,23,24,25,26,27,28,29,30,31],\"xaxis\":\"x\",\"y\":[3.1394566677342376e-11,1.2440532660670297e-09,2.7555306714301378e-08,3.2489470568337577e-07,1.6147270972807623e-06,-3.7244962416253554e-06,-0.0001185048548027963,-0.001264402570312921,-0.009612053204694392,-0.04746867374855497,-0.14341070477659207,-0.2589249282494007,-0.26886861463144507,-0.14635472538288158,-0.03417935478771393,-0.005285262533928599,-0.0024464657162811486,0.0011777833944679645,-0.00022754990954176505,-0.00032498440417394497,0.00036379403782664407,-0.00015895895425662,-2.392124483318313e-05,8.665812031727216e-05,-6.0595584595288266e-05,1.2834407611498644e-05,1.5123061104779538e-05,-1.7758926402368224e-05,8.100910030712977e-06,8.918206462326238e-07,-4.149186081191753e-06,0.0],\"yaxis\":\"y\",\"type\":\"scatter\"}],                        {\"template\":{\"data\":{\"bar\":[{\"error_x\":{\"color\":\"#2a3f5f\"},\"error_y\":{\"color\":\"#2a3f5f\"},\"marker\":{\"line\":{\"color\":\"#E5ECF6\",\"width\":0.5},\"pattern\":{\"fillmode\":\"overlay\",\"size\":10,\"solidity\":0.2}},\"type\":\"bar\"}],\"barpolar\":[{\"marker\":{\"line\":{\"color\":\"#E5ECF6\",\"width\":0.5},\"pattern\":{\"fillmode\":\"overlay\",\"size\":10,\"solidity\":0.2}},\"type\":\"barpolar\"}],\"carpet\":[{\"aaxis\":{\"endlinecolor\":\"#2a3f5f\",\"gridcolor\":\"white\",\"linecolor\":\"white\",\"minorgridcolor\":\"white\",\"startlinecolor\":\"#2a3f5f\"},\"baxis\":{\"endlinecolor\":\"#2a3f5f\",\"gridcolor\":\"white\",\"linecolor\":\"white\",\"minorgridcolor\":\"white\",\"startlinecolor\":\"#2a3f5f\"},\"type\":\"carpet\"}],\"choropleth\":[{\"colorbar\":{\"outlinewidth\":0,\"ticks\":\"\"},\"type\":\"choropleth\"}],\"contour\":[{\"colorbar\":{\"outlinewidth\":0,\"ticks\":\"\"},\"colorscale\":[[0.0,\"#0d0887\"],[0.1111111111111111,\"#46039f\"],[0.2222222222222222,\"#7201a8\"],[0.3333333333333333,\"#9c179e\"],[0.4444444444444444,\"#bd3786\"],[0.5555555555555556,\"#d8576b\"],[0.6666666666666666,\"#ed7953\"],[0.7777777777777778,\"#fb9f3a\"],[0.8888888888888888,\"#fdca26\"],[1.0,\"#f0f921\"]],\"type\":\"contour\"}],\"contourcarpet\":[{\"colorbar\":{\"outlinewidth\":0,\"ticks\":\"\"},\"type\":\"contourcarpet\"}],\"heatmap\":[{\"colorbar\":{\"outlinewidth\":0,\"ticks\":\"\"},\"colorscale\":[[0.0,\"#0d0887\"],[0.1111111111111111,\"#46039f\"],[0.2222222222222222,\"#7201a8\"],[0.3333333333333333,\"#9c179e\"],[0.4444444444444444,\"#bd3786\"],[0.5555555555555556,\"#d8576b\"],[0.6666666666666666,\"#ed7953\"],[0.7777777777777778,\"#fb9f3a\"],[0.8888888888888888,\"#fdca26\"],[1.0,\"#f0f921\"]],\"type\":\"heatmap\"}],\"heatmapgl\":[{\"colorbar\":{\"outlinewidth\":0,\"ticks\":\"\"},\"colorscale\":[[0.0,\"#0d0887\"],[0.1111111111111111,\"#46039f\"],[0.2222222222222222,\"#7201a8\"],[0.3333333333333333,\"#9c179e\"],[0.4444444444444444,\"#bd3786\"],[0.5555555555555556,\"#d8576b\"],[0.6666666666666666,\"#ed7953\"],[0.7777777777777778,\"#fb9f3a\"],[0.8888888888888888,\"#fdca26\"],[1.0,\"#f0f921\"]],\"type\":\"heatmapgl\"}],\"histogram\":[{\"marker\":{\"pattern\":{\"fillmode\":\"overlay\",\"size\":10,\"solidity\":0.2}},\"type\":\"histogram\"}],\"histogram2d\":[{\"colorbar\":{\"outlinewidth\":0,\"ticks\":\"\"},\"colorscale\":[[0.0,\"#0d0887\"],[0.1111111111111111,\"#46039f\"],[0.2222222222222222,\"#7201a8\"],[0.3333333333333333,\"#9c179e\"],[0.4444444444444444,\"#bd3786\"],[0.5555555555555556,\"#d8576b\"],[0.6666666666666666,\"#ed7953\"],[0.7777777777777778,\"#fb9f3a\"],[0.8888888888888888,\"#fdca26\"],[1.0,\"#f0f921\"]],\"type\":\"histogram2d\"}],\"histogram2dcontour\":[{\"colorbar\":{\"outlinewidth\":0,\"ticks\":\"\"},\"colorscale\":[[0.0,\"#0d0887\"],[0.1111111111111111,\"#46039f\"],[0.2222222222222222,\"#7201a8\"],[0.3333333333333333,\"#9c179e\"],[0.4444444444444444,\"#bd3786\"],[0.5555555555555556,\"#d8576b\"],[0.6666666666666666,\"#ed7953\"],[0.7777777777777778,\"#fb9f3a\"],[0.8888888888888888,\"#fdca26\"],[1.0,\"#f0f921\"]],\"type\":\"histogram2dcontour\"}],\"mesh3d\":[{\"colorbar\":{\"outlinewidth\":0,\"ticks\":\"\"},\"type\":\"mesh3d\"}],\"parcoords\":[{\"line\":{\"colorbar\":{\"outlinewidth\":0,\"ticks\":\"\"}},\"type\":\"parcoords\"}],\"pie\":[{\"automargin\":true,\"type\":\"pie\"}],\"scatter\":[{\"marker\":{\"colorbar\":{\"outlinewidth\":0,\"ticks\":\"\"}},\"type\":\"scatter\"}],\"scatter3d\":[{\"line\":{\"colorbar\":{\"outlinewidth\":0,\"ticks\":\"\"}},\"marker\":{\"colorbar\":{\"outlinewidth\":0,\"ticks\":\"\"}},\"type\":\"scatter3d\"}],\"scattercarpet\":[{\"marker\":{\"colorbar\":{\"outlinewidth\":0,\"ticks\":\"\"}},\"type\":\"scattercarpet\"}],\"scattergeo\":[{\"marker\":{\"colorbar\":{\"outlinewidth\":0,\"ticks\":\"\"}},\"type\":\"scattergeo\"}],\"scattergl\":[{\"marker\":{\"colorbar\":{\"outlinewidth\":0,\"ticks\":\"\"}},\"type\":\"scattergl\"}],\"scattermapbox\":[{\"marker\":{\"colorbar\":{\"outlinewidth\":0,\"ticks\":\"\"}},\"type\":\"scattermapbox\"}],\"scatterpolar\":[{\"marker\":{\"colorbar\":{\"outlinewidth\":0,\"ticks\":\"\"}},\"type\":\"scatterpolar\"}],\"scatterpolargl\":[{\"marker\":{\"colorbar\":{\"outlinewidth\":0,\"ticks\":\"\"}},\"type\":\"scatterpolargl\"}],\"scatterternary\":[{\"marker\":{\"colorbar\":{\"outlinewidth\":0,\"ticks\":\"\"}},\"type\":\"scatterternary\"}],\"surface\":[{\"colorbar\":{\"outlinewidth\":0,\"ticks\":\"\"},\"colorscale\":[[0.0,\"#0d0887\"],[0.1111111111111111,\"#46039f\"],[0.2222222222222222,\"#7201a8\"],[0.3333333333333333,\"#9c179e\"],[0.4444444444444444,\"#bd3786\"],[0.5555555555555556,\"#d8576b\"],[0.6666666666666666,\"#ed7953\"],[0.7777777777777778,\"#fb9f3a\"],[0.8888888888888888,\"#fdca26\"],[1.0,\"#f0f921\"]],\"type\":\"surface\"}],\"table\":[{\"cells\":{\"fill\":{\"color\":\"#EBF0F8\"},\"line\":{\"color\":\"white\"}},\"header\":{\"fill\":{\"color\":\"#C8D4E3\"},\"line\":{\"color\":\"white\"}},\"type\":\"table\"}]},\"layout\":{\"annotationdefaults\":{\"arrowcolor\":\"#2a3f5f\",\"arrowhead\":0,\"arrowwidth\":1},\"autotypenumbers\":\"strict\",\"coloraxis\":{\"colorbar\":{\"outlinewidth\":0,\"ticks\":\"\"}},\"colorscale\":{\"diverging\":[[0,\"#8e0152\"],[0.1,\"#c51b7d\"],[0.2,\"#de77ae\"],[0.3,\"#f1b6da\"],[0.4,\"#fde0ef\"],[0.5,\"#f7f7f7\"],[0.6,\"#e6f5d0\"],[0.7,\"#b8e186\"],[0.8,\"#7fbc41\"],[0.9,\"#4d9221\"],[1,\"#276419\"]],\"sequential\":[[0.0,\"#0d0887\"],[0.1111111111111111,\"#46039f\"],[0.2222222222222222,\"#7201a8\"],[0.3333333333333333,\"#9c179e\"],[0.4444444444444444,\"#bd3786\"],[0.5555555555555556,\"#d8576b\"],[0.6666666666666666,\"#ed7953\"],[0.7777777777777778,\"#fb9f3a\"],[0.8888888888888888,\"#fdca26\"],[1.0,\"#f0f921\"]],\"sequentialminus\":[[0.0,\"#0d0887\"],[0.1111111111111111,\"#46039f\"],[0.2222222222222222,\"#7201a8\"],[0.3333333333333333,\"#9c179e\"],[0.4444444444444444,\"#bd3786\"],[0.5555555555555556,\"#d8576b\"],[0.6666666666666666,\"#ed7953\"],[0.7777777777777778,\"#fb9f3a\"],[0.8888888888888888,\"#fdca26\"],[1.0,\"#f0f921\"]]},\"colorway\":[\"#636efa\",\"#EF553B\",\"#00cc96\",\"#ab63fa\",\"#FFA15A\",\"#19d3f3\",\"#FF6692\",\"#B6E880\",\"#FF97FF\",\"#FECB52\"],\"font\":{\"color\":\"#2a3f5f\"},\"geo\":{\"bgcolor\":\"white\",\"lakecolor\":\"white\",\"landcolor\":\"#E5ECF6\",\"showlakes\":true,\"showland\":true,\"subunitcolor\":\"white\"},\"hoverlabel\":{\"align\":\"left\"},\"hovermode\":\"closest\",\"mapbox\":{\"style\":\"light\"},\"paper_bgcolor\":\"white\",\"plot_bgcolor\":\"#E5ECF6\",\"polar\":{\"angularaxis\":{\"gridcolor\":\"white\",\"linecolor\":\"white\",\"ticks\":\"\"},\"bgcolor\":\"#E5ECF6\",\"radialaxis\":{\"gridcolor\":\"white\",\"linecolor\":\"white\",\"ticks\":\"\"}},\"scene\":{\"xaxis\":{\"backgroundcolor\":\"#E5ECF6\",\"gridcolor\":\"white\",\"gridwidth\":2,\"linecolor\":\"white\",\"showbackground\":true,\"ticks\":\"\",\"zerolinecolor\":\"white\"},\"yaxis\":{\"backgroundcolor\":\"#E5ECF6\",\"gridcolor\":\"white\",\"gridwidth\":2,\"linecolor\":\"white\",\"showbackground\":true,\"ticks\":\"\",\"zerolinecolor\":\"white\"},\"zaxis\":{\"backgroundcolor\":\"#E5ECF6\",\"gridcolor\":\"white\",\"gridwidth\":2,\"linecolor\":\"white\",\"showbackground\":true,\"ticks\":\"\",\"zerolinecolor\":\"white\"}},\"shapedefaults\":{\"line\":{\"color\":\"#2a3f5f\"}},\"ternary\":{\"aaxis\":{\"gridcolor\":\"white\",\"linecolor\":\"white\",\"ticks\":\"\"},\"baxis\":{\"gridcolor\":\"white\",\"linecolor\":\"white\",\"ticks\":\"\"},\"bgcolor\":\"#E5ECF6\",\"caxis\":{\"gridcolor\":\"white\",\"linecolor\":\"white\",\"ticks\":\"\"}},\"title\":{\"x\":0.05},\"xaxis\":{\"automargin\":true,\"gridcolor\":\"white\",\"linecolor\":\"white\",\"ticks\":\"\",\"title\":{\"standoff\":15},\"zerolinecolor\":\"white\",\"zerolinewidth\":2},\"yaxis\":{\"automargin\":true,\"gridcolor\":\"white\",\"linecolor\":\"white\",\"ticks\":\"\",\"title\":{\"standoff\":15},\"zerolinecolor\":\"white\",\"zerolinewidth\":2}}},\"xaxis\":{\"anchor\":\"y\",\"domain\":[0.0,1.0],\"title\":{\"text\":\"index\"}},\"yaxis\":{\"anchor\":\"x\",\"domain\":[0.0,1.0],\"title\":{\"text\":\"value\"}},\"legend\":{\"title\":{\"text\":\"variable\"},\"tracegroupgap\":0},\"margin\":{\"t\":60}},                        {\"responsive\": true}                    ).then(function(){\n",
       "                            \n",
       "var gd = document.getElementById('18b33ad2-0d12-46f5-b07a-c77fa2f6b139');\n",
       "var x = new MutationObserver(function (mutations, observer) {{\n",
       "        var display = window.getComputedStyle(gd).display;\n",
       "        if (!display || display === 'none') {{\n",
       "            console.log([gd, 'removed!']);\n",
       "            Plotly.purge(gd);\n",
       "            observer.disconnect();\n",
       "        }}\n",
       "}});\n",
       "\n",
       "// Listen for the removal of the full notebook cells\n",
       "var notebookContainer = gd.closest('#notebook-container');\n",
       "if (notebookContainer) {{\n",
       "    x.observe(notebookContainer, {childList: true});\n",
       "}}\n",
       "\n",
       "// Listen for the clearing of the current output cell\n",
       "var outputEl = gd.closest('.output');\n",
       "if (outputEl) {{\n",
       "    x.observe(outputEl, {childList: true});\n",
       "}}\n",
       "\n",
       "                        })                };                });            </script>        </div>"
      ]
     },
     "metadata": {},
     "output_type": "display_data"
    }
   ],
   "source": [
    "nT = 32\n",
    "t  = np.arange(1, nT+1)  \n",
    "u  = torch.tensor(np.exp(-(t - 12)**2/4)).unsqueeze(-1)\n",
    "gen = DEMInversion(genmodel, states_embedding_order=7).generate(nT, u)\n",
    "y   = gen.v[:,0,:4,0]\n",
    "px.line(y=[*y.T] + [*gen.x[:, 0, :, 0].T])"
   ]
  },
  {
   "cell_type": "code",
   "execution_count": 57,
   "id": "2548b370",
   "metadata": {},
   "outputs": [],
   "source": [
    "nps = (torch.numel(theta1),torch.numel(theta2),torch.numel(theta3))\n",
    "models = [\n",
    "    GaussianModel(\n",
    "        g=lambda x, v, P: P[:nps[0]].reshape(theta1.shape) @ x, \n",
    "        f=lambda x, v, P: P[nps[0]:nps[0] + nps[1]].reshape(theta2.shape) @ x \\\n",
    "                        + P[-nps[2]:].reshape(theta3.shape) @ v,\n",
    "        n=2, sv=1./2,sw=1./2,\n",
    "        V=torch.tensor([np.exp(8.)]), \n",
    "        W=torch.tensor([np.exp(16.)]), \n",
    "        pE=pE, pC=torch.ones_like(pE) * np.exp(-32)\n",
    "    ), \n",
    "    GaussianModel(l=1, V=torch.tensor([np.exp(0.)]))\n",
    "]\n",
    "decmodel = HierarchicalGaussianModel(*models)"
   ]
  },
  {
   "cell_type": "code",
   "execution_count": 58,
   "id": "cf2910f6",
   "metadata": {
    "scrolled": true
   },
   "outputs": [
    {
     "name": "stdout",
     "output_type": "stream",
     "text": [
      "Li:  tensor(-inf)\n",
      "Ai:  tensor(-inf)\n",
      "Fi:  tensor(-inf)\n",
      "reg:  tensor(2.0880e-14)\n",
      "mh:  tensor([])\n",
      "dp:  tensor(2.8074e-11)\n",
      "qp:  tensor(2.8074e-11)\n",
      "Li:  tensor(-inf)\n",
      "Ai:  tensor(-inf)\n",
      "mh:  tensor([])\n",
      "dp:  tensor(0.)\n",
      "qp:  tensor(0.)\n"
     ]
    }
   ],
   "source": [
    "deminv  = DEMInversion(decmodel, states_embedding_order=12)\n",
    "results = deminv.run(y, nD=1, nE=2, nM=2, K=1, td=1)"
   ]
  },
  {
   "cell_type": "code",
   "execution_count": 59,
   "id": "d18bb884",
   "metadata": {},
   "outputs": [
    {
     "data": {
      "application/vnd.plotly.v1+json": {
       "config": {
        "plotlyServerURL": "https://plot.ly"
       },
       "data": [
        {
         "line": {
          "color": "#4C78A8"
         },
         "showlegend": false,
         "type": "scatter",
         "xaxis": "x",
         "y": [
          -1.0773956030845229e-11,
          -4.109089887375937e-10,
          -8.81475761709555e-09,
          -9.634833970542848e-08,
          -3.2954742429659675e-07,
          3.86718645598494e-06,
          6.850134948305525e-05,
          0.0006557249425163203,
          0.004180792907018005,
          0.01635433886021621,
          0.037007623585031305,
          0.04483242031118546,
          0.02106692104918306,
          -0.008898255691776331,
          -0.01275412441094454,
          -0.003332243388702485,
          -0.0004878832826233784,
          -0.0004340912342909791,
          0.00020939462845273674,
          -2.4531696163574012e-05,
          -7.06481820998589e-05,
          6.816365909775428e-05,
          -2.5718630013652108e-05,
          -7.803249367109562e-06,
          1.7229287630023058e-05,
          -1.0760489647474104e-05,
          1.5016805771340316e-06,
          3.3198009268051634e-06,
          -3.3427010030928866e-06,
          1.3249227205853485e-06,
          3.309375578672106e-07,
          0
         ],
         "yaxis": "y"
        },
        {
         "line": {
          "color": "#4C78A8",
          "dash": "dash"
         },
         "showlegend": false,
         "type": "scatter",
         "xaxis": "x",
         "y": [
          -1.0773956044201858e-11,
          -1.0773956150164927e-11,
          -4.109089882079804e-10,
          -8.814757613143229e-09,
          -9.634833972946623e-08,
          -3.2954742435707326e-07,
          3.8671864562055825e-06,
          3.8671864562055825e-06,
          6.85013494830661e-05,
          0.0006557249425153553,
          0.004180792907019288,
          0.016354338860217237,
          0.03700762358502724,
          0.04483242031118766,
          0.021066921049187382,
          -0.008898255691782257,
          -0.012754124410944857,
          -0.0033322433886977445,
          -0.0004878832826259204,
          -0.0004340912342918463,
          0.00020939462845434486,
          -2.45316961643261e-05,
          -7.064818209991579e-05,
          6.816365909810116e-05,
          -2.5718630013912154e-05,
          -7.803249367043577e-06,
          1.7229287630079104e-05,
          -1.0760489647547672e-05,
          1.5016805771702612e-06,
          3.3198009268071357e-06,
          -3.3427010031109733e-06,
          1.3249227206014144e-06
         ],
         "yaxis": "y"
        },
        {
         "line": {
          "color": "#F58518"
         },
         "showlegend": false,
         "type": "scatter",
         "xaxis": "x",
         "y": [
          -1.3778416061866885e-11,
          -5.329693463312298e-10,
          -1.15708563672168e-08,
          -1.3007780589188627e-07,
          -5.151692308402637e-07,
          4.069091363098718e-06,
          8.019869837800637e-05,
          0.0007880691830998946,
          0.005221669724686205,
          0.02181696442964218,
          0.05527478010988788,
          0.08333594039177304,
          0.07157676310288005,
          0.030838617947594783,
          0.004522987061381459,
          0.00044452048897869955,
          0.0002520431109216947,
          -0.0003126783360934574,
          0.00011845728394529944,
          2.834583765901946e-05,
          -7.436226404042223e-05,
          4.856094160010298e-05,
          -8.216994960757955e-06,
          -1.3807168350936885e-05,
          1.47351029614292e-05,
          -6.189745010125436e-06,
          -1.1738491790137908e-06,
          3.5720532357844007e-06,
          -2.4184288363254796e-06,
          4.643183948016543e-07,
          6.426674299927991e-07,
          0
         ],
         "yaxis": "y"
        },
        {
         "line": {
          "color": "#F58518",
          "dash": "dash"
         },
         "showlegend": false,
         "type": "scatter",
         "xaxis": "x",
         "y": [
          -1.3778416076803201e-11,
          -1.3778416216707567e-11,
          -5.329693458692423e-10,
          -1.1570856362037003e-08,
          -1.3007780591651685e-07,
          -5.151692309280221e-07,
          4.06909136331032e-06,
          4.06909136331032e-06,
          8.019869837814867e-05,
          0.0007880691830988122,
          0.005221669724687117,
          0.021816964429643964,
          0.05527478010988397,
          0.08333594039177349,
          0.07157676310288555,
          0.030838617947590574,
          0.004522987061378849,
          0.0004445204889830944,
          0.0002520431109208119,
          -0.0003126783360949253,
          0.00011845728394655263,
          2.834583765869206e-05,
          -7.436226404065115e-05,
          4.856094160042442e-05,
          -8.21699496092471e-06,
          -1.3807168350936615e-05,
          1.4735102961499409e-05,
          -6.189745010182814e-06,
          -1.1738491789967327e-06,
          3.5720532357950933e-06,
          -2.4184288363423428e-06,
          4.6431839481252913e-07
         ],
         "yaxis": "y"
        },
        {
         "line": {
          "color": "#E45756"
         },
         "showlegend": false,
         "type": "scatter",
         "xaxis": "x",
         "y": [
          -1.8022961476643592e-11,
          -7.054098933182683e-10,
          -1.546452983656261e-08,
          -1.7772904756805217e-07,
          -7.774060986010158e-07,
          4.354332151414107e-06,
          9.672410663921218e-05,
          0.0009750382669755397,
          0.006692166545467193,
          0.029534278713721496,
          0.08108167208648775,
          0.13773171797688727,
          0.14293445010037045,
          0.08697681351753174,
          0.028931194700445976,
          0.005780136750864766,
          0.0012973727703500517,
          -0.00014115248618431486,
          -1.0014283216722673e-05,
          0.00010304847687338347,
          -7.960932651026718e-05,
          2.0867238301435732e-05,
          1.650840795618343e-05,
          -2.228919391638572e-05,
          1.1211448131816974e-05,
          2.6756611808291765e-07,
          -4.9536989494546e-06,
          3.928422224018391e-06,
          -1.1126650228776895e-06,
          -7.514987927213906e-07,
          1.0830632367992735e-06,
          0
         ],
         "yaxis": "y"
        },
        {
         "line": {
          "color": "#E45756",
          "dash": "dash"
         },
         "showlegend": false,
         "type": "scatter",
         "xaxis": "x",
         "y": [
          -1.8022961493811606e-11,
          -1.8022961681666475e-11,
          -7.054098929518192e-10,
          -1.54645298296487e-08,
          -1.7772904759352025e-07,
          -7.77406098727317e-07,
          4.354332151612937e-06,
          4.354332151612937e-06,
          9.672410663954014e-05,
          0.0009750382669742915,
          0.006692166545467582,
          0.029534278713724348,
          0.08108167208648405,
          0.13773171797688524,
          0.14293445010037764,
          0.08697681351752996,
          0.02893119470044012,
          0.005780136750868671,
          0.001297372770351513,
          -0.0001411524861866313,
          -1.0014283215970933e-05,
          0.00010304847687365604,
          -7.960932651073909e-05,
          2.0867238301721172e-05,
          1.6508407956148462e-05,
          -2.2289193916478286e-05,
          1.1211448131907186e-05,
          2.6756611804841207e-07,
          -4.9536989494646255e-06,
          3.928422224041404e-06,
          -1.1126650228928235e-06,
          -7.514987927178494e-07
         ],
         "yaxis": "y"
        },
        {
         "line": {
          "color": "#72B7B2"
         },
         "showlegend": false,
         "type": "scatter",
         "xaxis": "x",
         "y": [
          -2.1027421507665265e-11,
          -8.27470250911905e-10,
          -1.8220628586683877e-08,
          -2.1145851375450984e-07,
          -9.63027905144683e-07,
          4.556237058527885e-06,
          0.00010842145553416333,
          0.0011073825075591137,
          0.007733043363135392,
          0.034996904283147466,
          0.09934882861134434,
          0.17623523805747485,
          0.1934442921540675,
          0.12671368715690282,
          0.04620830617277198,
          0.00955690062854596,
          0.0020372991638951247,
          -1.9739587986793215e-05,
          -0.00010095162772415998,
          0.0001559260106959769,
          -8.332340845083049e-05,
          1.2645208037844233e-06,
          3.401004300907759e-05,
          -2.8293112900213045e-05,
          8.717263463223123e-06,
          4.838310755431584e-06,
          -7.6292287056024225e-06,
          4.180674532997629e-06,
          -1.883928561102821e-07,
          -1.6121031185050848e-06,
          1.394793108924862e-06,
          0
         ],
         "yaxis": "y"
        },
        {
         "line": {
          "color": "#72B7B2",
          "dash": "dash"
         },
         "showlegend": false,
         "type": "scatter",
         "xaxis": "x",
         "y": [
          -2.1027421526412964e-11,
          -2.102742174820913e-11,
          -8.274702506130816e-10,
          -1.8220628578542494e-08,
          -2.114585137805708e-07,
          -9.630279052982658e-07,
          4.556237058717674e-06,
          4.556237058717674e-06,
          0.00010842145553462273,
          0.0011073825075577483,
          0.007733043363135411,
          0.034996904283151074,
          0.09934882861134078,
          0.17623523805747107,
          0.19344429215407588,
          0.12671368715690276,
          0.04620830617276384,
          0.00955690062854952,
          0.0020372991638982446,
          -1.9739587989710322e-05,
          -0.00010095162772376319,
          0.00015592601069667412,
          -8.33234084514744e-05,
          1.2645208040444025e-06,
          3.40100430091359e-05,
          -2.8293112900371325e-05,
          8.717263463327496e-06,
          4.838310755413268e-06,
          -7.629228705631621e-06,
          4.180674533029362e-06,
          -1.8839285612419233e-07,
          -1.6121031185067344e-06
         ],
         "yaxis": "y"
        },
        {
         "line": {
          "color": "#4C78A8"
         },
         "showlegend": false,
         "type": "scatter",
         "xaxis": "x3",
         "y": [
          0,
          6.594647549291867e-09,
          4.506113607330072e-08,
          -5.508445872217438e-07,
          -7.391643595750052e-06,
          -2.8222254826158406e-05,
          -7.007723309890529e-05,
          0.0008712970281988371,
          0.0007795865635879976,
          0.016554447834102416,
          0.10610507537732797,
          0.34649570070114266,
          0.6434114997096481,
          0.694574469354359,
          0.4351438127727251,
          0.20849716557024048,
          0.1792659102376829,
          0.15086052258125282,
          0.05899568907538917,
          0.00918057246174752,
          0.002841385333119394,
          -0.0008334472926976918,
          -0.0008565810323926598,
          0.0003329868482313238,
          -0.00041192531041951035,
          -0.00012016608376346014,
          7.611508536074939e-05,
          -0.00013396726912483106,
          -1.1853298134216733e-06,
          5.641355798603254e-06,
          -4.045422189312886e-05,
          2.5475514152510195e-06
         ],
         "yaxis": "y3"
        },
        {
         "line": {
          "color": "#4C78A8",
          "dash": "dash"
         },
         "showlegend": false,
         "type": "scatter",
         "xaxis": "x3",
         "y": [
          7.287724094009423e-14,
          1.3887943864287552e-11,
          1.6052280551714323e-09,
          1.125351747191277e-07,
          4.7851173921289105e-06,
          0.0001234098040866871,
          0.001930454136227759,
          0.01831563888873427,
          0.10539922456186425,
          0.36787944117144195,
          0.7788007830714052,
          1.0000000000000007,
          0.7788007830714048,
          0.3678794411714415,
          0.10539922456186407,
          0.018315638888734248,
          0.0019304541362276835,
          0.00012340980408663722,
          4.785117392113638e-06,
          1.1253517471638753e-07,
          1.6052280548829837e-09,
          1.3887943845656517e-11,
          7.287724025754714e-14,
          2.3195226598296224e-16,
          4.477730049403933e-19,
          5.242865089751764e-22,
          3.7232537356402195e-25,
          1.6034761333300427e-28,
          4.1838687228845465e-32,
          6.563370520264536e-36,
          5.824699799162859e-40,
          0
         ],
         "yaxis": "y3"
        },
        {
         "line": {
          "color": "#4C78A8"
         },
         "showlegend": false,
         "type": "scatter",
         "xaxis": "x2",
         "y": [
          0,
          4.548438270020576e-09,
          3.667945695332679e-08,
          -1.7709446156981112e-07,
          -3.585831733629669e-06,
          -1.9101994220829714e-05,
          -9.425309016091764e-05,
          -7.931198118815133e-05,
          -0.000117907877073631,
          0.005096799081221742,
          0.04584272026854301,
          0.1956597287657168,
          0.48912325199224516,
          0.742284393479167,
          0.6495254571442519,
          0.2503841052719037,
          -0.04822644244692453,
          -0.07415319847457605,
          -0.01872091757752478,
          -0.004373189839583583,
          -0.00185243727389675,
          0.0005897716490862728,
          -0.0007297939351425607,
          -0.0002684638903862938,
          0.00013608023902249815,
          -0.00024351700630815865,
          -1.0018410125561534e-05,
          1.928331918366034e-05,
          -6.677934772024083e-05,
          1.3047198190801199e-05,
          -2.683351584510313e-06,
          -1.6279738526225785e-05
         ],
         "yaxis": "y2"
        },
        {
         "line": {
          "color": "#4C78A8",
          "dash": "dash"
         },
         "showlegend": false,
         "type": "scatter",
         "xaxis": "x2",
         "y": [
          -1.2720551015404194e-10,
          -4.826311448443948e-09,
          -1.0331523336667366e-07,
          -1.127912180473078e-06,
          -4.042389137292041e-06,
          3.7736083195343355e-05,
          0.000669955136873531,
          0.006382474663428207,
          0.04127287041718538,
          0.16413210215626928,
          0.3812937066292332,
          0.5029769268454068,
          0.35506792596759434,
          0.11619379989291105,
          0.01762292715439835,
          0.007275701804975541,
          -0.001078038279888561,
          -0.0007372850092225281,
          0.0011710570121368348,
          -0.000645479754007223,
          2.95933918044654e-05,
          0.0002481193278016895,
          -0.00021495367581998755,
          7.056822675069714e-05,
          3.321797762228757e-05,
          -5.690669319045763e-05,
          3.2396500676584074e-05,
          -2.394598837372911e-06,
          -1.1729776599439764e-05,
          1.0581055007760819e-05,
          -3.6781323405925288e-06,
          0
         ],
         "yaxis": "y2"
        },
        {
         "line": {
          "color": "#F58518"
         },
         "showlegend": false,
         "type": "scatter",
         "xaxis": "x2",
         "y": [
          0,
          2.7381181361106473e-09,
          2.788990508852284e-08,
          3.428606673746825e-08,
          -3.762873462556937e-07,
          1.660707646890952e-06,
          7.775180472431722e-06,
          -3.409348054296152e-05,
          -4.165918395482061e-05,
          -0.0006011695355312034,
          -0.007036048152099211,
          -0.04478750100476826,
          -0.16293312473859645,
          -0.36947385681558265,
          -0.5494429953916246,
          -0.5492446590705089,
          -0.37247227199558236,
          -0.17108490038021335,
          -0.05222566515663142,
          -0.0100057681760031,
          -0.0012807874177429984,
          -0.00022331514782540922,
          3.441205732935193e-05,
          -1.2895705836769042e-05,
          -2.36152141524791e-05,
          1.2593041554600689e-05,
          -8.441574035037202e-06,
          -3.822766149066521e-06,
          2.9730666881833757e-06,
          -3.5297053856144595e-06,
          -5.713476098295436e-07,
          4.1951769707090036e-07
         ],
         "yaxis": "y2"
        },
        {
         "line": {
          "color": "#F58518",
          "dash": "dash"
         },
         "showlegend": false,
         "type": "scatter",
         "xaxis": "x2",
         "y": [
          3.1394566677342376e-11,
          1.2440532660670297e-09,
          2.7555306714301378e-08,
          3.2489470568337577e-07,
          1.6147270972807623e-06,
          -3.7244962416253554e-06,
          -0.0001185048548027963,
          -0.001264402570312921,
          -0.009612053204694392,
          -0.04746867374855497,
          -0.14341070477659207,
          -0.2589249282494007,
          -0.26886861463144507,
          -0.14635472538288158,
          -0.03417935478771393,
          -0.005285262533928599,
          -0.0024464657162811486,
          0.0011777833944679645,
          -0.00022754990954176505,
          -0.00032498440417394497,
          0.00036379403782664407,
          -0.00015895895425662,
          -2.392124483318313e-05,
          8.665812031727216e-05,
          -6.0595584595288266e-05,
          1.2834407611498644e-05,
          1.5123061104779538e-05,
          -1.7758926402368224e-05,
          8.100910030712977e-06,
          8.918206462326238e-07,
          -4.149186081191753e-06,
          0
         ],
         "yaxis": "y2"
        }
       ],
       "layout": {
        "height": 800,
        "template": {
         "data": {
          "bar": [
           {
            "error_x": {
             "color": "rgb(36,36,36)"
            },
            "error_y": {
             "color": "rgb(36,36,36)"
            },
            "marker": {
             "line": {
              "color": "white",
              "width": 0.5
             },
             "pattern": {
              "fillmode": "overlay",
              "size": 10,
              "solidity": 0.2
             }
            },
            "type": "bar"
           }
          ],
          "barpolar": [
           {
            "marker": {
             "line": {
              "color": "white",
              "width": 0.5
             },
             "pattern": {
              "fillmode": "overlay",
              "size": 10,
              "solidity": 0.2
             }
            },
            "type": "barpolar"
           }
          ],
          "carpet": [
           {
            "aaxis": {
             "endlinecolor": "rgb(36,36,36)",
             "gridcolor": "white",
             "linecolor": "white",
             "minorgridcolor": "white",
             "startlinecolor": "rgb(36,36,36)"
            },
            "baxis": {
             "endlinecolor": "rgb(36,36,36)",
             "gridcolor": "white",
             "linecolor": "white",
             "minorgridcolor": "white",
             "startlinecolor": "rgb(36,36,36)"
            },
            "type": "carpet"
           }
          ],
          "choropleth": [
           {
            "colorbar": {
             "outlinewidth": 1,
             "tickcolor": "rgb(36,36,36)",
             "ticks": "outside"
            },
            "type": "choropleth"
           }
          ],
          "contour": [
           {
            "colorbar": {
             "outlinewidth": 1,
             "tickcolor": "rgb(36,36,36)",
             "ticks": "outside"
            },
            "colorscale": [
             [
              0,
              "#440154"
             ],
             [
              0.1111111111111111,
              "#482878"
             ],
             [
              0.2222222222222222,
              "#3e4989"
             ],
             [
              0.3333333333333333,
              "#31688e"
             ],
             [
              0.4444444444444444,
              "#26828e"
             ],
             [
              0.5555555555555556,
              "#1f9e89"
             ],
             [
              0.6666666666666666,
              "#35b779"
             ],
             [
              0.7777777777777778,
              "#6ece58"
             ],
             [
              0.8888888888888888,
              "#b5de2b"
             ],
             [
              1,
              "#fde725"
             ]
            ],
            "type": "contour"
           }
          ],
          "contourcarpet": [
           {
            "colorbar": {
             "outlinewidth": 1,
             "tickcolor": "rgb(36,36,36)",
             "ticks": "outside"
            },
            "type": "contourcarpet"
           }
          ],
          "heatmap": [
           {
            "colorbar": {
             "outlinewidth": 1,
             "tickcolor": "rgb(36,36,36)",
             "ticks": "outside"
            },
            "colorscale": [
             [
              0,
              "#440154"
             ],
             [
              0.1111111111111111,
              "#482878"
             ],
             [
              0.2222222222222222,
              "#3e4989"
             ],
             [
              0.3333333333333333,
              "#31688e"
             ],
             [
              0.4444444444444444,
              "#26828e"
             ],
             [
              0.5555555555555556,
              "#1f9e89"
             ],
             [
              0.6666666666666666,
              "#35b779"
             ],
             [
              0.7777777777777778,
              "#6ece58"
             ],
             [
              0.8888888888888888,
              "#b5de2b"
             ],
             [
              1,
              "#fde725"
             ]
            ],
            "type": "heatmap"
           }
          ],
          "heatmapgl": [
           {
            "colorbar": {
             "outlinewidth": 1,
             "tickcolor": "rgb(36,36,36)",
             "ticks": "outside"
            },
            "colorscale": [
             [
              0,
              "#440154"
             ],
             [
              0.1111111111111111,
              "#482878"
             ],
             [
              0.2222222222222222,
              "#3e4989"
             ],
             [
              0.3333333333333333,
              "#31688e"
             ],
             [
              0.4444444444444444,
              "#26828e"
             ],
             [
              0.5555555555555556,
              "#1f9e89"
             ],
             [
              0.6666666666666666,
              "#35b779"
             ],
             [
              0.7777777777777778,
              "#6ece58"
             ],
             [
              0.8888888888888888,
              "#b5de2b"
             ],
             [
              1,
              "#fde725"
             ]
            ],
            "type": "heatmapgl"
           }
          ],
          "histogram": [
           {
            "marker": {
             "line": {
              "color": "white",
              "width": 0.6
             }
            },
            "type": "histogram"
           }
          ],
          "histogram2d": [
           {
            "colorbar": {
             "outlinewidth": 1,
             "tickcolor": "rgb(36,36,36)",
             "ticks": "outside"
            },
            "colorscale": [
             [
              0,
              "#440154"
             ],
             [
              0.1111111111111111,
              "#482878"
             ],
             [
              0.2222222222222222,
              "#3e4989"
             ],
             [
              0.3333333333333333,
              "#31688e"
             ],
             [
              0.4444444444444444,
              "#26828e"
             ],
             [
              0.5555555555555556,
              "#1f9e89"
             ],
             [
              0.6666666666666666,
              "#35b779"
             ],
             [
              0.7777777777777778,
              "#6ece58"
             ],
             [
              0.8888888888888888,
              "#b5de2b"
             ],
             [
              1,
              "#fde725"
             ]
            ],
            "type": "histogram2d"
           }
          ],
          "histogram2dcontour": [
           {
            "colorbar": {
             "outlinewidth": 1,
             "tickcolor": "rgb(36,36,36)",
             "ticks": "outside"
            },
            "colorscale": [
             [
              0,
              "#440154"
             ],
             [
              0.1111111111111111,
              "#482878"
             ],
             [
              0.2222222222222222,
              "#3e4989"
             ],
             [
              0.3333333333333333,
              "#31688e"
             ],
             [
              0.4444444444444444,
              "#26828e"
             ],
             [
              0.5555555555555556,
              "#1f9e89"
             ],
             [
              0.6666666666666666,
              "#35b779"
             ],
             [
              0.7777777777777778,
              "#6ece58"
             ],
             [
              0.8888888888888888,
              "#b5de2b"
             ],
             [
              1,
              "#fde725"
             ]
            ],
            "type": "histogram2dcontour"
           }
          ],
          "mesh3d": [
           {
            "colorbar": {
             "outlinewidth": 1,
             "tickcolor": "rgb(36,36,36)",
             "ticks": "outside"
            },
            "type": "mesh3d"
           }
          ],
          "parcoords": [
           {
            "line": {
             "colorbar": {
              "outlinewidth": 1,
              "tickcolor": "rgb(36,36,36)",
              "ticks": "outside"
             }
            },
            "type": "parcoords"
           }
          ],
          "pie": [
           {
            "automargin": true,
            "type": "pie"
           }
          ],
          "scatter": [
           {
            "marker": {
             "colorbar": {
              "outlinewidth": 1,
              "tickcolor": "rgb(36,36,36)",
              "ticks": "outside"
             }
            },
            "type": "scatter"
           }
          ],
          "scatter3d": [
           {
            "line": {
             "colorbar": {
              "outlinewidth": 1,
              "tickcolor": "rgb(36,36,36)",
              "ticks": "outside"
             }
            },
            "marker": {
             "colorbar": {
              "outlinewidth": 1,
              "tickcolor": "rgb(36,36,36)",
              "ticks": "outside"
             }
            },
            "type": "scatter3d"
           }
          ],
          "scattercarpet": [
           {
            "marker": {
             "colorbar": {
              "outlinewidth": 1,
              "tickcolor": "rgb(36,36,36)",
              "ticks": "outside"
             }
            },
            "type": "scattercarpet"
           }
          ],
          "scattergeo": [
           {
            "marker": {
             "colorbar": {
              "outlinewidth": 1,
              "tickcolor": "rgb(36,36,36)",
              "ticks": "outside"
             }
            },
            "type": "scattergeo"
           }
          ],
          "scattergl": [
           {
            "marker": {
             "colorbar": {
              "outlinewidth": 1,
              "tickcolor": "rgb(36,36,36)",
              "ticks": "outside"
             }
            },
            "type": "scattergl"
           }
          ],
          "scattermapbox": [
           {
            "marker": {
             "colorbar": {
              "outlinewidth": 1,
              "tickcolor": "rgb(36,36,36)",
              "ticks": "outside"
             }
            },
            "type": "scattermapbox"
           }
          ],
          "scatterpolar": [
           {
            "marker": {
             "colorbar": {
              "outlinewidth": 1,
              "tickcolor": "rgb(36,36,36)",
              "ticks": "outside"
             }
            },
            "type": "scatterpolar"
           }
          ],
          "scatterpolargl": [
           {
            "marker": {
             "colorbar": {
              "outlinewidth": 1,
              "tickcolor": "rgb(36,36,36)",
              "ticks": "outside"
             }
            },
            "type": "scatterpolargl"
           }
          ],
          "scatterternary": [
           {
            "marker": {
             "colorbar": {
              "outlinewidth": 1,
              "tickcolor": "rgb(36,36,36)",
              "ticks": "outside"
             }
            },
            "type": "scatterternary"
           }
          ],
          "surface": [
           {
            "colorbar": {
             "outlinewidth": 1,
             "tickcolor": "rgb(36,36,36)",
             "ticks": "outside"
            },
            "colorscale": [
             [
              0,
              "#440154"
             ],
             [
              0.1111111111111111,
              "#482878"
             ],
             [
              0.2222222222222222,
              "#3e4989"
             ],
             [
              0.3333333333333333,
              "#31688e"
             ],
             [
              0.4444444444444444,
              "#26828e"
             ],
             [
              0.5555555555555556,
              "#1f9e89"
             ],
             [
              0.6666666666666666,
              "#35b779"
             ],
             [
              0.7777777777777778,
              "#6ece58"
             ],
             [
              0.8888888888888888,
              "#b5de2b"
             ],
             [
              1,
              "#fde725"
             ]
            ],
            "type": "surface"
           }
          ],
          "table": [
           {
            "cells": {
             "fill": {
              "color": "rgb(237,237,237)"
             },
             "line": {
              "color": "white"
             }
            },
            "header": {
             "fill": {
              "color": "rgb(217,217,217)"
             },
             "line": {
              "color": "white"
             }
            },
            "type": "table"
           }
          ]
         },
         "layout": {
          "annotationdefaults": {
           "arrowhead": 0,
           "arrowwidth": 1
          },
          "autotypenumbers": "strict",
          "coloraxis": {
           "colorbar": {
            "outlinewidth": 1,
            "tickcolor": "rgb(36,36,36)",
            "ticks": "outside"
           }
          },
          "colorscale": {
           "diverging": [
            [
             0,
             "rgb(103,0,31)"
            ],
            [
             0.1,
             "rgb(178,24,43)"
            ],
            [
             0.2,
             "rgb(214,96,77)"
            ],
            [
             0.3,
             "rgb(244,165,130)"
            ],
            [
             0.4,
             "rgb(253,219,199)"
            ],
            [
             0.5,
             "rgb(247,247,247)"
            ],
            [
             0.6,
             "rgb(209,229,240)"
            ],
            [
             0.7,
             "rgb(146,197,222)"
            ],
            [
             0.8,
             "rgb(67,147,195)"
            ],
            [
             0.9,
             "rgb(33,102,172)"
            ],
            [
             1,
             "rgb(5,48,97)"
            ]
           ],
           "sequential": [
            [
             0,
             "#440154"
            ],
            [
             0.1111111111111111,
             "#482878"
            ],
            [
             0.2222222222222222,
             "#3e4989"
            ],
            [
             0.3333333333333333,
             "#31688e"
            ],
            [
             0.4444444444444444,
             "#26828e"
            ],
            [
             0.5555555555555556,
             "#1f9e89"
            ],
            [
             0.6666666666666666,
             "#35b779"
            ],
            [
             0.7777777777777778,
             "#6ece58"
            ],
            [
             0.8888888888888888,
             "#b5de2b"
            ],
            [
             1,
             "#fde725"
            ]
           ],
           "sequentialminus": [
            [
             0,
             "#440154"
            ],
            [
             0.1111111111111111,
             "#482878"
            ],
            [
             0.2222222222222222,
             "#3e4989"
            ],
            [
             0.3333333333333333,
             "#31688e"
            ],
            [
             0.4444444444444444,
             "#26828e"
            ],
            [
             0.5555555555555556,
             "#1f9e89"
            ],
            [
             0.6666666666666666,
             "#35b779"
            ],
            [
             0.7777777777777778,
             "#6ece58"
            ],
            [
             0.8888888888888888,
             "#b5de2b"
            ],
            [
             1,
             "#fde725"
            ]
           ]
          },
          "colorway": [
           "#1F77B4",
           "#FF7F0E",
           "#2CA02C",
           "#D62728",
           "#9467BD",
           "#8C564B",
           "#E377C2",
           "#7F7F7F",
           "#BCBD22",
           "#17BECF"
          ],
          "font": {
           "color": "rgb(36,36,36)"
          },
          "geo": {
           "bgcolor": "white",
           "lakecolor": "white",
           "landcolor": "white",
           "showlakes": true,
           "showland": true,
           "subunitcolor": "white"
          },
          "hoverlabel": {
           "align": "left"
          },
          "hovermode": "closest",
          "mapbox": {
           "style": "light"
          },
          "paper_bgcolor": "white",
          "plot_bgcolor": "white",
          "polar": {
           "angularaxis": {
            "gridcolor": "rgb(232,232,232)",
            "linecolor": "rgb(36,36,36)",
            "showgrid": false,
            "showline": true,
            "ticks": "outside"
           },
           "bgcolor": "white",
           "radialaxis": {
            "gridcolor": "rgb(232,232,232)",
            "linecolor": "rgb(36,36,36)",
            "showgrid": false,
            "showline": true,
            "ticks": "outside"
           }
          },
          "scene": {
           "xaxis": {
            "backgroundcolor": "white",
            "gridcolor": "rgb(232,232,232)",
            "gridwidth": 2,
            "linecolor": "rgb(36,36,36)",
            "showbackground": true,
            "showgrid": false,
            "showline": true,
            "ticks": "outside",
            "zeroline": false,
            "zerolinecolor": "rgb(36,36,36)"
           },
           "yaxis": {
            "backgroundcolor": "white",
            "gridcolor": "rgb(232,232,232)",
            "gridwidth": 2,
            "linecolor": "rgb(36,36,36)",
            "showbackground": true,
            "showgrid": false,
            "showline": true,
            "ticks": "outside",
            "zeroline": false,
            "zerolinecolor": "rgb(36,36,36)"
           },
           "zaxis": {
            "backgroundcolor": "white",
            "gridcolor": "rgb(232,232,232)",
            "gridwidth": 2,
            "linecolor": "rgb(36,36,36)",
            "showbackground": true,
            "showgrid": false,
            "showline": true,
            "ticks": "outside",
            "zeroline": false,
            "zerolinecolor": "rgb(36,36,36)"
           }
          },
          "shapedefaults": {
           "fillcolor": "black",
           "line": {
            "width": 0
           },
           "opacity": 0.3
          },
          "ternary": {
           "aaxis": {
            "gridcolor": "rgb(232,232,232)",
            "linecolor": "rgb(36,36,36)",
            "showgrid": false,
            "showline": true,
            "ticks": "outside"
           },
           "baxis": {
            "gridcolor": "rgb(232,232,232)",
            "linecolor": "rgb(36,36,36)",
            "showgrid": false,
            "showline": true,
            "ticks": "outside"
           },
           "bgcolor": "white",
           "caxis": {
            "gridcolor": "rgb(232,232,232)",
            "linecolor": "rgb(36,36,36)",
            "showgrid": false,
            "showline": true,
            "ticks": "outside"
           }
          },
          "title": {
           "x": 0.05
          },
          "xaxis": {
           "automargin": true,
           "gridcolor": "rgb(232,232,232)",
           "linecolor": "rgb(36,36,36)",
           "showgrid": false,
           "showline": true,
           "ticks": "outside",
           "title": {
            "standoff": 15
           },
           "zeroline": false,
           "zerolinecolor": "rgb(36,36,36)"
          },
          "yaxis": {
           "automargin": true,
           "gridcolor": "rgb(232,232,232)",
           "linecolor": "rgb(36,36,36)",
           "showgrid": false,
           "showline": true,
           "ticks": "outside",
           "title": {
            "standoff": 15
           },
           "zeroline": false,
           "zerolinecolor": "rgb(36,36,36)"
          }
         }
        },
        "width": 800,
        "xaxis": {
         "anchor": "y",
         "domain": [
          0,
          0.45
         ]
        },
        "xaxis2": {
         "anchor": "y2",
         "domain": [
          0.55,
          1
         ]
        },
        "xaxis3": {
         "anchor": "y3",
         "domain": [
          0,
          0.45
         ]
        },
        "xaxis4": {
         "anchor": "y4",
         "domain": [
          0.55,
          1
         ]
        },
        "yaxis": {
         "anchor": "x",
         "domain": [
          0.575,
          1
         ]
        },
        "yaxis2": {
         "anchor": "x2",
         "domain": [
          0.575,
          1
         ]
        },
        "yaxis3": {
         "anchor": "x3",
         "domain": [
          0,
          0.425
         ]
        },
        "yaxis4": {
         "anchor": "x4",
         "domain": [
          0,
          0.425
         ]
        }
       }
      },
      "text/html": [
       "<div>                            <div id=\"1e9c7757-08cc-4042-b66b-727d32a6998f\" class=\"plotly-graph-div\" style=\"height:800px; width:800px;\"></div>            <script type=\"text/javascript\">                require([\"plotly\"], function(Plotly) {                    window.PLOTLYENV=window.PLOTLYENV || {};                                    if (document.getElementById(\"1e9c7757-08cc-4042-b66b-727d32a6998f\")) {                    Plotly.newPlot(                        \"1e9c7757-08cc-4042-b66b-727d32a6998f\",                        [{\"line\":{\"color\":\"#4C78A8\"},\"showlegend\":false,\"y\":[-1.0773956030845229e-11,-4.109089887375937e-10,-8.81475761709555e-09,-9.634833970542848e-08,-3.2954742429659675e-07,3.86718645598494e-06,6.850134948305525e-05,0.0006557249425163203,0.004180792907018005,0.01635433886021621,0.037007623585031305,0.04483242031118546,0.02106692104918306,-0.008898255691776331,-0.01275412441094454,-0.003332243388702485,-0.0004878832826233784,-0.0004340912342909791,0.00020939462845273674,-2.4531696163574012e-05,-7.06481820998589e-05,6.816365909775428e-05,-2.5718630013652108e-05,-7.803249367109562e-06,1.7229287630023058e-05,-1.0760489647474104e-05,1.5016805771340316e-06,3.3198009268051634e-06,-3.3427010030928866e-06,1.3249227205853485e-06,3.309375578672106e-07,0.0],\"type\":\"scatter\",\"xaxis\":\"x\",\"yaxis\":\"y\"},{\"line\":{\"color\":\"#4C78A8\",\"dash\":\"dash\"},\"showlegend\":false,\"y\":[-1.0773956044201858e-11,-1.0773956150164927e-11,-4.109089882079804e-10,-8.814757613143229e-09,-9.634833972946623e-08,-3.2954742435707326e-07,3.8671864562055825e-06,3.8671864562055825e-06,6.85013494830661e-05,0.0006557249425153553,0.004180792907019288,0.016354338860217237,0.03700762358502724,0.04483242031118766,0.021066921049187382,-0.008898255691782257,-0.012754124410944857,-0.0033322433886977445,-0.0004878832826259204,-0.0004340912342918463,0.00020939462845434486,-2.45316961643261e-05,-7.064818209991579e-05,6.816365909810116e-05,-2.5718630013912154e-05,-7.803249367043577e-06,1.7229287630079104e-05,-1.0760489647547672e-05,1.5016805771702612e-06,3.3198009268071357e-06,-3.3427010031109733e-06,1.3249227206014144e-06],\"type\":\"scatter\",\"xaxis\":\"x\",\"yaxis\":\"y\"},{\"line\":{\"color\":\"#F58518\"},\"showlegend\":false,\"y\":[-1.3778416061866885e-11,-5.329693463312298e-10,-1.15708563672168e-08,-1.3007780589188627e-07,-5.151692308402637e-07,4.069091363098718e-06,8.019869837800637e-05,0.0007880691830998946,0.005221669724686205,0.02181696442964218,0.05527478010988788,0.08333594039177304,0.07157676310288005,0.030838617947594783,0.004522987061381459,0.00044452048897869955,0.0002520431109216947,-0.0003126783360934574,0.00011845728394529944,2.834583765901946e-05,-7.436226404042223e-05,4.856094160010298e-05,-8.216994960757955e-06,-1.3807168350936885e-05,1.47351029614292e-05,-6.189745010125436e-06,-1.1738491790137908e-06,3.5720532357844007e-06,-2.4184288363254796e-06,4.643183948016543e-07,6.426674299927991e-07,0.0],\"type\":\"scatter\",\"xaxis\":\"x\",\"yaxis\":\"y\"},{\"line\":{\"color\":\"#F58518\",\"dash\":\"dash\"},\"showlegend\":false,\"y\":[-1.3778416076803201e-11,-1.3778416216707567e-11,-5.329693458692423e-10,-1.1570856362037003e-08,-1.3007780591651685e-07,-5.151692309280221e-07,4.06909136331032e-06,4.06909136331032e-06,8.019869837814867e-05,0.0007880691830988122,0.005221669724687117,0.021816964429643964,0.05527478010988397,0.08333594039177349,0.07157676310288555,0.030838617947590574,0.004522987061378849,0.0004445204889830944,0.0002520431109208119,-0.0003126783360949253,0.00011845728394655263,2.834583765869206e-05,-7.436226404065115e-05,4.856094160042442e-05,-8.21699496092471e-06,-1.3807168350936615e-05,1.4735102961499409e-05,-6.189745010182814e-06,-1.1738491789967327e-06,3.5720532357950933e-06,-2.4184288363423428e-06,4.6431839481252913e-07],\"type\":\"scatter\",\"xaxis\":\"x\",\"yaxis\":\"y\"},{\"line\":{\"color\":\"#E45756\"},\"showlegend\":false,\"y\":[-1.8022961476643592e-11,-7.054098933182683e-10,-1.546452983656261e-08,-1.7772904756805217e-07,-7.774060986010158e-07,4.354332151414107e-06,9.672410663921218e-05,0.0009750382669755397,0.006692166545467193,0.029534278713721496,0.08108167208648775,0.13773171797688727,0.14293445010037045,0.08697681351753174,0.028931194700445976,0.005780136750864766,0.0012973727703500517,-0.00014115248618431486,-1.0014283216722673e-05,0.00010304847687338347,-7.960932651026718e-05,2.0867238301435732e-05,1.650840795618343e-05,-2.228919391638572e-05,1.1211448131816974e-05,2.6756611808291765e-07,-4.9536989494546e-06,3.928422224018391e-06,-1.1126650228776895e-06,-7.514987927213906e-07,1.0830632367992735e-06,0.0],\"type\":\"scatter\",\"xaxis\":\"x\",\"yaxis\":\"y\"},{\"line\":{\"color\":\"#E45756\",\"dash\":\"dash\"},\"showlegend\":false,\"y\":[-1.8022961493811606e-11,-1.8022961681666475e-11,-7.054098929518192e-10,-1.54645298296487e-08,-1.7772904759352025e-07,-7.77406098727317e-07,4.354332151612937e-06,4.354332151612937e-06,9.672410663954014e-05,0.0009750382669742915,0.006692166545467582,0.029534278713724348,0.08108167208648405,0.13773171797688524,0.14293445010037764,0.08697681351752996,0.02893119470044012,0.005780136750868671,0.001297372770351513,-0.0001411524861866313,-1.0014283215970933e-05,0.00010304847687365604,-7.960932651073909e-05,2.0867238301721172e-05,1.6508407956148462e-05,-2.2289193916478286e-05,1.1211448131907186e-05,2.6756611804841207e-07,-4.9536989494646255e-06,3.928422224041404e-06,-1.1126650228928235e-06,-7.514987927178494e-07],\"type\":\"scatter\",\"xaxis\":\"x\",\"yaxis\":\"y\"},{\"line\":{\"color\":\"#72B7B2\"},\"showlegend\":false,\"y\":[-2.1027421507665265e-11,-8.27470250911905e-10,-1.8220628586683877e-08,-2.1145851375450984e-07,-9.63027905144683e-07,4.556237058527885e-06,0.00010842145553416333,0.0011073825075591137,0.007733043363135392,0.034996904283147466,0.09934882861134434,0.17623523805747485,0.1934442921540675,0.12671368715690282,0.04620830617277198,0.00955690062854596,0.0020372991638951247,-1.9739587986793215e-05,-0.00010095162772415998,0.0001559260106959769,-8.332340845083049e-05,1.2645208037844233e-06,3.401004300907759e-05,-2.8293112900213045e-05,8.717263463223123e-06,4.838310755431584e-06,-7.6292287056024225e-06,4.180674532997629e-06,-1.883928561102821e-07,-1.6121031185050848e-06,1.394793108924862e-06,0.0],\"type\":\"scatter\",\"xaxis\":\"x\",\"yaxis\":\"y\"},{\"line\":{\"color\":\"#72B7B2\",\"dash\":\"dash\"},\"showlegend\":false,\"y\":[-2.1027421526412964e-11,-2.102742174820913e-11,-8.274702506130816e-10,-1.8220628578542494e-08,-2.114585137805708e-07,-9.630279052982658e-07,4.556237058717674e-06,4.556237058717674e-06,0.00010842145553462273,0.0011073825075577483,0.007733043363135411,0.034996904283151074,0.09934882861134078,0.17623523805747107,0.19344429215407588,0.12671368715690276,0.04620830617276384,0.00955690062854952,0.0020372991638982446,-1.9739587989710322e-05,-0.00010095162772376319,0.00015592601069667412,-8.33234084514744e-05,1.2645208040444025e-06,3.40100430091359e-05,-2.8293112900371325e-05,8.717263463327496e-06,4.838310755413268e-06,-7.629228705631621e-06,4.180674533029362e-06,-1.8839285612419233e-07,-1.6121031185067344e-06],\"type\":\"scatter\",\"xaxis\":\"x\",\"yaxis\":\"y\"},{\"line\":{\"color\":\"#4C78A8\"},\"showlegend\":false,\"y\":[0.0,6.594647549291867e-09,4.506113607330072e-08,-5.508445872217438e-07,-7.391643595750052e-06,-2.8222254826158406e-05,-7.007723309890529e-05,0.0008712970281988371,0.0007795865635879976,0.016554447834102416,0.10610507537732797,0.34649570070114266,0.6434114997096481,0.694574469354359,0.4351438127727251,0.20849716557024048,0.1792659102376829,0.15086052258125282,0.05899568907538917,0.00918057246174752,0.002841385333119394,-0.0008334472926976918,-0.0008565810323926598,0.0003329868482313238,-0.00041192531041951035,-0.00012016608376346014,7.611508536074939e-05,-0.00013396726912483106,-1.1853298134216733e-06,5.641355798603254e-06,-4.045422189312886e-05,2.5475514152510195e-06],\"type\":\"scatter\",\"xaxis\":\"x3\",\"yaxis\":\"y3\"},{\"line\":{\"color\":\"#4C78A8\",\"dash\":\"dash\"},\"showlegend\":false,\"y\":[7.287724094009423e-14,1.3887943864287552e-11,1.6052280551714323e-09,1.125351747191277e-07,4.7851173921289105e-06,0.0001234098040866871,0.001930454136227759,0.01831563888873427,0.10539922456186425,0.36787944117144195,0.7788007830714052,1.0000000000000007,0.7788007830714048,0.3678794411714415,0.10539922456186407,0.018315638888734248,0.0019304541362276835,0.00012340980408663722,4.785117392113638e-06,1.1253517471638753e-07,1.6052280548829837e-09,1.3887943845656517e-11,7.287724025754714e-14,2.3195226598296224e-16,4.477730049403933e-19,5.242865089751764e-22,3.7232537356402195e-25,1.6034761333300427e-28,4.1838687228845465e-32,6.563370520264536e-36,5.824699799162859e-40,0.0],\"type\":\"scatter\",\"xaxis\":\"x3\",\"yaxis\":\"y3\"},{\"line\":{\"color\":\"#4C78A8\"},\"showlegend\":false,\"y\":[0.0,4.548438270020576e-09,3.667945695332679e-08,-1.7709446156981112e-07,-3.585831733629669e-06,-1.9101994220829714e-05,-9.425309016091764e-05,-7.931198118815133e-05,-0.000117907877073631,0.005096799081221742,0.04584272026854301,0.1956597287657168,0.48912325199224516,0.742284393479167,0.6495254571442519,0.2503841052719037,-0.04822644244692453,-0.07415319847457605,-0.01872091757752478,-0.004373189839583583,-0.00185243727389675,0.0005897716490862728,-0.0007297939351425607,-0.0002684638903862938,0.00013608023902249815,-0.00024351700630815865,-1.0018410125561534e-05,1.928331918366034e-05,-6.677934772024083e-05,1.3047198190801199e-05,-2.683351584510313e-06,-1.6279738526225785e-05],\"type\":\"scatter\",\"xaxis\":\"x2\",\"yaxis\":\"y2\"},{\"line\":{\"color\":\"#4C78A8\",\"dash\":\"dash\"},\"showlegend\":false,\"y\":[-1.2720551015404194e-10,-4.826311448443948e-09,-1.0331523336667366e-07,-1.127912180473078e-06,-4.042389137292041e-06,3.7736083195343355e-05,0.000669955136873531,0.006382474663428207,0.04127287041718538,0.16413210215626928,0.3812937066292332,0.5029769268454068,0.35506792596759434,0.11619379989291105,0.01762292715439835,0.007275701804975541,-0.001078038279888561,-0.0007372850092225281,0.0011710570121368348,-0.000645479754007223,2.95933918044654e-05,0.0002481193278016895,-0.00021495367581998755,7.056822675069714e-05,3.321797762228757e-05,-5.690669319045763e-05,3.2396500676584074e-05,-2.394598837372911e-06,-1.1729776599439764e-05,1.0581055007760819e-05,-3.6781323405925288e-06,0.0],\"type\":\"scatter\",\"xaxis\":\"x2\",\"yaxis\":\"y2\"},{\"line\":{\"color\":\"#F58518\"},\"showlegend\":false,\"y\":[0.0,2.7381181361106473e-09,2.788990508852284e-08,3.428606673746825e-08,-3.762873462556937e-07,1.660707646890952e-06,7.775180472431722e-06,-3.409348054296152e-05,-4.165918395482061e-05,-0.0006011695355312034,-0.007036048152099211,-0.04478750100476826,-0.16293312473859645,-0.36947385681558265,-0.5494429953916246,-0.5492446590705089,-0.37247227199558236,-0.17108490038021335,-0.05222566515663142,-0.0100057681760031,-0.0012807874177429984,-0.00022331514782540922,3.441205732935193e-05,-1.2895705836769042e-05,-2.36152141524791e-05,1.2593041554600689e-05,-8.441574035037202e-06,-3.822766149066521e-06,2.9730666881833757e-06,-3.5297053856144595e-06,-5.713476098295436e-07,4.1951769707090036e-07],\"type\":\"scatter\",\"xaxis\":\"x2\",\"yaxis\":\"y2\"},{\"line\":{\"color\":\"#F58518\",\"dash\":\"dash\"},\"showlegend\":false,\"y\":[3.1394566677342376e-11,1.2440532660670297e-09,2.7555306714301378e-08,3.2489470568337577e-07,1.6147270972807623e-06,-3.7244962416253554e-06,-0.0001185048548027963,-0.001264402570312921,-0.009612053204694392,-0.04746867374855497,-0.14341070477659207,-0.2589249282494007,-0.26886861463144507,-0.14635472538288158,-0.03417935478771393,-0.005285262533928599,-0.0024464657162811486,0.0011777833944679645,-0.00022754990954176505,-0.00032498440417394497,0.00036379403782664407,-0.00015895895425662,-2.392124483318313e-05,8.665812031727216e-05,-6.0595584595288266e-05,1.2834407611498644e-05,1.5123061104779538e-05,-1.7758926402368224e-05,8.100910030712977e-06,8.918206462326238e-07,-4.149186081191753e-06,0.0],\"type\":\"scatter\",\"xaxis\":\"x2\",\"yaxis\":\"y2\"}],                        {\"template\":{\"data\":{\"barpolar\":[{\"marker\":{\"line\":{\"color\":\"white\",\"width\":0.5},\"pattern\":{\"fillmode\":\"overlay\",\"size\":10,\"solidity\":0.2}},\"type\":\"barpolar\"}],\"bar\":[{\"error_x\":{\"color\":\"rgb(36,36,36)\"},\"error_y\":{\"color\":\"rgb(36,36,36)\"},\"marker\":{\"line\":{\"color\":\"white\",\"width\":0.5},\"pattern\":{\"fillmode\":\"overlay\",\"size\":10,\"solidity\":0.2}},\"type\":\"bar\"}],\"carpet\":[{\"aaxis\":{\"endlinecolor\":\"rgb(36,36,36)\",\"gridcolor\":\"white\",\"linecolor\":\"white\",\"minorgridcolor\":\"white\",\"startlinecolor\":\"rgb(36,36,36)\"},\"baxis\":{\"endlinecolor\":\"rgb(36,36,36)\",\"gridcolor\":\"white\",\"linecolor\":\"white\",\"minorgridcolor\":\"white\",\"startlinecolor\":\"rgb(36,36,36)\"},\"type\":\"carpet\"}],\"choropleth\":[{\"colorbar\":{\"outlinewidth\":1,\"tickcolor\":\"rgb(36,36,36)\",\"ticks\":\"outside\"},\"type\":\"choropleth\"}],\"contourcarpet\":[{\"colorbar\":{\"outlinewidth\":1,\"tickcolor\":\"rgb(36,36,36)\",\"ticks\":\"outside\"},\"type\":\"contourcarpet\"}],\"contour\":[{\"colorbar\":{\"outlinewidth\":1,\"tickcolor\":\"rgb(36,36,36)\",\"ticks\":\"outside\"},\"colorscale\":[[0.0,\"#440154\"],[0.1111111111111111,\"#482878\"],[0.2222222222222222,\"#3e4989\"],[0.3333333333333333,\"#31688e\"],[0.4444444444444444,\"#26828e\"],[0.5555555555555556,\"#1f9e89\"],[0.6666666666666666,\"#35b779\"],[0.7777777777777778,\"#6ece58\"],[0.8888888888888888,\"#b5de2b\"],[1.0,\"#fde725\"]],\"type\":\"contour\"}],\"heatmapgl\":[{\"colorbar\":{\"outlinewidth\":1,\"tickcolor\":\"rgb(36,36,36)\",\"ticks\":\"outside\"},\"colorscale\":[[0.0,\"#440154\"],[0.1111111111111111,\"#482878\"],[0.2222222222222222,\"#3e4989\"],[0.3333333333333333,\"#31688e\"],[0.4444444444444444,\"#26828e\"],[0.5555555555555556,\"#1f9e89\"],[0.6666666666666666,\"#35b779\"],[0.7777777777777778,\"#6ece58\"],[0.8888888888888888,\"#b5de2b\"],[1.0,\"#fde725\"]],\"type\":\"heatmapgl\"}],\"heatmap\":[{\"colorbar\":{\"outlinewidth\":1,\"tickcolor\":\"rgb(36,36,36)\",\"ticks\":\"outside\"},\"colorscale\":[[0.0,\"#440154\"],[0.1111111111111111,\"#482878\"],[0.2222222222222222,\"#3e4989\"],[0.3333333333333333,\"#31688e\"],[0.4444444444444444,\"#26828e\"],[0.5555555555555556,\"#1f9e89\"],[0.6666666666666666,\"#35b779\"],[0.7777777777777778,\"#6ece58\"],[0.8888888888888888,\"#b5de2b\"],[1.0,\"#fde725\"]],\"type\":\"heatmap\"}],\"histogram2dcontour\":[{\"colorbar\":{\"outlinewidth\":1,\"tickcolor\":\"rgb(36,36,36)\",\"ticks\":\"outside\"},\"colorscale\":[[0.0,\"#440154\"],[0.1111111111111111,\"#482878\"],[0.2222222222222222,\"#3e4989\"],[0.3333333333333333,\"#31688e\"],[0.4444444444444444,\"#26828e\"],[0.5555555555555556,\"#1f9e89\"],[0.6666666666666666,\"#35b779\"],[0.7777777777777778,\"#6ece58\"],[0.8888888888888888,\"#b5de2b\"],[1.0,\"#fde725\"]],\"type\":\"histogram2dcontour\"}],\"histogram2d\":[{\"colorbar\":{\"outlinewidth\":1,\"tickcolor\":\"rgb(36,36,36)\",\"ticks\":\"outside\"},\"colorscale\":[[0.0,\"#440154\"],[0.1111111111111111,\"#482878\"],[0.2222222222222222,\"#3e4989\"],[0.3333333333333333,\"#31688e\"],[0.4444444444444444,\"#26828e\"],[0.5555555555555556,\"#1f9e89\"],[0.6666666666666666,\"#35b779\"],[0.7777777777777778,\"#6ece58\"],[0.8888888888888888,\"#b5de2b\"],[1.0,\"#fde725\"]],\"type\":\"histogram2d\"}],\"histogram\":[{\"marker\":{\"line\":{\"color\":\"white\",\"width\":0.6}},\"type\":\"histogram\"}],\"mesh3d\":[{\"colorbar\":{\"outlinewidth\":1,\"tickcolor\":\"rgb(36,36,36)\",\"ticks\":\"outside\"},\"type\":\"mesh3d\"}],\"parcoords\":[{\"line\":{\"colorbar\":{\"outlinewidth\":1,\"tickcolor\":\"rgb(36,36,36)\",\"ticks\":\"outside\"}},\"type\":\"parcoords\"}],\"pie\":[{\"automargin\":true,\"type\":\"pie\"}],\"scatter3d\":[{\"line\":{\"colorbar\":{\"outlinewidth\":1,\"tickcolor\":\"rgb(36,36,36)\",\"ticks\":\"outside\"}},\"marker\":{\"colorbar\":{\"outlinewidth\":1,\"tickcolor\":\"rgb(36,36,36)\",\"ticks\":\"outside\"}},\"type\":\"scatter3d\"}],\"scattercarpet\":[{\"marker\":{\"colorbar\":{\"outlinewidth\":1,\"tickcolor\":\"rgb(36,36,36)\",\"ticks\":\"outside\"}},\"type\":\"scattercarpet\"}],\"scattergeo\":[{\"marker\":{\"colorbar\":{\"outlinewidth\":1,\"tickcolor\":\"rgb(36,36,36)\",\"ticks\":\"outside\"}},\"type\":\"scattergeo\"}],\"scattergl\":[{\"marker\":{\"colorbar\":{\"outlinewidth\":1,\"tickcolor\":\"rgb(36,36,36)\",\"ticks\":\"outside\"}},\"type\":\"scattergl\"}],\"scattermapbox\":[{\"marker\":{\"colorbar\":{\"outlinewidth\":1,\"tickcolor\":\"rgb(36,36,36)\",\"ticks\":\"outside\"}},\"type\":\"scattermapbox\"}],\"scatterpolargl\":[{\"marker\":{\"colorbar\":{\"outlinewidth\":1,\"tickcolor\":\"rgb(36,36,36)\",\"ticks\":\"outside\"}},\"type\":\"scatterpolargl\"}],\"scatterpolar\":[{\"marker\":{\"colorbar\":{\"outlinewidth\":1,\"tickcolor\":\"rgb(36,36,36)\",\"ticks\":\"outside\"}},\"type\":\"scatterpolar\"}],\"scatter\":[{\"marker\":{\"colorbar\":{\"outlinewidth\":1,\"tickcolor\":\"rgb(36,36,36)\",\"ticks\":\"outside\"}},\"type\":\"scatter\"}],\"scatterternary\":[{\"marker\":{\"colorbar\":{\"outlinewidth\":1,\"tickcolor\":\"rgb(36,36,36)\",\"ticks\":\"outside\"}},\"type\":\"scatterternary\"}],\"surface\":[{\"colorbar\":{\"outlinewidth\":1,\"tickcolor\":\"rgb(36,36,36)\",\"ticks\":\"outside\"},\"colorscale\":[[0.0,\"#440154\"],[0.1111111111111111,\"#482878\"],[0.2222222222222222,\"#3e4989\"],[0.3333333333333333,\"#31688e\"],[0.4444444444444444,\"#26828e\"],[0.5555555555555556,\"#1f9e89\"],[0.6666666666666666,\"#35b779\"],[0.7777777777777778,\"#6ece58\"],[0.8888888888888888,\"#b5de2b\"],[1.0,\"#fde725\"]],\"type\":\"surface\"}],\"table\":[{\"cells\":{\"fill\":{\"color\":\"rgb(237,237,237)\"},\"line\":{\"color\":\"white\"}},\"header\":{\"fill\":{\"color\":\"rgb(217,217,217)\"},\"line\":{\"color\":\"white\"}},\"type\":\"table\"}]},\"layout\":{\"annotationdefaults\":{\"arrowhead\":0,\"arrowwidth\":1},\"autotypenumbers\":\"strict\",\"coloraxis\":{\"colorbar\":{\"outlinewidth\":1,\"tickcolor\":\"rgb(36,36,36)\",\"ticks\":\"outside\"}},\"colorscale\":{\"diverging\":[[0.0,\"rgb(103,0,31)\"],[0.1,\"rgb(178,24,43)\"],[0.2,\"rgb(214,96,77)\"],[0.3,\"rgb(244,165,130)\"],[0.4,\"rgb(253,219,199)\"],[0.5,\"rgb(247,247,247)\"],[0.6,\"rgb(209,229,240)\"],[0.7,\"rgb(146,197,222)\"],[0.8,\"rgb(67,147,195)\"],[0.9,\"rgb(33,102,172)\"],[1.0,\"rgb(5,48,97)\"]],\"sequential\":[[0.0,\"#440154\"],[0.1111111111111111,\"#482878\"],[0.2222222222222222,\"#3e4989\"],[0.3333333333333333,\"#31688e\"],[0.4444444444444444,\"#26828e\"],[0.5555555555555556,\"#1f9e89\"],[0.6666666666666666,\"#35b779\"],[0.7777777777777778,\"#6ece58\"],[0.8888888888888888,\"#b5de2b\"],[1.0,\"#fde725\"]],\"sequentialminus\":[[0.0,\"#440154\"],[0.1111111111111111,\"#482878\"],[0.2222222222222222,\"#3e4989\"],[0.3333333333333333,\"#31688e\"],[0.4444444444444444,\"#26828e\"],[0.5555555555555556,\"#1f9e89\"],[0.6666666666666666,\"#35b779\"],[0.7777777777777778,\"#6ece58\"],[0.8888888888888888,\"#b5de2b\"],[1.0,\"#fde725\"]]},\"colorway\":[\"#1F77B4\",\"#FF7F0E\",\"#2CA02C\",\"#D62728\",\"#9467BD\",\"#8C564B\",\"#E377C2\",\"#7F7F7F\",\"#BCBD22\",\"#17BECF\"],\"font\":{\"color\":\"rgb(36,36,36)\"},\"geo\":{\"bgcolor\":\"white\",\"lakecolor\":\"white\",\"landcolor\":\"white\",\"showlakes\":true,\"showland\":true,\"subunitcolor\":\"white\"},\"hoverlabel\":{\"align\":\"left\"},\"hovermode\":\"closest\",\"mapbox\":{\"style\":\"light\"},\"paper_bgcolor\":\"white\",\"plot_bgcolor\":\"white\",\"polar\":{\"angularaxis\":{\"gridcolor\":\"rgb(232,232,232)\",\"linecolor\":\"rgb(36,36,36)\",\"showgrid\":false,\"showline\":true,\"ticks\":\"outside\"},\"bgcolor\":\"white\",\"radialaxis\":{\"gridcolor\":\"rgb(232,232,232)\",\"linecolor\":\"rgb(36,36,36)\",\"showgrid\":false,\"showline\":true,\"ticks\":\"outside\"}},\"scene\":{\"xaxis\":{\"backgroundcolor\":\"white\",\"gridcolor\":\"rgb(232,232,232)\",\"gridwidth\":2,\"linecolor\":\"rgb(36,36,36)\",\"showbackground\":true,\"showgrid\":false,\"showline\":true,\"ticks\":\"outside\",\"zeroline\":false,\"zerolinecolor\":\"rgb(36,36,36)\"},\"yaxis\":{\"backgroundcolor\":\"white\",\"gridcolor\":\"rgb(232,232,232)\",\"gridwidth\":2,\"linecolor\":\"rgb(36,36,36)\",\"showbackground\":true,\"showgrid\":false,\"showline\":true,\"ticks\":\"outside\",\"zeroline\":false,\"zerolinecolor\":\"rgb(36,36,36)\"},\"zaxis\":{\"backgroundcolor\":\"white\",\"gridcolor\":\"rgb(232,232,232)\",\"gridwidth\":2,\"linecolor\":\"rgb(36,36,36)\",\"showbackground\":true,\"showgrid\":false,\"showline\":true,\"ticks\":\"outside\",\"zeroline\":false,\"zerolinecolor\":\"rgb(36,36,36)\"}},\"shapedefaults\":{\"fillcolor\":\"black\",\"line\":{\"width\":0},\"opacity\":0.3},\"ternary\":{\"aaxis\":{\"gridcolor\":\"rgb(232,232,232)\",\"linecolor\":\"rgb(36,36,36)\",\"showgrid\":false,\"showline\":true,\"ticks\":\"outside\"},\"baxis\":{\"gridcolor\":\"rgb(232,232,232)\",\"linecolor\":\"rgb(36,36,36)\",\"showgrid\":false,\"showline\":true,\"ticks\":\"outside\"},\"bgcolor\":\"white\",\"caxis\":{\"gridcolor\":\"rgb(232,232,232)\",\"linecolor\":\"rgb(36,36,36)\",\"showgrid\":false,\"showline\":true,\"ticks\":\"outside\"}},\"title\":{\"x\":0.05},\"xaxis\":{\"automargin\":true,\"gridcolor\":\"rgb(232,232,232)\",\"linecolor\":\"rgb(36,36,36)\",\"showgrid\":false,\"showline\":true,\"ticks\":\"outside\",\"title\":{\"standoff\":15},\"zeroline\":false,\"zerolinecolor\":\"rgb(36,36,36)\"},\"yaxis\":{\"automargin\":true,\"gridcolor\":\"rgb(232,232,232)\",\"linecolor\":\"rgb(36,36,36)\",\"showgrid\":false,\"showline\":true,\"ticks\":\"outside\",\"title\":{\"standoff\":15},\"zeroline\":false,\"zerolinecolor\":\"rgb(36,36,36)\"}}},\"xaxis\":{\"anchor\":\"y\",\"domain\":[0.0,0.45]},\"yaxis\":{\"anchor\":\"x\",\"domain\":[0.575,1.0]},\"xaxis2\":{\"anchor\":\"y2\",\"domain\":[0.55,1.0]},\"yaxis2\":{\"anchor\":\"x2\",\"domain\":[0.575,1.0]},\"xaxis3\":{\"anchor\":\"y3\",\"domain\":[0.0,0.45]},\"yaxis3\":{\"anchor\":\"x3\",\"domain\":[0.0,0.425]},\"xaxis4\":{\"anchor\":\"y4\",\"domain\":[0.55,1.0]},\"yaxis4\":{\"anchor\":\"x4\",\"domain\":[0.0,0.425]},\"height\":800,\"width\":800},                        {\"responsive\": true}                    ).then(function(){\n",
       "                            \n",
       "var gd = document.getElementById('1e9c7757-08cc-4042-b66b-727d32a6998f');\n",
       "var x = new MutationObserver(function (mutations, observer) {{\n",
       "        var display = window.getComputedStyle(gd).display;\n",
       "        if (!display || display === 'none') {{\n",
       "            console.log([gd, 'removed!']);\n",
       "            Plotly.purge(gd);\n",
       "            observer.disconnect();\n",
       "        }}\n",
       "}});\n",
       "\n",
       "// Listen for the removal of the full notebook cells\n",
       "var notebookContainer = gd.closest('#notebook-container');\n",
       "if (notebookContainer) {{\n",
       "    x.observe(notebookContainer, {childList: true});\n",
       "}}\n",
       "\n",
       "// Listen for the clearing of the current output cell\n",
       "var outputEl = gd.closest('.output');\n",
       "if (outputEl) {{\n",
       "    x.observe(outputEl, {childList: true});\n",
       "}}\n",
       "\n",
       "                        })                };                });            </script>        </div>"
      ]
     },
     "metadata": {},
     "output_type": "display_data"
    }
   ],
   "source": [
    "fig = make_subplots(rows=2, cols=2) \n",
    "for i in range(4): \n",
    "    fig.add_scatter(y=y[:, i], row=1, col=1, showlegend=False, line_color=px.colors.qualitative.T10[i])\n",
    "    fig.add_scatter(y=results.qU.y[:, 0, i], row=1, col=1, showlegend=False, line_dash='dash', line_color=px.colors.qualitative.T10[i])\n",
    "fig.add_scatter(y=results.qU.v[:, 0, 0], row=2, col=1, showlegend=False, line_color=px.colors.qualitative.T10[0])\n",
    "fig.add_scatter(y=gen.v[:, 0, -1, 0], row=2, col=1, showlegend=False, line_dash='dash',line_color=px.colors.qualitative.T10[0])\n",
    "\n",
    "for i in range(2): \n",
    "    fig.add_scatter(y=results.qU.x[:, 0, i], row=1, col=2, showlegend=False, line_color=px.colors.qualitative.T10[i])\n",
    "    fig.add_scatter(y=gen.x[:, 0, i, 0], row=1, col=2, showlegend=False, line_color=px.colors.qualitative.T10[i], line_dash='dash')\n",
    "    \n",
    "fig.update_layout(height=800, width=800, template='simple_white')"
   ]
  },
  {
   "cell_type": "code",
   "execution_count": 9,
   "id": "3bb462e1",
   "metadata": {},
   "outputs": [],
   "source": [
    "x = results.qU.x.reshape((results.qU.x.shape[0], -1))\n",
    "v = results.qU.v.reshape((results.qU.v.shape[0], -1))\n",
    "xv = torch.cat([x, v], dim=1)"
   ]
  },
  {
   "cell_type": "code",
   "execution_count": 10,
   "id": "485acc39",
   "metadata": {},
   "outputs": [
    {
     "ename": "ValueError",
     "evalue": "Expected parameter covariance_matrix (Tensor of shape (32, 18, 18)) of distribution Gaussian(loc: torch.Size([32, 18]), covariance_matrix: torch.Size([32, 18, 18])) to satisfy the constraint PositiveDefinite(), but found invalid values:\ntensor([[[ 2.7842e-03,  1.8979e-04, -3.9823e-04,  ...,  3.4155e-04,\n           1.7678e-04,  0.0000e+00],\n         [ 1.8979e-04,  1.6529e-03,  1.4166e-03,  ..., -6.5880e-05,\n           1.1614e-04,  0.0000e+00],\n         [-3.9823e-04,  1.4166e-03,  1.9212e-03,  ..., -1.4897e-04,\n           3.8533e-03,  0.0000e+00],\n         ...,\n         [ 3.4155e-04, -6.5880e-05, -1.4897e-04,  ...,  8.8476e-03,\n           2.4655e-05,  0.0000e+00],\n         [ 1.7678e-04,  1.1614e-04,  3.8533e-03,  ...,  2.4655e-05,\n           5.5157e-01,  0.0000e+00],\n         [ 0.0000e+00,  0.0000e+00,  0.0000e+00,  ...,  0.0000e+00,\n           0.0000e+00,  0.0000e+00]],\n\n        [[ 2.7842e-03,  1.8979e-04, -3.9823e-04,  ...,  3.4155e-04,\n           1.7678e-04,  0.0000e+00],\n         [ 1.8979e-04,  1.6529e-03,  1.4166e-03,  ..., -6.5880e-05,\n           1.1614e-04,  0.0000e+00],\n         [-3.9823e-04,  1.4166e-03,  1.9212e-03,  ..., -1.4897e-04,\n           3.8533e-03,  0.0000e+00],\n         ...,\n         [ 3.4155e-04, -6.5880e-05, -1.4897e-04,  ...,  8.8476e-03,\n           2.4655e-05,  0.0000e+00],\n         [ 1.7678e-04,  1.1614e-04,  3.8533e-03,  ...,  2.4655e-05,\n           5.5157e-01,  0.0000e+00],\n         [ 0.0000e+00,  0.0000e+00,  0.0000e+00,  ...,  0.0000e+00,\n           0.0000e+00,  0.0000e+00]],\n\n        [[ 2.7842e-03,  1.8979e-04, -3.9823e-04,  ...,  3.4155e-04,\n           1.7678e-04,  0.0000e+00],\n         [ 1.8979e-04,  1.6529e-03,  1.4166e-03,  ..., -6.5880e-05,\n           1.1614e-04,  0.0000e+00],\n         [-3.9823e-04,  1.4166e-03,  1.9212e-03,  ..., -1.4897e-04,\n           3.8533e-03,  0.0000e+00],\n         ...,\n         [ 3.4155e-04, -6.5880e-05, -1.4897e-04,  ...,  8.8476e-03,\n           2.4655e-05,  0.0000e+00],\n         [ 1.7678e-04,  1.1614e-04,  3.8533e-03,  ...,  2.4655e-05,\n           5.5157e-01,  0.0000e+00],\n         [ 0.0000e+00,  0.0000e+00,  0.0000e+00,  ...,  0.0000e+00,\n           0.0000e+00,  0.0000e+00]],\n\n        ...,\n\n        [[ 2.7842e-03,  1.8979e-04, -3.9823e-04,  ...,  3.4155e-04,\n           1.7678e-04,  0.0000e+00],\n         [ 1.8979e-04,  1.6529e-03,  1.4166e-03,  ..., -6.5880e-05,\n           1.1614e-04,  0.0000e+00],\n         [-3.9823e-04,  1.4166e-03,  1.9212e-03,  ..., -1.4897e-04,\n           3.8533e-03,  0.0000e+00],\n         ...,\n         [ 3.4155e-04, -6.5880e-05, -1.4897e-04,  ...,  8.8476e-03,\n           2.4655e-05,  0.0000e+00],\n         [ 1.7678e-04,  1.1614e-04,  3.8533e-03,  ...,  2.4655e-05,\n           5.5157e-01,  0.0000e+00],\n         [ 0.0000e+00,  0.0000e+00,  0.0000e+00,  ...,  0.0000e+00,\n           0.0000e+00,  0.0000e+00]],\n\n        [[ 2.7842e-03,  1.8979e-04, -3.9823e-04,  ...,  3.4155e-04,\n           1.7678e-04,  0.0000e+00],\n         [ 1.8979e-04,  1.6529e-03,  1.4166e-03,  ..., -6.5880e-05,\n           1.1614e-04,  0.0000e+00],\n         [-3.9823e-04,  1.4166e-03,  1.9212e-03,  ..., -1.4897e-04,\n           3.8533e-03,  0.0000e+00],\n         ...,\n         [ 3.4155e-04, -6.5880e-05, -1.4897e-04,  ...,  8.8476e-03,\n           2.4655e-05,  0.0000e+00],\n         [ 1.7678e-04,  1.1614e-04,  3.8533e-03,  ...,  2.4655e-05,\n           5.5157e-01,  0.0000e+00],\n         [ 0.0000e+00,  0.0000e+00,  0.0000e+00,  ...,  0.0000e+00,\n           0.0000e+00,  0.0000e+00]],\n\n        [[ 2.7842e-03,  1.8979e-04, -3.9823e-04,  ...,  3.4155e-04,\n           1.7678e-04,  0.0000e+00],\n         [ 1.8979e-04,  1.6529e-03,  1.4166e-03,  ..., -6.5880e-05,\n           1.1614e-04,  0.0000e+00],\n         [-3.9823e-04,  1.4166e-03,  1.9212e-03,  ..., -1.4897e-04,\n           3.8533e-03,  0.0000e+00],\n         ...,\n         [ 3.4155e-04, -6.5880e-05, -1.4897e-04,  ...,  8.8476e-03,\n           2.4655e-05,  0.0000e+00],\n         [ 1.7678e-04,  1.1614e-04,  3.8533e-03,  ...,  2.4655e-05,\n           5.5157e-01,  0.0000e+00],\n         [ 0.0000e+00,  0.0000e+00,  0.0000e+00,  ...,  0.0000e+00,\n           0.0000e+00,  0.0000e+00]]])",
     "output_type": "error",
     "traceback": [
      "\u001b[0;31m---------------------------------------------------------------------------\u001b[0m",
      "\u001b[0;31mValueError\u001b[0m                                Traceback (most recent call last)",
      "\u001b[0;32m<ipython-input-10-4b354427a739>\u001b[0m in \u001b[0;36m<module>\u001b[0;34m\u001b[0m\n\u001b[0;32m----> 1\u001b[0;31m \u001b[0mtraj\u001b[0m \u001b[0;34m=\u001b[0m \u001b[0mGaussian\u001b[0m\u001b[0;34m(\u001b[0m\u001b[0mxv\u001b[0m\u001b[0;34m,\u001b[0m \u001b[0mresults\u001b[0m\u001b[0;34m.\u001b[0m\u001b[0mqU\u001b[0m\u001b[0;34m.\u001b[0m\u001b[0mc\u001b[0m\u001b[0;34m)\u001b[0m\u001b[0;34m[\u001b[0m\u001b[0;32mNone\u001b[0m\u001b[0;34m,\u001b[0m \u001b[0;34m...\u001b[0m\u001b[0;34m]\u001b[0m\u001b[0;34m\u001b[0m\u001b[0;34m\u001b[0m\u001b[0m\n\u001b[0m\u001b[1;32m      2\u001b[0m \u001b[0mplot_traj\u001b[0m\u001b[0;34m(\u001b[0m\u001b[0mtraj\u001b[0m\u001b[0;34m,\u001b[0m\u001b[0mn_states\u001b[0m\u001b[0;34m=\u001b[0m\u001b[0;36m9\u001b[0m\u001b[0;34m)\u001b[0m\u001b[0;34m\u001b[0m\u001b[0;34m\u001b[0m\u001b[0m\n",
      "\u001b[0;32m~/anaconda3/envs/bcirob/lib/python3.8/site-packages/torch/distributions/multivariate_normal.py\u001b[0m in \u001b[0;36m__init__\u001b[0;34m(self, loc, covariance_matrix, precision_matrix, scale_tril, validate_args)\u001b[0m\n\u001b[1;32m    144\u001b[0m \u001b[0;34m\u001b[0m\u001b[0m\n\u001b[1;32m    145\u001b[0m         \u001b[0mevent_shape\u001b[0m \u001b[0;34m=\u001b[0m \u001b[0mself\u001b[0m\u001b[0;34m.\u001b[0m\u001b[0mloc\u001b[0m\u001b[0;34m.\u001b[0m\u001b[0mshape\u001b[0m\u001b[0;34m[\u001b[0m\u001b[0;34m-\u001b[0m\u001b[0;36m1\u001b[0m\u001b[0;34m:\u001b[0m\u001b[0;34m]\u001b[0m\u001b[0;34m\u001b[0m\u001b[0;34m\u001b[0m\u001b[0m\n\u001b[0;32m--> 146\u001b[0;31m         \u001b[0msuper\u001b[0m\u001b[0;34m(\u001b[0m\u001b[0mMultivariateNormal\u001b[0m\u001b[0;34m,\u001b[0m \u001b[0mself\u001b[0m\u001b[0;34m)\u001b[0m\u001b[0;34m.\u001b[0m\u001b[0m__init__\u001b[0m\u001b[0;34m(\u001b[0m\u001b[0mbatch_shape\u001b[0m\u001b[0;34m,\u001b[0m \u001b[0mevent_shape\u001b[0m\u001b[0;34m,\u001b[0m \u001b[0mvalidate_args\u001b[0m\u001b[0;34m=\u001b[0m\u001b[0mvalidate_args\u001b[0m\u001b[0;34m)\u001b[0m\u001b[0;34m\u001b[0m\u001b[0;34m\u001b[0m\u001b[0m\n\u001b[0m\u001b[1;32m    147\u001b[0m \u001b[0;34m\u001b[0m\u001b[0m\n\u001b[1;32m    148\u001b[0m         \u001b[0;32mif\u001b[0m \u001b[0mscale_tril\u001b[0m \u001b[0;32mis\u001b[0m \u001b[0;32mnot\u001b[0m \u001b[0;32mNone\u001b[0m\u001b[0;34m:\u001b[0m\u001b[0;34m\u001b[0m\u001b[0;34m\u001b[0m\u001b[0m\n",
      "\u001b[0;32m~/anaconda3/envs/bcirob/lib/python3.8/site-packages/torch/distributions/distribution.py\u001b[0m in \u001b[0;36m__init__\u001b[0;34m(self, batch_shape, event_shape, validate_args)\u001b[0m\n\u001b[1;32m     53\u001b[0m                 \u001b[0mvalid\u001b[0m \u001b[0;34m=\u001b[0m \u001b[0mconstraint\u001b[0m\u001b[0;34m.\u001b[0m\u001b[0mcheck\u001b[0m\u001b[0;34m(\u001b[0m\u001b[0mvalue\u001b[0m\u001b[0;34m)\u001b[0m\u001b[0;34m\u001b[0m\u001b[0;34m\u001b[0m\u001b[0m\n\u001b[1;32m     54\u001b[0m                 \u001b[0;32mif\u001b[0m \u001b[0;32mnot\u001b[0m \u001b[0mvalid\u001b[0m\u001b[0;34m.\u001b[0m\u001b[0mall\u001b[0m\u001b[0;34m(\u001b[0m\u001b[0;34m)\u001b[0m\u001b[0;34m:\u001b[0m\u001b[0;34m\u001b[0m\u001b[0;34m\u001b[0m\u001b[0m\n\u001b[0;32m---> 55\u001b[0;31m                     raise ValueError(\n\u001b[0m\u001b[1;32m     56\u001b[0m                         \u001b[0;34mf\"Expected parameter {param} \"\u001b[0m\u001b[0;34m\u001b[0m\u001b[0;34m\u001b[0m\u001b[0m\n\u001b[1;32m     57\u001b[0m                         \u001b[0;34mf\"({type(value).__name__} of shape {tuple(value.shape)}) \"\u001b[0m\u001b[0;34m\u001b[0m\u001b[0;34m\u001b[0m\u001b[0m\n",
      "\u001b[0;31mValueError\u001b[0m: Expected parameter covariance_matrix (Tensor of shape (32, 18, 18)) of distribution Gaussian(loc: torch.Size([32, 18]), covariance_matrix: torch.Size([32, 18, 18])) to satisfy the constraint PositiveDefinite(), but found invalid values:\ntensor([[[ 2.7842e-03,  1.8979e-04, -3.9823e-04,  ...,  3.4155e-04,\n           1.7678e-04,  0.0000e+00],\n         [ 1.8979e-04,  1.6529e-03,  1.4166e-03,  ..., -6.5880e-05,\n           1.1614e-04,  0.0000e+00],\n         [-3.9823e-04,  1.4166e-03,  1.9212e-03,  ..., -1.4897e-04,\n           3.8533e-03,  0.0000e+00],\n         ...,\n         [ 3.4155e-04, -6.5880e-05, -1.4897e-04,  ...,  8.8476e-03,\n           2.4655e-05,  0.0000e+00],\n         [ 1.7678e-04,  1.1614e-04,  3.8533e-03,  ...,  2.4655e-05,\n           5.5157e-01,  0.0000e+00],\n         [ 0.0000e+00,  0.0000e+00,  0.0000e+00,  ...,  0.0000e+00,\n           0.0000e+00,  0.0000e+00]],\n\n        [[ 2.7842e-03,  1.8979e-04, -3.9823e-04,  ...,  3.4155e-04,\n           1.7678e-04,  0.0000e+00],\n         [ 1.8979e-04,  1.6529e-03,  1.4166e-03,  ..., -6.5880e-05,\n           1.1614e-04,  0.0000e+00],\n         [-3.9823e-04,  1.4166e-03,  1.9212e-03,  ..., -1.4897e-04,\n           3.8533e-03,  0.0000e+00],\n         ...,\n         [ 3.4155e-04, -6.5880e-05, -1.4897e-04,  ...,  8.8476e-03,\n           2.4655e-05,  0.0000e+00],\n         [ 1.7678e-04,  1.1614e-04,  3.8533e-03,  ...,  2.4655e-05,\n           5.5157e-01,  0.0000e+00],\n         [ 0.0000e+00,  0.0000e+00,  0.0000e+00,  ...,  0.0000e+00,\n           0.0000e+00,  0.0000e+00]],\n\n        [[ 2.7842e-03,  1.8979e-04, -3.9823e-04,  ...,  3.4155e-04,\n           1.7678e-04,  0.0000e+00],\n         [ 1.8979e-04,  1.6529e-03,  1.4166e-03,  ..., -6.5880e-05,\n           1.1614e-04,  0.0000e+00],\n         [-3.9823e-04,  1.4166e-03,  1.9212e-03,  ..., -1.4897e-04,\n           3.8533e-03,  0.0000e+00],\n         ...,\n         [ 3.4155e-04, -6.5880e-05, -1.4897e-04,  ...,  8.8476e-03,\n           2.4655e-05,  0.0000e+00],\n         [ 1.7678e-04,  1.1614e-04,  3.8533e-03,  ...,  2.4655e-05,\n           5.5157e-01,  0.0000e+00],\n         [ 0.0000e+00,  0.0000e+00,  0.0000e+00,  ...,  0.0000e+00,\n           0.0000e+00,  0.0000e+00]],\n\n        ...,\n\n        [[ 2.7842e-03,  1.8979e-04, -3.9823e-04,  ...,  3.4155e-04,\n           1.7678e-04,  0.0000e+00],\n         [ 1.8979e-04,  1.6529e-03,  1.4166e-03,  ..., -6.5880e-05,\n           1.1614e-04,  0.0000e+00],\n         [-3.9823e-04,  1.4166e-03,  1.9212e-03,  ..., -1.4897e-04,\n           3.8533e-03,  0.0000e+00],\n         ...,\n         [ 3.4155e-04, -6.5880e-05, -1.4897e-04,  ...,  8.8476e-03,\n           2.4655e-05,  0.0000e+00],\n         [ 1.7678e-04,  1.1614e-04,  3.8533e-03,  ...,  2.4655e-05,\n           5.5157e-01,  0.0000e+00],\n         [ 0.0000e+00,  0.0000e+00,  0.0000e+00,  ...,  0.0000e+00,\n           0.0000e+00,  0.0000e+00]],\n\n        [[ 2.7842e-03,  1.8979e-04, -3.9823e-04,  ...,  3.4155e-04,\n           1.7678e-04,  0.0000e+00],\n         [ 1.8979e-04,  1.6529e-03,  1.4166e-03,  ..., -6.5880e-05,\n           1.1614e-04,  0.0000e+00],\n         [-3.9823e-04,  1.4166e-03,  1.9212e-03,  ..., -1.4897e-04,\n           3.8533e-03,  0.0000e+00],\n         ...,\n         [ 3.4155e-04, -6.5880e-05, -1.4897e-04,  ...,  8.8476e-03,\n           2.4655e-05,  0.0000e+00],\n         [ 1.7678e-04,  1.1614e-04,  3.8533e-03,  ...,  2.4655e-05,\n           5.5157e-01,  0.0000e+00],\n         [ 0.0000e+00,  0.0000e+00,  0.0000e+00,  ...,  0.0000e+00,\n           0.0000e+00,  0.0000e+00]],\n\n        [[ 2.7842e-03,  1.8979e-04, -3.9823e-04,  ...,  3.4155e-04,\n           1.7678e-04,  0.0000e+00],\n         [ 1.8979e-04,  1.6529e-03,  1.4166e-03,  ..., -6.5880e-05,\n           1.1614e-04,  0.0000e+00],\n         [-3.9823e-04,  1.4166e-03,  1.9212e-03,  ..., -1.4897e-04,\n           3.8533e-03,  0.0000e+00],\n         ...,\n         [ 3.4155e-04, -6.5880e-05, -1.4897e-04,  ...,  8.8476e-03,\n           2.4655e-05,  0.0000e+00],\n         [ 1.7678e-04,  1.1614e-04,  3.8533e-03,  ...,  2.4655e-05,\n           5.5157e-01,  0.0000e+00],\n         [ 0.0000e+00,  0.0000e+00,  0.0000e+00,  ...,  0.0000e+00,\n           0.0000e+00,  0.0000e+00]]])"
     ]
    }
   ],
   "source": [
    "traj = Gaussian(xv, results.qU.c)[None, ...]\n",
    "plot_traj(traj,n_states=9)"
   ]
  },
  {
   "cell_type": "code",
   "execution_count": null,
   "id": "4cb41653",
   "metadata": {},
   "outputs": [],
   "source": [
    "results.qP"
   ]
  }
 ],
 "metadata": {
  "kernelspec": {
   "display_name": "Python 3",
   "language": "python",
   "name": "python3"
  },
  "language_info": {
   "codemirror_mode": {
    "name": "ipython",
    "version": 3
   },
   "file_extension": ".py",
   "mimetype": "text/x-python",
   "name": "python",
   "nbconvert_exporter": "python",
   "pygments_lexer": "ipython3",
   "version": "3.8.10"
  }
 },
 "nbformat": 4,
 "nbformat_minor": 5
}
