{
 "cells": [
  {
   "cell_type": "code",
   "execution_count": 1,
   "id": "7ee40496",
   "metadata": {},
   "outputs": [],
   "source": [
    "import torch \n",
    "import numpy as np\n",
    "from torchkf import *\n",
    "from pprint import pprint\n",
    "import plotly.express as px\n",
    "import plotly.graph_objects as go\n",
    "from plotly.subplots import make_subplots\n",
    "import logging\n",
    "\n",
    "np.set_printoptions(linewidth=160, precision=2)"
   ]
  },
  {
   "cell_type": "markdown",
   "id": "f688c1bc",
   "metadata": {},
   "source": [
    "#### Generate some data\n",
    "The assumed model is: \n",
    "\\begin{align} \n",
    "    y &= \\theta_1 x \\\\ \\dot{x} &= \\theta_2 x + \\theta_3 v \n",
    "\\end{align}\n",
    "where \n",
    "\\begin{align} \n",
    "    \\theta_1 = \\begin{bmatrix} \n",
    "        0.1250 & 0.1633 \\\\\n",
    "        0.1250 & 0.0676 \\\\ \n",
    "        0.1250 & -0.0676 \\\\ \n",
    "        0.1250 & -0.1633 \n",
    "     \\end{bmatrix} &&\n",
    "     \\theta_2 = \\begin{bmatrix} \n",
    "         -0.25 & 1.00 \\\\\n",
    "         -0.50 & -0.25 \n",
    "     \\end{bmatrix} && \n",
    "     \\theta_3 = \\begin{bmatrix} \n",
    "         1 \\\\ 0\n",
    "     \\end{bmatrix} \n",
    "\\end{align}\n",
    "\n",
    "We generate the data with $v = \\exp\\left(\\frac{1}{4} (t - 12)^2\\right)$. "
   ]
  },
  {
   "cell_type": "code",
   "execution_count": 2,
   "id": "41e305ab",
   "metadata": {},
   "outputs": [],
   "source": [
    "theta1 = torch.tensor([[0.125,  0.1633], \n",
    "                       [0.125,  0.0676], \n",
    "                       [0.125, -0.0676], \n",
    "                       [0.125, -0.1633]])\n",
    "theta2 = torch.tensor([[-0.25,  1.00],\n",
    "                       [-0.50, -0.25]])\n",
    "theta3 = torch.tensor([[1.], \n",
    "                       [0.]])\n",
    "pE = torch.cat([theta1.reshape((-1,)), theta2.reshape((-1,)), theta3.reshape((-1,))])"
   ]
  },
  {
   "cell_type": "code",
   "execution_count": 21,
   "id": "e1219940",
   "metadata": {},
   "outputs": [],
   "source": [
    "nps = (torch.numel(theta1),torch.numel(theta2),torch.numel(theta3))\n",
    "models = [\n",
    "    GaussianModel(\n",
    "        g=lambda x, v, P: P[:nps[0]].reshape(theta1.shape) @ x, \n",
    "        f=lambda x, v, P: P[nps[0]:nps[0] + nps[1]].reshape(theta2.shape) @ x \\\n",
    "                        + P[-nps[2]:].reshape(theta3.shape) @ v,\n",
    "        n=2, sv=1./2,sw=1./2,\n",
    "        V=torch.tensor([np.exp(8.)]), \n",
    "        W=torch.tensor([np.exp(16.)]), \n",
    "        pE=pE, pC=torch.ones_like(pE) * np.exp(-32)\n",
    "    ), \n",
    "    GaussianModel(l=1, V=torch.tensor([np.exp(32.)]))\n",
    "]\n",
    "genmodel = HierarchicalGaussianModel(*models)"
   ]
  },
  {
   "cell_type": "code",
   "execution_count": 22,
   "id": "980159a3",
   "metadata": {},
   "outputs": [
    {
     "data": {
      "application/vnd.plotly.v1+json": {
       "config": {
        "plotlyServerURL": "https://plot.ly"
       },
       "data": [
        {
         "hovertemplate": "variable=wide_variable_0<br>index=%{x}<br>value=%{y}<extra></extra>",
         "legendgroup": "wide_variable_0",
         "line": {
          "color": "#636efa",
          "dash": "solid"
         },
         "marker": {
          "symbol": "circle"
         },
         "mode": "lines",
         "name": "wide_variable_0",
         "orientation": "v",
         "showlegend": true,
         "type": "scatter",
         "x": [
          0,
          1,
          2,
          3,
          4,
          5,
          6,
          7,
          8,
          9,
          10,
          11,
          12,
          13,
          14,
          15,
          16,
          17,
          18,
          19,
          20,
          21,
          22,
          23,
          24,
          25,
          26,
          27,
          28,
          29,
          30,
          31
         ],
         "xaxis": "x",
         "y": [
          -0.010331906148387894,
          -0.02207236571499443,
          5.8156181168521405e-05,
          0.019868562510428928,
          0.01867534335684496,
          0.005589876263477019,
          0.0021798379323221193,
          0.006040208832434844,
          -0.005549684469552228,
          -0.0036911478890776263,
          0.04419967448699531,
          0.037241884933702424,
          -0.03216432217257861,
          -0.11341990156801228,
          -0.17532038429961228,
          -0.15143896413148608,
          -0.1028657950202981,
          -0.03126297999993849,
          0.04799414475824831,
          0.05423797259777316,
          0.06454527538192745,
          0.022926167120882454,
          -0.018440872765793738,
          -0.01282523610360597,
          -0.02587980123328317,
          -0.0011676904538999834,
          0.0002469985008550472,
          0.008352540407571472,
          -0.0009568797050682632,
          0.008888040246121047,
          -0.02481283744524515,
          0.007388033163238449
         ],
         "yaxis": "y"
        },
        {
         "hovertemplate": "variable=wide_variable_1<br>index=%{x}<br>value=%{y}<extra></extra>",
         "legendgroup": "wide_variable_1",
         "line": {
          "color": "#EF553B",
          "dash": "solid"
         },
         "marker": {
          "symbol": "circle"
         },
         "mode": "lines",
         "name": "wide_variable_1",
         "orientation": "v",
         "showlegend": true,
         "type": "scatter",
         "x": [
          0,
          1,
          2,
          3,
          4,
          5,
          6,
          7,
          8,
          9,
          10,
          11,
          12,
          13,
          14,
          15,
          16,
          17,
          18,
          19,
          20,
          21,
          22,
          23,
          24,
          25,
          26,
          27,
          28,
          29,
          30,
          31
         ],
         "xaxis": "x",
         "y": [
          0.0023848144846236904,
          -0.037265515055437605,
          0.010139577328864079,
          0.0019449657861475432,
          0.008049905548071659,
          -0.019323695479561663,
          -0.0034968422257669073,
          -0.0031111227197808877,
          -0.004073760229605674,
          0.018798969177644027,
          0.05492263844511694,
          0.08922409627126422,
          0.060106015428618036,
          -0.014192992787443171,
          -0.08958199479912055,
          -0.13524310985382867,
          -0.08509472574054518,
          -0.024364777642918122,
          0.014310342296697687,
          0.05083810549826856,
          -0.008107617527494199,
          0.009124744851232708,
          -0.003216116124211716,
          0.0037448991732673114,
          0.015685708658043376,
          0.00039592559053894423,
          -0.006757515224293748,
          0.018868008834207518,
          -0.012825269699704184,
          -0.00803361346949704,
          0.038600876426002156,
          0.03826456498723912
         ],
         "yaxis": "y"
        },
        {
         "hovertemplate": "variable=wide_variable_2<br>index=%{x}<br>value=%{y}<extra></extra>",
         "legendgroup": "wide_variable_2",
         "line": {
          "color": "#00cc96",
          "dash": "solid"
         },
         "marker": {
          "symbol": "circle"
         },
         "mode": "lines",
         "name": "wide_variable_2",
         "orientation": "v",
         "showlegend": true,
         "type": "scatter",
         "x": [
          0,
          1,
          2,
          3,
          4,
          5,
          6,
          7,
          8,
          9,
          10,
          11,
          12,
          13,
          14,
          15,
          16,
          17,
          18,
          19,
          20,
          21,
          22,
          23,
          24,
          25,
          26,
          27,
          28,
          29,
          30,
          31
         ],
         "xaxis": "x",
         "y": [
          0.012428563320409517,
          -0.03284010965355623,
          -0.023304084920862642,
          -0.039802836072729254,
          0.005703194911484954,
          0.027034925871911423,
          -0.009992013848513932,
          -0.015215977783405714,
          0.00802029542430291,
          0.028195344581172243,
          0.07577059839354915,
          0.1645824553648301,
          0.17260889040463245,
          0.12717638657163963,
          0.030284927245838845,
          -0.03508492265303484,
          -0.09665131295100543,
          -0.05039028375068143,
          -0.015260759144188599,
          0.008150608044650976,
          0.0030930355490925987,
          0.034944856913104755,
          0.002889346209461451,
          -0.007888792996121831,
          0.01017134141995203,
          0.03413032827159759,
          0.03867455681388979,
          0.012282635935111391,
          -0.010320508217942288,
          0.007053216489410335,
          -0.0029918262294563315,
          0.027932512356953803
         ],
         "yaxis": "y"
        },
        {
         "hovertemplate": "variable=wide_variable_3<br>index=%{x}<br>value=%{y}<extra></extra>",
         "legendgroup": "wide_variable_3",
         "line": {
          "color": "#ab63fa",
          "dash": "solid"
         },
         "marker": {
          "symbol": "circle"
         },
         "mode": "lines",
         "name": "wide_variable_3",
         "orientation": "v",
         "showlegend": true,
         "type": "scatter",
         "x": [
          0,
          1,
          2,
          3,
          4,
          5,
          6,
          7,
          8,
          9,
          10,
          11,
          12,
          13,
          14,
          15,
          16,
          17,
          18,
          19,
          20,
          21,
          22,
          23,
          24,
          25,
          26,
          27,
          28,
          29,
          30,
          31
         ],
         "xaxis": "x",
         "y": [
          -0.011403148153991025,
          0.03189048432637365,
          -0.011562455346748211,
          0.024095193261820757,
          0.015371825937077225,
          0.023625414672062726,
          0.003250008835895544,
          0.007131718366130592,
          -0.011069150521095542,
          0.02882172761356311,
          0.11762401900357758,
          0.21048265246267953,
          0.25139436720079467,
          0.18943262447860873,
          0.0908194899908561,
          -0.07971916645610566,
          -0.12337357296603385,
          -0.06861005932723269,
          -0.07291028170505015,
          -0.03121972762089268,
          0.04076152860649806,
          0.05325126989008741,
          0.04925519409375163,
          -0.0013857004419301714,
          -0.006269151072954139,
          0.022463387991774185,
          -0.0026128088339964495,
          -0.035347630980373065,
          -0.013129005872951047,
          -0.0010466571863780787,
          -0.020045498671569455,
          0.0013774637970698843
         ],
         "yaxis": "y"
        },
        {
         "hovertemplate": "variable=wide_variable_4<br>index=%{x}<br>value=%{y}<extra></extra>",
         "legendgroup": "wide_variable_4",
         "line": {
          "color": "#FFA15A",
          "dash": "solid"
         },
         "marker": {
          "symbol": "circle"
         },
         "mode": "lines",
         "name": "wide_variable_4",
         "orientation": "v",
         "showlegend": true,
         "type": "scatter",
         "x": [
          0,
          1,
          2,
          3,
          4,
          5,
          6,
          7,
          8,
          9,
          10,
          11,
          12,
          13,
          14,
          15,
          16,
          17,
          18,
          19,
          20,
          21,
          22,
          23,
          24,
          25,
          26,
          27,
          28,
          29,
          30,
          31
         ],
         "xaxis": "x",
         "y": [
          0,
          -6.230663154679975e-08,
          -4.4802244484660666e-07,
          1.9077911951930127e-06,
          -2.317096171224159e-06,
          3.7113984195941476e-05,
          0.0006377073701651835,
          0.006985093864077187,
          0.04844021135968346,
          0.20829581507876416,
          0.56116101884732,
          0.9409836560526496,
          0.9393719097288961,
          0.4128372152688673,
          -0.27129640822083945,
          -0.6700834147154188,
          -0.6559433942037808,
          -0.37458367708305723,
          -0.0461089553211661,
          0.1725671556698765,
          0.23231464181397057,
          0.17042975705163182,
          0.060909695555641866,
          -0.03124408133912697,
          -0.07394154703916567,
          -0.06860799472125394,
          -0.036394901765009584,
          -0.0014844682691855446,
          0.02031677853259542,
          0.024958654919974503,
          0.017232246180785227,
          0.005267515761016561
         ],
         "yaxis": "y"
        },
        {
         "hovertemplate": "variable=wide_variable_5<br>index=%{x}<br>value=%{y}<extra></extra>",
         "legendgroup": "wide_variable_5",
         "line": {
          "color": "#19d3f3",
          "dash": "solid"
         },
         "marker": {
          "symbol": "circle"
         },
         "mode": "lines",
         "name": "wide_variable_5",
         "orientation": "v",
         "showlegend": true,
         "type": "scatter",
         "x": [
          0,
          1,
          2,
          3,
          4,
          5,
          6,
          7,
          8,
          9,
          10,
          11,
          12,
          13,
          14,
          15,
          16,
          17,
          18,
          19,
          20,
          21,
          22,
          23,
          24,
          25,
          26,
          27,
          28,
          29,
          30,
          31
         ],
         "xaxis": "x",
         "y": [
          0,
          1.5444185856022166e-08,
          1.396690891405244e-07,
          -2.7996442759822707e-07,
          1.300582424827027e-07,
          -4.5380979893541335e-06,
          -0.00010535765138589333,
          -0.0013480095638608782,
          -0.011264101868924127,
          -0.060584715545598765,
          -0.2141818180025307,
          -0.5087953145077161,
          -0.8326389737549564,
          -0.9578035835685612,
          -0.7670563785683558,
          -0.3701420331948905,
          0.01857862527544729,
          0.2454799338564996,
          0.27933957862412934,
          0.18188688927504432,
          0.04595506116361728,
          -0.055902023706830284,
          -0.0940699891288847,
          -0.07748744470317939,
          -0.03470106231886594,
          0.005906964602536355,
          0.028042038780235343,
          0.029623454310294246,
          0.018070499324427114,
          0.003430796223632458,
          -0.006897706485044043,
          -0.010248858619261616
         ],
         "yaxis": "y"
        }
       ],
       "layout": {
        "legend": {
         "title": {
          "text": "variable"
         },
         "tracegroupgap": 0
        },
        "margin": {
         "t": 60
        },
        "template": {
         "data": {
          "bar": [
           {
            "error_x": {
             "color": "#2a3f5f"
            },
            "error_y": {
             "color": "#2a3f5f"
            },
            "marker": {
             "line": {
              "color": "#E5ECF6",
              "width": 0.5
             },
             "pattern": {
              "fillmode": "overlay",
              "size": 10,
              "solidity": 0.2
             }
            },
            "type": "bar"
           }
          ],
          "barpolar": [
           {
            "marker": {
             "line": {
              "color": "#E5ECF6",
              "width": 0.5
             },
             "pattern": {
              "fillmode": "overlay",
              "size": 10,
              "solidity": 0.2
             }
            },
            "type": "barpolar"
           }
          ],
          "carpet": [
           {
            "aaxis": {
             "endlinecolor": "#2a3f5f",
             "gridcolor": "white",
             "linecolor": "white",
             "minorgridcolor": "white",
             "startlinecolor": "#2a3f5f"
            },
            "baxis": {
             "endlinecolor": "#2a3f5f",
             "gridcolor": "white",
             "linecolor": "white",
             "minorgridcolor": "white",
             "startlinecolor": "#2a3f5f"
            },
            "type": "carpet"
           }
          ],
          "choropleth": [
           {
            "colorbar": {
             "outlinewidth": 0,
             "ticks": ""
            },
            "type": "choropleth"
           }
          ],
          "contour": [
           {
            "colorbar": {
             "outlinewidth": 0,
             "ticks": ""
            },
            "colorscale": [
             [
              0,
              "#0d0887"
             ],
             [
              0.1111111111111111,
              "#46039f"
             ],
             [
              0.2222222222222222,
              "#7201a8"
             ],
             [
              0.3333333333333333,
              "#9c179e"
             ],
             [
              0.4444444444444444,
              "#bd3786"
             ],
             [
              0.5555555555555556,
              "#d8576b"
             ],
             [
              0.6666666666666666,
              "#ed7953"
             ],
             [
              0.7777777777777778,
              "#fb9f3a"
             ],
             [
              0.8888888888888888,
              "#fdca26"
             ],
             [
              1,
              "#f0f921"
             ]
            ],
            "type": "contour"
           }
          ],
          "contourcarpet": [
           {
            "colorbar": {
             "outlinewidth": 0,
             "ticks": ""
            },
            "type": "contourcarpet"
           }
          ],
          "heatmap": [
           {
            "colorbar": {
             "outlinewidth": 0,
             "ticks": ""
            },
            "colorscale": [
             [
              0,
              "#0d0887"
             ],
             [
              0.1111111111111111,
              "#46039f"
             ],
             [
              0.2222222222222222,
              "#7201a8"
             ],
             [
              0.3333333333333333,
              "#9c179e"
             ],
             [
              0.4444444444444444,
              "#bd3786"
             ],
             [
              0.5555555555555556,
              "#d8576b"
             ],
             [
              0.6666666666666666,
              "#ed7953"
             ],
             [
              0.7777777777777778,
              "#fb9f3a"
             ],
             [
              0.8888888888888888,
              "#fdca26"
             ],
             [
              1,
              "#f0f921"
             ]
            ],
            "type": "heatmap"
           }
          ],
          "heatmapgl": [
           {
            "colorbar": {
             "outlinewidth": 0,
             "ticks": ""
            },
            "colorscale": [
             [
              0,
              "#0d0887"
             ],
             [
              0.1111111111111111,
              "#46039f"
             ],
             [
              0.2222222222222222,
              "#7201a8"
             ],
             [
              0.3333333333333333,
              "#9c179e"
             ],
             [
              0.4444444444444444,
              "#bd3786"
             ],
             [
              0.5555555555555556,
              "#d8576b"
             ],
             [
              0.6666666666666666,
              "#ed7953"
             ],
             [
              0.7777777777777778,
              "#fb9f3a"
             ],
             [
              0.8888888888888888,
              "#fdca26"
             ],
             [
              1,
              "#f0f921"
             ]
            ],
            "type": "heatmapgl"
           }
          ],
          "histogram": [
           {
            "marker": {
             "pattern": {
              "fillmode": "overlay",
              "size": 10,
              "solidity": 0.2
             }
            },
            "type": "histogram"
           }
          ],
          "histogram2d": [
           {
            "colorbar": {
             "outlinewidth": 0,
             "ticks": ""
            },
            "colorscale": [
             [
              0,
              "#0d0887"
             ],
             [
              0.1111111111111111,
              "#46039f"
             ],
             [
              0.2222222222222222,
              "#7201a8"
             ],
             [
              0.3333333333333333,
              "#9c179e"
             ],
             [
              0.4444444444444444,
              "#bd3786"
             ],
             [
              0.5555555555555556,
              "#d8576b"
             ],
             [
              0.6666666666666666,
              "#ed7953"
             ],
             [
              0.7777777777777778,
              "#fb9f3a"
             ],
             [
              0.8888888888888888,
              "#fdca26"
             ],
             [
              1,
              "#f0f921"
             ]
            ],
            "type": "histogram2d"
           }
          ],
          "histogram2dcontour": [
           {
            "colorbar": {
             "outlinewidth": 0,
             "ticks": ""
            },
            "colorscale": [
             [
              0,
              "#0d0887"
             ],
             [
              0.1111111111111111,
              "#46039f"
             ],
             [
              0.2222222222222222,
              "#7201a8"
             ],
             [
              0.3333333333333333,
              "#9c179e"
             ],
             [
              0.4444444444444444,
              "#bd3786"
             ],
             [
              0.5555555555555556,
              "#d8576b"
             ],
             [
              0.6666666666666666,
              "#ed7953"
             ],
             [
              0.7777777777777778,
              "#fb9f3a"
             ],
             [
              0.8888888888888888,
              "#fdca26"
             ],
             [
              1,
              "#f0f921"
             ]
            ],
            "type": "histogram2dcontour"
           }
          ],
          "mesh3d": [
           {
            "colorbar": {
             "outlinewidth": 0,
             "ticks": ""
            },
            "type": "mesh3d"
           }
          ],
          "parcoords": [
           {
            "line": {
             "colorbar": {
              "outlinewidth": 0,
              "ticks": ""
             }
            },
            "type": "parcoords"
           }
          ],
          "pie": [
           {
            "automargin": true,
            "type": "pie"
           }
          ],
          "scatter": [
           {
            "marker": {
             "colorbar": {
              "outlinewidth": 0,
              "ticks": ""
             }
            },
            "type": "scatter"
           }
          ],
          "scatter3d": [
           {
            "line": {
             "colorbar": {
              "outlinewidth": 0,
              "ticks": ""
             }
            },
            "marker": {
             "colorbar": {
              "outlinewidth": 0,
              "ticks": ""
             }
            },
            "type": "scatter3d"
           }
          ],
          "scattercarpet": [
           {
            "marker": {
             "colorbar": {
              "outlinewidth": 0,
              "ticks": ""
             }
            },
            "type": "scattercarpet"
           }
          ],
          "scattergeo": [
           {
            "marker": {
             "colorbar": {
              "outlinewidth": 0,
              "ticks": ""
             }
            },
            "type": "scattergeo"
           }
          ],
          "scattergl": [
           {
            "marker": {
             "colorbar": {
              "outlinewidth": 0,
              "ticks": ""
             }
            },
            "type": "scattergl"
           }
          ],
          "scattermapbox": [
           {
            "marker": {
             "colorbar": {
              "outlinewidth": 0,
              "ticks": ""
             }
            },
            "type": "scattermapbox"
           }
          ],
          "scatterpolar": [
           {
            "marker": {
             "colorbar": {
              "outlinewidth": 0,
              "ticks": ""
             }
            },
            "type": "scatterpolar"
           }
          ],
          "scatterpolargl": [
           {
            "marker": {
             "colorbar": {
              "outlinewidth": 0,
              "ticks": ""
             }
            },
            "type": "scatterpolargl"
           }
          ],
          "scatterternary": [
           {
            "marker": {
             "colorbar": {
              "outlinewidth": 0,
              "ticks": ""
             }
            },
            "type": "scatterternary"
           }
          ],
          "surface": [
           {
            "colorbar": {
             "outlinewidth": 0,
             "ticks": ""
            },
            "colorscale": [
             [
              0,
              "#0d0887"
             ],
             [
              0.1111111111111111,
              "#46039f"
             ],
             [
              0.2222222222222222,
              "#7201a8"
             ],
             [
              0.3333333333333333,
              "#9c179e"
             ],
             [
              0.4444444444444444,
              "#bd3786"
             ],
             [
              0.5555555555555556,
              "#d8576b"
             ],
             [
              0.6666666666666666,
              "#ed7953"
             ],
             [
              0.7777777777777778,
              "#fb9f3a"
             ],
             [
              0.8888888888888888,
              "#fdca26"
             ],
             [
              1,
              "#f0f921"
             ]
            ],
            "type": "surface"
           }
          ],
          "table": [
           {
            "cells": {
             "fill": {
              "color": "#EBF0F8"
             },
             "line": {
              "color": "white"
             }
            },
            "header": {
             "fill": {
              "color": "#C8D4E3"
             },
             "line": {
              "color": "white"
             }
            },
            "type": "table"
           }
          ]
         },
         "layout": {
          "annotationdefaults": {
           "arrowcolor": "#2a3f5f",
           "arrowhead": 0,
           "arrowwidth": 1
          },
          "autotypenumbers": "strict",
          "coloraxis": {
           "colorbar": {
            "outlinewidth": 0,
            "ticks": ""
           }
          },
          "colorscale": {
           "diverging": [
            [
             0,
             "#8e0152"
            ],
            [
             0.1,
             "#c51b7d"
            ],
            [
             0.2,
             "#de77ae"
            ],
            [
             0.3,
             "#f1b6da"
            ],
            [
             0.4,
             "#fde0ef"
            ],
            [
             0.5,
             "#f7f7f7"
            ],
            [
             0.6,
             "#e6f5d0"
            ],
            [
             0.7,
             "#b8e186"
            ],
            [
             0.8,
             "#7fbc41"
            ],
            [
             0.9,
             "#4d9221"
            ],
            [
             1,
             "#276419"
            ]
           ],
           "sequential": [
            [
             0,
             "#0d0887"
            ],
            [
             0.1111111111111111,
             "#46039f"
            ],
            [
             0.2222222222222222,
             "#7201a8"
            ],
            [
             0.3333333333333333,
             "#9c179e"
            ],
            [
             0.4444444444444444,
             "#bd3786"
            ],
            [
             0.5555555555555556,
             "#d8576b"
            ],
            [
             0.6666666666666666,
             "#ed7953"
            ],
            [
             0.7777777777777778,
             "#fb9f3a"
            ],
            [
             0.8888888888888888,
             "#fdca26"
            ],
            [
             1,
             "#f0f921"
            ]
           ],
           "sequentialminus": [
            [
             0,
             "#0d0887"
            ],
            [
             0.1111111111111111,
             "#46039f"
            ],
            [
             0.2222222222222222,
             "#7201a8"
            ],
            [
             0.3333333333333333,
             "#9c179e"
            ],
            [
             0.4444444444444444,
             "#bd3786"
            ],
            [
             0.5555555555555556,
             "#d8576b"
            ],
            [
             0.6666666666666666,
             "#ed7953"
            ],
            [
             0.7777777777777778,
             "#fb9f3a"
            ],
            [
             0.8888888888888888,
             "#fdca26"
            ],
            [
             1,
             "#f0f921"
            ]
           ]
          },
          "colorway": [
           "#636efa",
           "#EF553B",
           "#00cc96",
           "#ab63fa",
           "#FFA15A",
           "#19d3f3",
           "#FF6692",
           "#B6E880",
           "#FF97FF",
           "#FECB52"
          ],
          "font": {
           "color": "#2a3f5f"
          },
          "geo": {
           "bgcolor": "white",
           "lakecolor": "white",
           "landcolor": "#E5ECF6",
           "showlakes": true,
           "showland": true,
           "subunitcolor": "white"
          },
          "hoverlabel": {
           "align": "left"
          },
          "hovermode": "closest",
          "mapbox": {
           "style": "light"
          },
          "paper_bgcolor": "white",
          "plot_bgcolor": "#E5ECF6",
          "polar": {
           "angularaxis": {
            "gridcolor": "white",
            "linecolor": "white",
            "ticks": ""
           },
           "bgcolor": "#E5ECF6",
           "radialaxis": {
            "gridcolor": "white",
            "linecolor": "white",
            "ticks": ""
           }
          },
          "scene": {
           "xaxis": {
            "backgroundcolor": "#E5ECF6",
            "gridcolor": "white",
            "gridwidth": 2,
            "linecolor": "white",
            "showbackground": true,
            "ticks": "",
            "zerolinecolor": "white"
           },
           "yaxis": {
            "backgroundcolor": "#E5ECF6",
            "gridcolor": "white",
            "gridwidth": 2,
            "linecolor": "white",
            "showbackground": true,
            "ticks": "",
            "zerolinecolor": "white"
           },
           "zaxis": {
            "backgroundcolor": "#E5ECF6",
            "gridcolor": "white",
            "gridwidth": 2,
            "linecolor": "white",
            "showbackground": true,
            "ticks": "",
            "zerolinecolor": "white"
           }
          },
          "shapedefaults": {
           "line": {
            "color": "#2a3f5f"
           }
          },
          "ternary": {
           "aaxis": {
            "gridcolor": "white",
            "linecolor": "white",
            "ticks": ""
           },
           "baxis": {
            "gridcolor": "white",
            "linecolor": "white",
            "ticks": ""
           },
           "bgcolor": "#E5ECF6",
           "caxis": {
            "gridcolor": "white",
            "linecolor": "white",
            "ticks": ""
           }
          },
          "title": {
           "x": 0.05
          },
          "xaxis": {
           "automargin": true,
           "gridcolor": "white",
           "linecolor": "white",
           "ticks": "",
           "title": {
            "standoff": 15
           },
           "zerolinecolor": "white",
           "zerolinewidth": 2
          },
          "yaxis": {
           "automargin": true,
           "gridcolor": "white",
           "linecolor": "white",
           "ticks": "",
           "title": {
            "standoff": 15
           },
           "zerolinecolor": "white",
           "zerolinewidth": 2
          }
         }
        },
        "xaxis": {
         "anchor": "y",
         "domain": [
          0,
          1
         ],
         "title": {
          "text": "index"
         }
        },
        "yaxis": {
         "anchor": "x",
         "domain": [
          0,
          1
         ],
         "title": {
          "text": "value"
         }
        }
       }
      },
      "text/html": [
       "<div>                            <div id=\"cd7c21cf-1d25-4e00-bad7-affb6745fa0c\" class=\"plotly-graph-div\" style=\"height:525px; width:100%;\"></div>            <script type=\"text/javascript\">                require([\"plotly\"], function(Plotly) {                    window.PLOTLYENV=window.PLOTLYENV || {};                                    if (document.getElementById(\"cd7c21cf-1d25-4e00-bad7-affb6745fa0c\")) {                    Plotly.newPlot(                        \"cd7c21cf-1d25-4e00-bad7-affb6745fa0c\",                        [{\"hovertemplate\":\"variable=wide_variable_0<br>index=%{x}<br>value=%{y}<extra></extra>\",\"legendgroup\":\"wide_variable_0\",\"line\":{\"color\":\"#636efa\",\"dash\":\"solid\"},\"marker\":{\"symbol\":\"circle\"},\"mode\":\"lines\",\"name\":\"wide_variable_0\",\"orientation\":\"v\",\"showlegend\":true,\"x\":[0,1,2,3,4,5,6,7,8,9,10,11,12,13,14,15,16,17,18,19,20,21,22,23,24,25,26,27,28,29,30,31],\"xaxis\":\"x\",\"y\":[-0.010331906148387894,-0.02207236571499443,5.8156181168521405e-05,0.019868562510428928,0.01867534335684496,0.005589876263477019,0.0021798379323221193,0.006040208832434844,-0.005549684469552228,-0.0036911478890776263,0.04419967448699531,0.037241884933702424,-0.03216432217257861,-0.11341990156801228,-0.17532038429961228,-0.15143896413148608,-0.1028657950202981,-0.03126297999993849,0.04799414475824831,0.05423797259777316,0.06454527538192745,0.022926167120882454,-0.018440872765793738,-0.01282523610360597,-0.02587980123328317,-0.0011676904538999834,0.0002469985008550472,0.008352540407571472,-0.0009568797050682632,0.008888040246121047,-0.02481283744524515,0.007388033163238449],\"yaxis\":\"y\",\"type\":\"scatter\"},{\"hovertemplate\":\"variable=wide_variable_1<br>index=%{x}<br>value=%{y}<extra></extra>\",\"legendgroup\":\"wide_variable_1\",\"line\":{\"color\":\"#EF553B\",\"dash\":\"solid\"},\"marker\":{\"symbol\":\"circle\"},\"mode\":\"lines\",\"name\":\"wide_variable_1\",\"orientation\":\"v\",\"showlegend\":true,\"x\":[0,1,2,3,4,5,6,7,8,9,10,11,12,13,14,15,16,17,18,19,20,21,22,23,24,25,26,27,28,29,30,31],\"xaxis\":\"x\",\"y\":[0.0023848144846236904,-0.037265515055437605,0.010139577328864079,0.0019449657861475432,0.008049905548071659,-0.019323695479561663,-0.0034968422257669073,-0.0031111227197808877,-0.004073760229605674,0.018798969177644027,0.05492263844511694,0.08922409627126422,0.060106015428618036,-0.014192992787443171,-0.08958199479912055,-0.13524310985382867,-0.08509472574054518,-0.024364777642918122,0.014310342296697687,0.05083810549826856,-0.008107617527494199,0.009124744851232708,-0.003216116124211716,0.0037448991732673114,0.015685708658043376,0.00039592559053894423,-0.006757515224293748,0.018868008834207518,-0.012825269699704184,-0.00803361346949704,0.038600876426002156,0.03826456498723912],\"yaxis\":\"y\",\"type\":\"scatter\"},{\"hovertemplate\":\"variable=wide_variable_2<br>index=%{x}<br>value=%{y}<extra></extra>\",\"legendgroup\":\"wide_variable_2\",\"line\":{\"color\":\"#00cc96\",\"dash\":\"solid\"},\"marker\":{\"symbol\":\"circle\"},\"mode\":\"lines\",\"name\":\"wide_variable_2\",\"orientation\":\"v\",\"showlegend\":true,\"x\":[0,1,2,3,4,5,6,7,8,9,10,11,12,13,14,15,16,17,18,19,20,21,22,23,24,25,26,27,28,29,30,31],\"xaxis\":\"x\",\"y\":[0.012428563320409517,-0.03284010965355623,-0.023304084920862642,-0.039802836072729254,0.005703194911484954,0.027034925871911423,-0.009992013848513932,-0.015215977783405714,0.00802029542430291,0.028195344581172243,0.07577059839354915,0.1645824553648301,0.17260889040463245,0.12717638657163963,0.030284927245838845,-0.03508492265303484,-0.09665131295100543,-0.05039028375068143,-0.015260759144188599,0.008150608044650976,0.0030930355490925987,0.034944856913104755,0.002889346209461451,-0.007888792996121831,0.01017134141995203,0.03413032827159759,0.03867455681388979,0.012282635935111391,-0.010320508217942288,0.007053216489410335,-0.0029918262294563315,0.027932512356953803],\"yaxis\":\"y\",\"type\":\"scatter\"},{\"hovertemplate\":\"variable=wide_variable_3<br>index=%{x}<br>value=%{y}<extra></extra>\",\"legendgroup\":\"wide_variable_3\",\"line\":{\"color\":\"#ab63fa\",\"dash\":\"solid\"},\"marker\":{\"symbol\":\"circle\"},\"mode\":\"lines\",\"name\":\"wide_variable_3\",\"orientation\":\"v\",\"showlegend\":true,\"x\":[0,1,2,3,4,5,6,7,8,9,10,11,12,13,14,15,16,17,18,19,20,21,22,23,24,25,26,27,28,29,30,31],\"xaxis\":\"x\",\"y\":[-0.011403148153991025,0.03189048432637365,-0.011562455346748211,0.024095193261820757,0.015371825937077225,0.023625414672062726,0.003250008835895544,0.007131718366130592,-0.011069150521095542,0.02882172761356311,0.11762401900357758,0.21048265246267953,0.25139436720079467,0.18943262447860873,0.0908194899908561,-0.07971916645610566,-0.12337357296603385,-0.06861005932723269,-0.07291028170505015,-0.03121972762089268,0.04076152860649806,0.05325126989008741,0.04925519409375163,-0.0013857004419301714,-0.006269151072954139,0.022463387991774185,-0.0026128088339964495,-0.035347630980373065,-0.013129005872951047,-0.0010466571863780787,-0.020045498671569455,0.0013774637970698843],\"yaxis\":\"y\",\"type\":\"scatter\"},{\"hovertemplate\":\"variable=wide_variable_4<br>index=%{x}<br>value=%{y}<extra></extra>\",\"legendgroup\":\"wide_variable_4\",\"line\":{\"color\":\"#FFA15A\",\"dash\":\"solid\"},\"marker\":{\"symbol\":\"circle\"},\"mode\":\"lines\",\"name\":\"wide_variable_4\",\"orientation\":\"v\",\"showlegend\":true,\"x\":[0,1,2,3,4,5,6,7,8,9,10,11,12,13,14,15,16,17,18,19,20,21,22,23,24,25,26,27,28,29,30,31],\"xaxis\":\"x\",\"y\":[0.0,-6.230663154679975e-08,-4.4802244484660666e-07,1.9077911951930127e-06,-2.317096171224159e-06,3.7113984195941476e-05,0.0006377073701651835,0.006985093864077187,0.04844021135968346,0.20829581507876416,0.56116101884732,0.9409836560526496,0.9393719097288961,0.4128372152688673,-0.27129640822083945,-0.6700834147154188,-0.6559433942037808,-0.37458367708305723,-0.0461089553211661,0.1725671556698765,0.23231464181397057,0.17042975705163182,0.060909695555641866,-0.03124408133912697,-0.07394154703916567,-0.06860799472125394,-0.036394901765009584,-0.0014844682691855446,0.02031677853259542,0.024958654919974503,0.017232246180785227,0.005267515761016561],\"yaxis\":\"y\",\"type\":\"scatter\"},{\"hovertemplate\":\"variable=wide_variable_5<br>index=%{x}<br>value=%{y}<extra></extra>\",\"legendgroup\":\"wide_variable_5\",\"line\":{\"color\":\"#19d3f3\",\"dash\":\"solid\"},\"marker\":{\"symbol\":\"circle\"},\"mode\":\"lines\",\"name\":\"wide_variable_5\",\"orientation\":\"v\",\"showlegend\":true,\"x\":[0,1,2,3,4,5,6,7,8,9,10,11,12,13,14,15,16,17,18,19,20,21,22,23,24,25,26,27,28,29,30,31],\"xaxis\":\"x\",\"y\":[0.0,1.5444185856022166e-08,1.396690891405244e-07,-2.7996442759822707e-07,1.300582424827027e-07,-4.5380979893541335e-06,-0.00010535765138589333,-0.0013480095638608782,-0.011264101868924127,-0.060584715545598765,-0.2141818180025307,-0.5087953145077161,-0.8326389737549564,-0.9578035835685612,-0.7670563785683558,-0.3701420331948905,0.01857862527544729,0.2454799338564996,0.27933957862412934,0.18188688927504432,0.04595506116361728,-0.055902023706830284,-0.0940699891288847,-0.07748744470317939,-0.03470106231886594,0.005906964602536355,0.028042038780235343,0.029623454310294246,0.018070499324427114,0.003430796223632458,-0.006897706485044043,-0.010248858619261616],\"yaxis\":\"y\",\"type\":\"scatter\"}],                        {\"template\":{\"data\":{\"bar\":[{\"error_x\":{\"color\":\"#2a3f5f\"},\"error_y\":{\"color\":\"#2a3f5f\"},\"marker\":{\"line\":{\"color\":\"#E5ECF6\",\"width\":0.5},\"pattern\":{\"fillmode\":\"overlay\",\"size\":10,\"solidity\":0.2}},\"type\":\"bar\"}],\"barpolar\":[{\"marker\":{\"line\":{\"color\":\"#E5ECF6\",\"width\":0.5},\"pattern\":{\"fillmode\":\"overlay\",\"size\":10,\"solidity\":0.2}},\"type\":\"barpolar\"}],\"carpet\":[{\"aaxis\":{\"endlinecolor\":\"#2a3f5f\",\"gridcolor\":\"white\",\"linecolor\":\"white\",\"minorgridcolor\":\"white\",\"startlinecolor\":\"#2a3f5f\"},\"baxis\":{\"endlinecolor\":\"#2a3f5f\",\"gridcolor\":\"white\",\"linecolor\":\"white\",\"minorgridcolor\":\"white\",\"startlinecolor\":\"#2a3f5f\"},\"type\":\"carpet\"}],\"choropleth\":[{\"colorbar\":{\"outlinewidth\":0,\"ticks\":\"\"},\"type\":\"choropleth\"}],\"contour\":[{\"colorbar\":{\"outlinewidth\":0,\"ticks\":\"\"},\"colorscale\":[[0.0,\"#0d0887\"],[0.1111111111111111,\"#46039f\"],[0.2222222222222222,\"#7201a8\"],[0.3333333333333333,\"#9c179e\"],[0.4444444444444444,\"#bd3786\"],[0.5555555555555556,\"#d8576b\"],[0.6666666666666666,\"#ed7953\"],[0.7777777777777778,\"#fb9f3a\"],[0.8888888888888888,\"#fdca26\"],[1.0,\"#f0f921\"]],\"type\":\"contour\"}],\"contourcarpet\":[{\"colorbar\":{\"outlinewidth\":0,\"ticks\":\"\"},\"type\":\"contourcarpet\"}],\"heatmap\":[{\"colorbar\":{\"outlinewidth\":0,\"ticks\":\"\"},\"colorscale\":[[0.0,\"#0d0887\"],[0.1111111111111111,\"#46039f\"],[0.2222222222222222,\"#7201a8\"],[0.3333333333333333,\"#9c179e\"],[0.4444444444444444,\"#bd3786\"],[0.5555555555555556,\"#d8576b\"],[0.6666666666666666,\"#ed7953\"],[0.7777777777777778,\"#fb9f3a\"],[0.8888888888888888,\"#fdca26\"],[1.0,\"#f0f921\"]],\"type\":\"heatmap\"}],\"heatmapgl\":[{\"colorbar\":{\"outlinewidth\":0,\"ticks\":\"\"},\"colorscale\":[[0.0,\"#0d0887\"],[0.1111111111111111,\"#46039f\"],[0.2222222222222222,\"#7201a8\"],[0.3333333333333333,\"#9c179e\"],[0.4444444444444444,\"#bd3786\"],[0.5555555555555556,\"#d8576b\"],[0.6666666666666666,\"#ed7953\"],[0.7777777777777778,\"#fb9f3a\"],[0.8888888888888888,\"#fdca26\"],[1.0,\"#f0f921\"]],\"type\":\"heatmapgl\"}],\"histogram\":[{\"marker\":{\"pattern\":{\"fillmode\":\"overlay\",\"size\":10,\"solidity\":0.2}},\"type\":\"histogram\"}],\"histogram2d\":[{\"colorbar\":{\"outlinewidth\":0,\"ticks\":\"\"},\"colorscale\":[[0.0,\"#0d0887\"],[0.1111111111111111,\"#46039f\"],[0.2222222222222222,\"#7201a8\"],[0.3333333333333333,\"#9c179e\"],[0.4444444444444444,\"#bd3786\"],[0.5555555555555556,\"#d8576b\"],[0.6666666666666666,\"#ed7953\"],[0.7777777777777778,\"#fb9f3a\"],[0.8888888888888888,\"#fdca26\"],[1.0,\"#f0f921\"]],\"type\":\"histogram2d\"}],\"histogram2dcontour\":[{\"colorbar\":{\"outlinewidth\":0,\"ticks\":\"\"},\"colorscale\":[[0.0,\"#0d0887\"],[0.1111111111111111,\"#46039f\"],[0.2222222222222222,\"#7201a8\"],[0.3333333333333333,\"#9c179e\"],[0.4444444444444444,\"#bd3786\"],[0.5555555555555556,\"#d8576b\"],[0.6666666666666666,\"#ed7953\"],[0.7777777777777778,\"#fb9f3a\"],[0.8888888888888888,\"#fdca26\"],[1.0,\"#f0f921\"]],\"type\":\"histogram2dcontour\"}],\"mesh3d\":[{\"colorbar\":{\"outlinewidth\":0,\"ticks\":\"\"},\"type\":\"mesh3d\"}],\"parcoords\":[{\"line\":{\"colorbar\":{\"outlinewidth\":0,\"ticks\":\"\"}},\"type\":\"parcoords\"}],\"pie\":[{\"automargin\":true,\"type\":\"pie\"}],\"scatter\":[{\"marker\":{\"colorbar\":{\"outlinewidth\":0,\"ticks\":\"\"}},\"type\":\"scatter\"}],\"scatter3d\":[{\"line\":{\"colorbar\":{\"outlinewidth\":0,\"ticks\":\"\"}},\"marker\":{\"colorbar\":{\"outlinewidth\":0,\"ticks\":\"\"}},\"type\":\"scatter3d\"}],\"scattercarpet\":[{\"marker\":{\"colorbar\":{\"outlinewidth\":0,\"ticks\":\"\"}},\"type\":\"scattercarpet\"}],\"scattergeo\":[{\"marker\":{\"colorbar\":{\"outlinewidth\":0,\"ticks\":\"\"}},\"type\":\"scattergeo\"}],\"scattergl\":[{\"marker\":{\"colorbar\":{\"outlinewidth\":0,\"ticks\":\"\"}},\"type\":\"scattergl\"}],\"scattermapbox\":[{\"marker\":{\"colorbar\":{\"outlinewidth\":0,\"ticks\":\"\"}},\"type\":\"scattermapbox\"}],\"scatterpolar\":[{\"marker\":{\"colorbar\":{\"outlinewidth\":0,\"ticks\":\"\"}},\"type\":\"scatterpolar\"}],\"scatterpolargl\":[{\"marker\":{\"colorbar\":{\"outlinewidth\":0,\"ticks\":\"\"}},\"type\":\"scatterpolargl\"}],\"scatterternary\":[{\"marker\":{\"colorbar\":{\"outlinewidth\":0,\"ticks\":\"\"}},\"type\":\"scatterternary\"}],\"surface\":[{\"colorbar\":{\"outlinewidth\":0,\"ticks\":\"\"},\"colorscale\":[[0.0,\"#0d0887\"],[0.1111111111111111,\"#46039f\"],[0.2222222222222222,\"#7201a8\"],[0.3333333333333333,\"#9c179e\"],[0.4444444444444444,\"#bd3786\"],[0.5555555555555556,\"#d8576b\"],[0.6666666666666666,\"#ed7953\"],[0.7777777777777778,\"#fb9f3a\"],[0.8888888888888888,\"#fdca26\"],[1.0,\"#f0f921\"]],\"type\":\"surface\"}],\"table\":[{\"cells\":{\"fill\":{\"color\":\"#EBF0F8\"},\"line\":{\"color\":\"white\"}},\"header\":{\"fill\":{\"color\":\"#C8D4E3\"},\"line\":{\"color\":\"white\"}},\"type\":\"table\"}]},\"layout\":{\"annotationdefaults\":{\"arrowcolor\":\"#2a3f5f\",\"arrowhead\":0,\"arrowwidth\":1},\"autotypenumbers\":\"strict\",\"coloraxis\":{\"colorbar\":{\"outlinewidth\":0,\"ticks\":\"\"}},\"colorscale\":{\"diverging\":[[0,\"#8e0152\"],[0.1,\"#c51b7d\"],[0.2,\"#de77ae\"],[0.3,\"#f1b6da\"],[0.4,\"#fde0ef\"],[0.5,\"#f7f7f7\"],[0.6,\"#e6f5d0\"],[0.7,\"#b8e186\"],[0.8,\"#7fbc41\"],[0.9,\"#4d9221\"],[1,\"#276419\"]],\"sequential\":[[0.0,\"#0d0887\"],[0.1111111111111111,\"#46039f\"],[0.2222222222222222,\"#7201a8\"],[0.3333333333333333,\"#9c179e\"],[0.4444444444444444,\"#bd3786\"],[0.5555555555555556,\"#d8576b\"],[0.6666666666666666,\"#ed7953\"],[0.7777777777777778,\"#fb9f3a\"],[0.8888888888888888,\"#fdca26\"],[1.0,\"#f0f921\"]],\"sequentialminus\":[[0.0,\"#0d0887\"],[0.1111111111111111,\"#46039f\"],[0.2222222222222222,\"#7201a8\"],[0.3333333333333333,\"#9c179e\"],[0.4444444444444444,\"#bd3786\"],[0.5555555555555556,\"#d8576b\"],[0.6666666666666666,\"#ed7953\"],[0.7777777777777778,\"#fb9f3a\"],[0.8888888888888888,\"#fdca26\"],[1.0,\"#f0f921\"]]},\"colorway\":[\"#636efa\",\"#EF553B\",\"#00cc96\",\"#ab63fa\",\"#FFA15A\",\"#19d3f3\",\"#FF6692\",\"#B6E880\",\"#FF97FF\",\"#FECB52\"],\"font\":{\"color\":\"#2a3f5f\"},\"geo\":{\"bgcolor\":\"white\",\"lakecolor\":\"white\",\"landcolor\":\"#E5ECF6\",\"showlakes\":true,\"showland\":true,\"subunitcolor\":\"white\"},\"hoverlabel\":{\"align\":\"left\"},\"hovermode\":\"closest\",\"mapbox\":{\"style\":\"light\"},\"paper_bgcolor\":\"white\",\"plot_bgcolor\":\"#E5ECF6\",\"polar\":{\"angularaxis\":{\"gridcolor\":\"white\",\"linecolor\":\"white\",\"ticks\":\"\"},\"bgcolor\":\"#E5ECF6\",\"radialaxis\":{\"gridcolor\":\"white\",\"linecolor\":\"white\",\"ticks\":\"\"}},\"scene\":{\"xaxis\":{\"backgroundcolor\":\"#E5ECF6\",\"gridcolor\":\"white\",\"gridwidth\":2,\"linecolor\":\"white\",\"showbackground\":true,\"ticks\":\"\",\"zerolinecolor\":\"white\"},\"yaxis\":{\"backgroundcolor\":\"#E5ECF6\",\"gridcolor\":\"white\",\"gridwidth\":2,\"linecolor\":\"white\",\"showbackground\":true,\"ticks\":\"\",\"zerolinecolor\":\"white\"},\"zaxis\":{\"backgroundcolor\":\"#E5ECF6\",\"gridcolor\":\"white\",\"gridwidth\":2,\"linecolor\":\"white\",\"showbackground\":true,\"ticks\":\"\",\"zerolinecolor\":\"white\"}},\"shapedefaults\":{\"line\":{\"color\":\"#2a3f5f\"}},\"ternary\":{\"aaxis\":{\"gridcolor\":\"white\",\"linecolor\":\"white\",\"ticks\":\"\"},\"baxis\":{\"gridcolor\":\"white\",\"linecolor\":\"white\",\"ticks\":\"\"},\"bgcolor\":\"#E5ECF6\",\"caxis\":{\"gridcolor\":\"white\",\"linecolor\":\"white\",\"ticks\":\"\"}},\"title\":{\"x\":0.05},\"xaxis\":{\"automargin\":true,\"gridcolor\":\"white\",\"linecolor\":\"white\",\"ticks\":\"\",\"title\":{\"standoff\":15},\"zerolinecolor\":\"white\",\"zerolinewidth\":2},\"yaxis\":{\"automargin\":true,\"gridcolor\":\"white\",\"linecolor\":\"white\",\"ticks\":\"\",\"title\":{\"standoff\":15},\"zerolinecolor\":\"white\",\"zerolinewidth\":2}}},\"xaxis\":{\"anchor\":\"y\",\"domain\":[0.0,1.0],\"title\":{\"text\":\"index\"}},\"yaxis\":{\"anchor\":\"x\",\"domain\":[0.0,1.0],\"title\":{\"text\":\"value\"}},\"legend\":{\"title\":{\"text\":\"variable\"},\"tracegroupgap\":0},\"margin\":{\"t\":60}},                        {\"responsive\": true}                    ).then(function(){\n",
       "                            \n",
       "var gd = document.getElementById('cd7c21cf-1d25-4e00-bad7-affb6745fa0c');\n",
       "var x = new MutationObserver(function (mutations, observer) {{\n",
       "        var display = window.getComputedStyle(gd).display;\n",
       "        if (!display || display === 'none') {{\n",
       "            console.log([gd, 'removed!']);\n",
       "            Plotly.purge(gd);\n",
       "            observer.disconnect();\n",
       "        }}\n",
       "}});\n",
       "\n",
       "// Listen for the removal of the full notebook cells\n",
       "var notebookContainer = gd.closest('#notebook-container');\n",
       "if (notebookContainer) {{\n",
       "    x.observe(notebookContainer, {childList: true});\n",
       "}}\n",
       "\n",
       "// Listen for the clearing of the current output cell\n",
       "var outputEl = gd.closest('.output');\n",
       "if (outputEl) {{\n",
       "    x.observe(outputEl, {childList: true});\n",
       "}}\n",
       "\n",
       "                        })                };                });            </script>        </div>"
      ]
     },
     "metadata": {},
     "output_type": "display_data"
    }
   ],
   "source": [
    "nT = 32\n",
    "t  = np.arange(1, nT+1)  \n",
    "u  = torch.tensor(np.exp(-(t - 12)**2/4)).unsqueeze(-1)\n",
    "gen = DEMInversion(genmodel, states_embedding_order=26).generate(nT, u)\n",
    "y   = gen.v[:,0,:4,0]\n",
    "px.line(y=[*y.T] + [*gen.x[:, 0, :, 0].T])"
   ]
  },
  {
   "cell_type": "code",
   "execution_count": 23,
   "id": "b97a404f",
   "metadata": {},
   "outputs": [],
   "source": [
    "nps = (torch.numel(theta1),torch.numel(theta2),torch.numel(theta3))\n",
    "models = [\n",
    "    GaussianModel(\n",
    "        g=lambda x, v, P: P[:nps[0]].reshape(theta1.shape) @ x, \n",
    "        f=lambda x, v, P: P[nps[0]:nps[0] + nps[1]].reshape(theta2.shape) @ x \\\n",
    "                        + P[-nps[2]:].reshape(theta3.shape) @ v,\n",
    "        n=2, sv=1./2,sw=1./2,\n",
    "        V=torch.tensor([np.exp(8.)]), \n",
    "        W=torch.tensor([np.exp(16.)]), \n",
    "        pE=pE, pC=torch.ones_like(pE) * np.exp(-32)\n",
    "    ), \n",
    "    GaussianModel(l=1, V=torch.tensor([np.exp(0.)]))\n",
    "]\n",
    "decmodel = HierarchicalGaussianModel(*models)"
   ]
  },
  {
   "cell_type": "code",
   "execution_count": 24,
   "id": "cf2910f6",
   "metadata": {
    "scrolled": true
   },
   "outputs": [
    {
     "name": "stdout",
     "output_type": "stream",
     "text": [
      "Li:  tensor(-7346.8497)\n",
      "Ai:  tensor(-6570.5249)\n",
      "mh:  tensor([])\n",
      "dp:  tensor(1.2656e-11)\n",
      "qp:  tensor(1.2656e-11)\n"
     ]
    }
   ],
   "source": [
    "deminv  = DEMInversion(decmodel, states_embedding_order=12)\n",
    "results = deminv.run(y, nD=1, nE=1, nM=1, K=1, td=1)"
   ]
  },
  {
   "cell_type": "code",
   "execution_count": 25,
   "id": "d18bb884",
   "metadata": {},
   "outputs": [
    {
     "data": {
      "application/vnd.plotly.v1+json": {
       "config": {
        "plotlyServerURL": "https://plot.ly"
       },
       "data": [
        {
         "legendgroup": "estimated",
         "line": {
          "color": "#4C78A8"
         },
         "name": "Estimated",
         "showlegend": true,
         "type": "scatter",
         "xaxis": "x3",
         "y": [
          0,
          -0.06922274883973477,
          0.019600298024636156,
          0.10584236457215447,
          0.04351760677917605,
          -0.02557632909510605,
          -0.021036745225633317,
          0.03640926273493637,
          0.07138310636913289,
          0.39203469471589647,
          0.8303007371619444,
          0.9735137509581362,
          0.7563014913264285,
          0.4056432574772295,
          0.04493490847397563,
          -0.07869877889660111,
          0.019622181633477676,
          -0.02284099545377824,
          -0.058866628379211645,
          0.010064056748386209,
          0.02574217095474857,
          0.0019471961321069937,
          -0.048323187493093236,
          0.05126967893854875,
          0.14116450992745216,
          0.027899529722348354,
          -0.04352120450102179,
          -0.047187421170201936,
          -0.04816827757586192,
          -0.07606524932497802,
          -0.01655049812198677,
          0.042264964177795246
         ],
         "yaxis": "y3"
        },
        {
         "legendgroup": "realized",
         "line": {
          "color": "#4C78A8",
          "dash": "dash"
         },
         "name": "Realized",
         "showlegend": true,
         "type": "scatter",
         "xaxis": "x3",
         "y": [
          -3.4574374395867175e-11,
          4.54765449636496e-10,
          3.86397415830312e-10,
          1.1382635130653443e-07,
          4.7868970628862815e-06,
          0.00012340048234878306,
          0.0019304713442194314,
          0.018315623235232673,
          0.10539922251169048,
          0.3678794697314101,
          0.7788007387587076,
          1.0000000354683511,
          0.7788007739830166,
          0.36787942734524864,
          0.10539924415092167,
          0.018315626931905388,
          0.0019304568381870015,
          0.00012341130757408483,
          4.783577134315836e-06,
          1.1307899999645588e-07,
          1.5787281190052254e-09,
          -3.5775222769298216e-11,
          1.7372519557788654e-11,
          -9.536476505633802e-13,
          -6.649774912523302e-13,
          1.196300554553444e-13,
          7.761065256518786e-15,
          -2.5714360740422607e-15,
          -1.0245670621530636e-16,
          2.058251270184999e-17,
          1.84909947772969e-18,
          6.276970570683296e-20
         ],
         "yaxis": "y3"
        },
        {
         "legendgroup": "estimated",
         "line": {
          "color": "#4C78A8"
         },
         "showlegend": false,
         "type": "scatter",
         "xaxis": "x",
         "y": [
          -0.010331906148343934,
          -0.02207236571503089,
          5.815618118736289e-05,
          0.019868562510423435,
          0.01867534335684486,
          0.005589876263481709,
          0.0021798379323179264,
          0.006040208832421352,
          -0.00554968446951077,
          -0.0036911478891288015,
          0.04419967448702192,
          0.037241884933717516,
          -0.032164322172626464,
          -0.11341990156794873,
          -0.17532038429966992,
          -0.15143896413146507,
          -0.10286579502026144,
          -0.031262980000028265,
          0.0479941447583618,
          0.054237972597680054,
          0.06454527538196296,
          0.022926167120917263,
          -0.018440872765883007,
          -0.012825236103495325,
          -0.025879801233388396,
          -0.0011676904538074203,
          0.00024699850076376277,
          0.008352540407681986,
          -0.000956879705209226,
          0.00888804024627916,
          -0.024812837445386808,
          0.007388033163333977
         ],
         "yaxis": "y"
        },
        {
         "legendgroup": "realized",
         "line": {
          "color": "#4C78A8",
          "dash": "dash"
         },
         "showlegend": false,
         "type": "scatter",
         "xaxis": "x",
         "y": [
          -0.010331906148387894,
          -0.02207236571499443,
          5.8156181168521405e-05,
          0.019868562510428928,
          0.01867534335684496,
          0.005589876263477019,
          0.0021798379323221193,
          0.006040208832434844,
          -0.005549684469552228,
          -0.0036911478890776263,
          0.04419967448699531,
          0.037241884933702424,
          -0.03216432217257861,
          -0.11341990156801228,
          -0.17532038429961228,
          -0.15143896413148608,
          -0.1028657950202981,
          -0.03126297999993849,
          0.04799414475824831,
          0.05423797259777316,
          0.06454527538192745,
          0.022926167120882454,
          -0.018440872765793738,
          -0.01282523610360597,
          -0.02587980123328317,
          -0.0011676904538999834,
          0.0002469985008550472,
          0.008352540407571472,
          -0.0009568797050682632,
          0.008888040246121047,
          -0.02481283744524515,
          0.007388033163238449
         ],
         "yaxis": "y"
        },
        {
         "legendgroup": "estimated",
         "line": {
          "color": "#F58518"
         },
         "showlegend": false,
         "type": "scatter",
         "xaxis": "x",
         "y": [
          0.002384814484806656,
          -0.03726551505564322,
          0.010139577329052447,
          0.0019449657859929243,
          0.008049905548194028,
          -0.01932369547964846,
          -0.003496842225723446,
          -0.0031111227197850085,
          -0.004073760229625744,
          0.01879896917767499,
          0.05492263844508546,
          0.0892240962712813,
          0.06010601542863065,
          -0.014192992787487384,
          -0.08958199479905994,
          -0.13524310985387336,
          -0.0850947257405598,
          -0.02436477764281744,
          0.014310342296520145,
          0.0508381054984818,
          -0.008107617527684203,
          0.009124744851354023,
          -0.0032161161242595725,
          0.003744899173274054,
          0.01568570865802965,
          0.0003959255905939443,
          -0.0067575152243815615,
          0.018868008834279235,
          -0.012825269699714708,
          -0.00803361346954563,
          0.038600876426066986,
          0.03826456498719572
         ],
         "yaxis": "y"
        },
        {
         "legendgroup": "realized",
         "line": {
          "color": "#F58518",
          "dash": "dash"
         },
         "showlegend": false,
         "type": "scatter",
         "xaxis": "x",
         "y": [
          0.0023848144846236904,
          -0.037265515055437605,
          0.010139577328864079,
          0.0019449657861475432,
          0.008049905548071659,
          -0.019323695479561663,
          -0.0034968422257669073,
          -0.0031111227197808877,
          -0.004073760229605674,
          0.018798969177644027,
          0.05492263844511694,
          0.08922409627126422,
          0.060106015428618036,
          -0.014192992787443171,
          -0.08958199479912055,
          -0.13524310985382867,
          -0.08509472574054518,
          -0.024364777642918122,
          0.014310342296697687,
          0.05083810549826856,
          -0.008107617527494199,
          0.009124744851232708,
          -0.003216116124211716,
          0.0037448991732673114,
          0.015685708658043376,
          0.00039592559053894423,
          -0.006757515224293748,
          0.018868008834207518,
          -0.012825269699704184,
          -0.00803361346949704,
          0.038600876426002156,
          0.03826456498723912
         ],
         "yaxis": "y"
        },
        {
         "legendgroup": "estimated",
         "line": {
          "color": "#E45756"
         },
         "showlegend": false,
         "type": "scatter",
         "xaxis": "x",
         "y": [
          0.01242856332055653,
          -0.032840109653720174,
          -0.02330408492072271,
          -0.03980283607280851,
          0.005703194911492866,
          0.027034925871945104,
          -0.009992013848541884,
          -0.015215977783399073,
          0.008020295424289076,
          0.028195344581224625,
          0.07577059839346031,
          0.16458245536492994,
          0.17260889040453392,
          0.12717638657175118,
          0.030284927245701806,
          -0.035084922652883044,
          -0.09665131295114775,
          -0.05039028375056331,
          -0.01526075914429645,
          0.008150608044772873,
          0.0030930355489616024,
          0.034944856913211544,
          0.0028893462094031603,
          -0.007888792996105351,
          0.010171341419953671,
          0.03413032827159786,
          0.038674556813869575,
          0.012282635935170493,
          -0.010320508218043088,
          0.007053216489530107,
          -0.0029918262295632334,
          0.027932512357026703
         ],
         "yaxis": "y"
        },
        {
         "legendgroup": "realized",
         "line": {
          "color": "#E45756",
          "dash": "dash"
         },
         "showlegend": false,
         "type": "scatter",
         "xaxis": "x",
         "y": [
          0.012428563320409517,
          -0.03284010965355623,
          -0.023304084920862642,
          -0.039802836072729254,
          0.005703194911484954,
          0.027034925871911423,
          -0.009992013848513932,
          -0.015215977783405714,
          0.00802029542430291,
          0.028195344581172243,
          0.07577059839354915,
          0.1645824553648301,
          0.17260889040463245,
          0.12717638657163963,
          0.030284927245838845,
          -0.03508492265303484,
          -0.09665131295100543,
          -0.05039028375068143,
          -0.015260759144188599,
          0.008150608044650976,
          0.0030930355490925987,
          0.034944856913104755,
          0.002889346209461451,
          -0.007888792996121831,
          0.01017134141995203,
          0.03413032827159759,
          0.03867455681388979,
          0.012282635935111391,
          -0.010320508217942288,
          0.007053216489410335,
          -0.0029918262294563315,
          0.027932512356953803
         ],
         "yaxis": "y"
        },
        {
         "legendgroup": "estimated",
         "line": {
          "color": "#72B7B2"
         },
         "showlegend": false,
         "type": "scatter",
         "xaxis": "x",
         "y": [
          -0.01140314815420278,
          0.031890484326620956,
          -0.011562455346978565,
          0.024095193262003274,
          0.0153718259369372,
          0.023625414672180732,
          0.0032500088357910514,
          0.007131718366212042,
          -0.011069150521141082,
          0.028821727613570103,
          0.11762401900360622,
          0.2104826524626092,
          0.2513943672009137,
          0.18943262447846332,
          0.09081948999097102,
          -0.07971916645612971,
          -0.12337357296610688,
          -0.06861005932713572,
          -0.07291028170508607,
          -0.031219727620939115,
          0.0407615286065916,
          0.053251269889991994,
          0.04925519409381611,
          -0.0013857004419457598,
          -0.006269151072975727,
          0.022463387991791258,
          -0.0026128088339835228,
          -0.03534763098039071,
          -0.013129005872972027,
          -0.0010466571863110056,
          -0.020045498671650036,
          0.0013774637971295904
         ],
         "yaxis": "y"
        },
        {
         "legendgroup": "realized",
         "line": {
          "color": "#72B7B2",
          "dash": "dash"
         },
         "showlegend": false,
         "type": "scatter",
         "xaxis": "x",
         "y": [
          -0.011403148153991025,
          0.03189048432637365,
          -0.011562455346748211,
          0.024095193261820757,
          0.015371825937077225,
          0.023625414672062726,
          0.003250008835895544,
          0.007131718366130592,
          -0.011069150521095542,
          0.02882172761356311,
          0.11762401900357758,
          0.21048265246267953,
          0.25139436720079467,
          0.18943262447860873,
          0.0908194899908561,
          -0.07971916645610566,
          -0.12337357296603385,
          -0.06861005932723269,
          -0.07291028170505015,
          -0.03121972762089268,
          0.04076152860649806,
          0.05325126989008741,
          0.04925519409375163,
          -0.0013857004419301714,
          -0.006269151072954139,
          0.022463387991774185,
          -0.0026128088339964495,
          -0.035347630980373065,
          -0.013129005872951047,
          -0.0010466571863780787,
          -0.020045498671569455,
          0.0013774637970698843
         ],
         "yaxis": "y"
        },
        {
         "legendgroup": "estimated",
         "line": {
          "color": "#4C78A8"
         },
         "showlegend": false,
         "type": "scatter",
         "xaxis": "x2",
         "y": [
          0,
          -0.07989736090882277,
          -0.09075494717295753,
          0.014964077777000831,
          0.09676707885517968,
          0.06913205080634569,
          -0.029876456259992995,
          -0.023424838471932462,
          0.017652480729480793,
          0.1721156442120909,
          0.5809301731932133,
          0.9760521176113021,
          0.9224475314770878,
          0.38410063979581055,
          -0.2868734249578838,
          -0.7595953034549059,
          -0.7652498612818421,
          -0.3626521386156386,
          -0.06821015368328592,
          0.1384439409872546,
          0.25967886590053624,
          0.23091207122321716,
          0.05810921088531837,
          -0.07093410196546454,
          -0.01382635199129225,
          0.06080753961892737,
          -0.0013088523769772473,
          -0.05609741375760185,
          -0.05801977551758026,
          -0.012794045812851658,
          -0.02899785002619465,
          0.05056184406370659
         ],
         "yaxis": "y2"
        },
        {
         "legendgroup": "realized",
         "line": {
          "color": "#4C78A8",
          "dash": "dash"
         },
         "showlegend": false,
         "type": "scatter",
         "xaxis": "x2",
         "y": [
          0,
          -6.230663154679975e-08,
          -4.4802244484660666e-07,
          1.9077911951930127e-06,
          -2.317096171224159e-06,
          3.7113984195941476e-05,
          0.0006377073701651835,
          0.006985093864077187,
          0.04844021135968346,
          0.20829581507876416,
          0.56116101884732,
          0.9409836560526496,
          0.9393719097288961,
          0.4128372152688673,
          -0.27129640822083945,
          -0.6700834147154188,
          -0.6559433942037808,
          -0.37458367708305723,
          -0.0461089553211661,
          0.1725671556698765,
          0.23231464181397057,
          0.17042975705163182,
          0.060909695555641866,
          -0.03124408133912697,
          -0.07394154703916567,
          -0.06860799472125394,
          -0.036394901765009584,
          -0.0014844682691855446,
          0.02031677853259542,
          0.024958654919974503,
          0.017232246180785227,
          0.005267515761016561
         ],
         "yaxis": "y2"
        },
        {
         "legendgroup": "estimated",
         "line": {
          "color": "#F58518"
         },
         "showlegend": false,
         "type": "scatter",
         "xaxis": "x2",
         "y": [
          0,
          -0.015144542799335898,
          0.026911742010734034,
          0.004000360775693303,
          0.008492000006891522,
          -0.0400221814875077,
          -0.03331407220633581,
          -0.02662031217410211,
          -0.002522206594272741,
          -0.03919536490680751,
          -0.20510621652097372,
          -0.5355683860584849,
          -0.8598082855390443,
          -0.958670008940037,
          -0.7703175829559362,
          -0.3668828237476973,
          0.06063058143647282,
          0.3021273131135921,
          0.29428449703394083,
          0.18215809026839025,
          0.07172074358953533,
          -0.05471803362542042,
          -0.1298691888627782,
          -0.09810291866488452,
          -0.054878902993259704,
          -0.023331832313275062,
          -0.04630677938542951,
          -0.020032856868949192,
          0.026930193492385346,
          0.058337154549572695,
          0.037239582734426846,
          0.028580545734216263
         ],
         "yaxis": "y2"
        },
        {
         "legendgroup": "realized",
         "line": {
          "color": "#F58518",
          "dash": "dash"
         },
         "showlegend": false,
         "type": "scatter",
         "xaxis": "x2",
         "y": [
          0,
          1.5444185856022166e-08,
          1.396690891405244e-07,
          -2.7996442759822707e-07,
          1.300582424827027e-07,
          -4.5380979893541335e-06,
          -0.00010535765138589333,
          -0.0013480095638608782,
          -0.011264101868924127,
          -0.060584715545598765,
          -0.2141818180025307,
          -0.5087953145077161,
          -0.8326389737549564,
          -0.9578035835685612,
          -0.7670563785683558,
          -0.3701420331948905,
          0.01857862527544729,
          0.2454799338564996,
          0.27933957862412934,
          0.18188688927504432,
          0.04595506116361728,
          -0.055902023706830284,
          -0.0940699891288847,
          -0.07748744470317939,
          -0.03470106231886594,
          0.005906964602536355,
          0.028042038780235343,
          0.029623454310294246,
          0.018070499324427114,
          0.003430796223632458,
          -0.006897706485044043,
          -0.010248858619261616
         ],
         "yaxis": "y2"
        }
       ],
       "layout": {
        "height": 800,
        "template": {
         "data": {
          "bar": [
           {
            "error_x": {
             "color": "rgb(36,36,36)"
            },
            "error_y": {
             "color": "rgb(36,36,36)"
            },
            "marker": {
             "line": {
              "color": "white",
              "width": 0.5
             },
             "pattern": {
              "fillmode": "overlay",
              "size": 10,
              "solidity": 0.2
             }
            },
            "type": "bar"
           }
          ],
          "barpolar": [
           {
            "marker": {
             "line": {
              "color": "white",
              "width": 0.5
             },
             "pattern": {
              "fillmode": "overlay",
              "size": 10,
              "solidity": 0.2
             }
            },
            "type": "barpolar"
           }
          ],
          "carpet": [
           {
            "aaxis": {
             "endlinecolor": "rgb(36,36,36)",
             "gridcolor": "white",
             "linecolor": "white",
             "minorgridcolor": "white",
             "startlinecolor": "rgb(36,36,36)"
            },
            "baxis": {
             "endlinecolor": "rgb(36,36,36)",
             "gridcolor": "white",
             "linecolor": "white",
             "minorgridcolor": "white",
             "startlinecolor": "rgb(36,36,36)"
            },
            "type": "carpet"
           }
          ],
          "choropleth": [
           {
            "colorbar": {
             "outlinewidth": 1,
             "tickcolor": "rgb(36,36,36)",
             "ticks": "outside"
            },
            "type": "choropleth"
           }
          ],
          "contour": [
           {
            "colorbar": {
             "outlinewidth": 1,
             "tickcolor": "rgb(36,36,36)",
             "ticks": "outside"
            },
            "colorscale": [
             [
              0,
              "#440154"
             ],
             [
              0.1111111111111111,
              "#482878"
             ],
             [
              0.2222222222222222,
              "#3e4989"
             ],
             [
              0.3333333333333333,
              "#31688e"
             ],
             [
              0.4444444444444444,
              "#26828e"
             ],
             [
              0.5555555555555556,
              "#1f9e89"
             ],
             [
              0.6666666666666666,
              "#35b779"
             ],
             [
              0.7777777777777778,
              "#6ece58"
             ],
             [
              0.8888888888888888,
              "#b5de2b"
             ],
             [
              1,
              "#fde725"
             ]
            ],
            "type": "contour"
           }
          ],
          "contourcarpet": [
           {
            "colorbar": {
             "outlinewidth": 1,
             "tickcolor": "rgb(36,36,36)",
             "ticks": "outside"
            },
            "type": "contourcarpet"
           }
          ],
          "heatmap": [
           {
            "colorbar": {
             "outlinewidth": 1,
             "tickcolor": "rgb(36,36,36)",
             "ticks": "outside"
            },
            "colorscale": [
             [
              0,
              "#440154"
             ],
             [
              0.1111111111111111,
              "#482878"
             ],
             [
              0.2222222222222222,
              "#3e4989"
             ],
             [
              0.3333333333333333,
              "#31688e"
             ],
             [
              0.4444444444444444,
              "#26828e"
             ],
             [
              0.5555555555555556,
              "#1f9e89"
             ],
             [
              0.6666666666666666,
              "#35b779"
             ],
             [
              0.7777777777777778,
              "#6ece58"
             ],
             [
              0.8888888888888888,
              "#b5de2b"
             ],
             [
              1,
              "#fde725"
             ]
            ],
            "type": "heatmap"
           }
          ],
          "heatmapgl": [
           {
            "colorbar": {
             "outlinewidth": 1,
             "tickcolor": "rgb(36,36,36)",
             "ticks": "outside"
            },
            "colorscale": [
             [
              0,
              "#440154"
             ],
             [
              0.1111111111111111,
              "#482878"
             ],
             [
              0.2222222222222222,
              "#3e4989"
             ],
             [
              0.3333333333333333,
              "#31688e"
             ],
             [
              0.4444444444444444,
              "#26828e"
             ],
             [
              0.5555555555555556,
              "#1f9e89"
             ],
             [
              0.6666666666666666,
              "#35b779"
             ],
             [
              0.7777777777777778,
              "#6ece58"
             ],
             [
              0.8888888888888888,
              "#b5de2b"
             ],
             [
              1,
              "#fde725"
             ]
            ],
            "type": "heatmapgl"
           }
          ],
          "histogram": [
           {
            "marker": {
             "line": {
              "color": "white",
              "width": 0.6
             }
            },
            "type": "histogram"
           }
          ],
          "histogram2d": [
           {
            "colorbar": {
             "outlinewidth": 1,
             "tickcolor": "rgb(36,36,36)",
             "ticks": "outside"
            },
            "colorscale": [
             [
              0,
              "#440154"
             ],
             [
              0.1111111111111111,
              "#482878"
             ],
             [
              0.2222222222222222,
              "#3e4989"
             ],
             [
              0.3333333333333333,
              "#31688e"
             ],
             [
              0.4444444444444444,
              "#26828e"
             ],
             [
              0.5555555555555556,
              "#1f9e89"
             ],
             [
              0.6666666666666666,
              "#35b779"
             ],
             [
              0.7777777777777778,
              "#6ece58"
             ],
             [
              0.8888888888888888,
              "#b5de2b"
             ],
             [
              1,
              "#fde725"
             ]
            ],
            "type": "histogram2d"
           }
          ],
          "histogram2dcontour": [
           {
            "colorbar": {
             "outlinewidth": 1,
             "tickcolor": "rgb(36,36,36)",
             "ticks": "outside"
            },
            "colorscale": [
             [
              0,
              "#440154"
             ],
             [
              0.1111111111111111,
              "#482878"
             ],
             [
              0.2222222222222222,
              "#3e4989"
             ],
             [
              0.3333333333333333,
              "#31688e"
             ],
             [
              0.4444444444444444,
              "#26828e"
             ],
             [
              0.5555555555555556,
              "#1f9e89"
             ],
             [
              0.6666666666666666,
              "#35b779"
             ],
             [
              0.7777777777777778,
              "#6ece58"
             ],
             [
              0.8888888888888888,
              "#b5de2b"
             ],
             [
              1,
              "#fde725"
             ]
            ],
            "type": "histogram2dcontour"
           }
          ],
          "mesh3d": [
           {
            "colorbar": {
             "outlinewidth": 1,
             "tickcolor": "rgb(36,36,36)",
             "ticks": "outside"
            },
            "type": "mesh3d"
           }
          ],
          "parcoords": [
           {
            "line": {
             "colorbar": {
              "outlinewidth": 1,
              "tickcolor": "rgb(36,36,36)",
              "ticks": "outside"
             }
            },
            "type": "parcoords"
           }
          ],
          "pie": [
           {
            "automargin": true,
            "type": "pie"
           }
          ],
          "scatter": [
           {
            "marker": {
             "colorbar": {
              "outlinewidth": 1,
              "tickcolor": "rgb(36,36,36)",
              "ticks": "outside"
             }
            },
            "type": "scatter"
           }
          ],
          "scatter3d": [
           {
            "line": {
             "colorbar": {
              "outlinewidth": 1,
              "tickcolor": "rgb(36,36,36)",
              "ticks": "outside"
             }
            },
            "marker": {
             "colorbar": {
              "outlinewidth": 1,
              "tickcolor": "rgb(36,36,36)",
              "ticks": "outside"
             }
            },
            "type": "scatter3d"
           }
          ],
          "scattercarpet": [
           {
            "marker": {
             "colorbar": {
              "outlinewidth": 1,
              "tickcolor": "rgb(36,36,36)",
              "ticks": "outside"
             }
            },
            "type": "scattercarpet"
           }
          ],
          "scattergeo": [
           {
            "marker": {
             "colorbar": {
              "outlinewidth": 1,
              "tickcolor": "rgb(36,36,36)",
              "ticks": "outside"
             }
            },
            "type": "scattergeo"
           }
          ],
          "scattergl": [
           {
            "marker": {
             "colorbar": {
              "outlinewidth": 1,
              "tickcolor": "rgb(36,36,36)",
              "ticks": "outside"
             }
            },
            "type": "scattergl"
           }
          ],
          "scattermapbox": [
           {
            "marker": {
             "colorbar": {
              "outlinewidth": 1,
              "tickcolor": "rgb(36,36,36)",
              "ticks": "outside"
             }
            },
            "type": "scattermapbox"
           }
          ],
          "scatterpolar": [
           {
            "marker": {
             "colorbar": {
              "outlinewidth": 1,
              "tickcolor": "rgb(36,36,36)",
              "ticks": "outside"
             }
            },
            "type": "scatterpolar"
           }
          ],
          "scatterpolargl": [
           {
            "marker": {
             "colorbar": {
              "outlinewidth": 1,
              "tickcolor": "rgb(36,36,36)",
              "ticks": "outside"
             }
            },
            "type": "scatterpolargl"
           }
          ],
          "scatterternary": [
           {
            "marker": {
             "colorbar": {
              "outlinewidth": 1,
              "tickcolor": "rgb(36,36,36)",
              "ticks": "outside"
             }
            },
            "type": "scatterternary"
           }
          ],
          "surface": [
           {
            "colorbar": {
             "outlinewidth": 1,
             "tickcolor": "rgb(36,36,36)",
             "ticks": "outside"
            },
            "colorscale": [
             [
              0,
              "#440154"
             ],
             [
              0.1111111111111111,
              "#482878"
             ],
             [
              0.2222222222222222,
              "#3e4989"
             ],
             [
              0.3333333333333333,
              "#31688e"
             ],
             [
              0.4444444444444444,
              "#26828e"
             ],
             [
              0.5555555555555556,
              "#1f9e89"
             ],
             [
              0.6666666666666666,
              "#35b779"
             ],
             [
              0.7777777777777778,
              "#6ece58"
             ],
             [
              0.8888888888888888,
              "#b5de2b"
             ],
             [
              1,
              "#fde725"
             ]
            ],
            "type": "surface"
           }
          ],
          "table": [
           {
            "cells": {
             "fill": {
              "color": "rgb(237,237,237)"
             },
             "line": {
              "color": "white"
             }
            },
            "header": {
             "fill": {
              "color": "rgb(217,217,217)"
             },
             "line": {
              "color": "white"
             }
            },
            "type": "table"
           }
          ]
         },
         "layout": {
          "annotationdefaults": {
           "arrowhead": 0,
           "arrowwidth": 1
          },
          "autotypenumbers": "strict",
          "coloraxis": {
           "colorbar": {
            "outlinewidth": 1,
            "tickcolor": "rgb(36,36,36)",
            "ticks": "outside"
           }
          },
          "colorscale": {
           "diverging": [
            [
             0,
             "rgb(103,0,31)"
            ],
            [
             0.1,
             "rgb(178,24,43)"
            ],
            [
             0.2,
             "rgb(214,96,77)"
            ],
            [
             0.3,
             "rgb(244,165,130)"
            ],
            [
             0.4,
             "rgb(253,219,199)"
            ],
            [
             0.5,
             "rgb(247,247,247)"
            ],
            [
             0.6,
             "rgb(209,229,240)"
            ],
            [
             0.7,
             "rgb(146,197,222)"
            ],
            [
             0.8,
             "rgb(67,147,195)"
            ],
            [
             0.9,
             "rgb(33,102,172)"
            ],
            [
             1,
             "rgb(5,48,97)"
            ]
           ],
           "sequential": [
            [
             0,
             "#440154"
            ],
            [
             0.1111111111111111,
             "#482878"
            ],
            [
             0.2222222222222222,
             "#3e4989"
            ],
            [
             0.3333333333333333,
             "#31688e"
            ],
            [
             0.4444444444444444,
             "#26828e"
            ],
            [
             0.5555555555555556,
             "#1f9e89"
            ],
            [
             0.6666666666666666,
             "#35b779"
            ],
            [
             0.7777777777777778,
             "#6ece58"
            ],
            [
             0.8888888888888888,
             "#b5de2b"
            ],
            [
             1,
             "#fde725"
            ]
           ],
           "sequentialminus": [
            [
             0,
             "#440154"
            ],
            [
             0.1111111111111111,
             "#482878"
            ],
            [
             0.2222222222222222,
             "#3e4989"
            ],
            [
             0.3333333333333333,
             "#31688e"
            ],
            [
             0.4444444444444444,
             "#26828e"
            ],
            [
             0.5555555555555556,
             "#1f9e89"
            ],
            [
             0.6666666666666666,
             "#35b779"
            ],
            [
             0.7777777777777778,
             "#6ece58"
            ],
            [
             0.8888888888888888,
             "#b5de2b"
            ],
            [
             1,
             "#fde725"
            ]
           ]
          },
          "colorway": [
           "#1F77B4",
           "#FF7F0E",
           "#2CA02C",
           "#D62728",
           "#9467BD",
           "#8C564B",
           "#E377C2",
           "#7F7F7F",
           "#BCBD22",
           "#17BECF"
          ],
          "font": {
           "color": "rgb(36,36,36)"
          },
          "geo": {
           "bgcolor": "white",
           "lakecolor": "white",
           "landcolor": "white",
           "showlakes": true,
           "showland": true,
           "subunitcolor": "white"
          },
          "hoverlabel": {
           "align": "left"
          },
          "hovermode": "closest",
          "mapbox": {
           "style": "light"
          },
          "paper_bgcolor": "white",
          "plot_bgcolor": "white",
          "polar": {
           "angularaxis": {
            "gridcolor": "rgb(232,232,232)",
            "linecolor": "rgb(36,36,36)",
            "showgrid": false,
            "showline": true,
            "ticks": "outside"
           },
           "bgcolor": "white",
           "radialaxis": {
            "gridcolor": "rgb(232,232,232)",
            "linecolor": "rgb(36,36,36)",
            "showgrid": false,
            "showline": true,
            "ticks": "outside"
           }
          },
          "scene": {
           "xaxis": {
            "backgroundcolor": "white",
            "gridcolor": "rgb(232,232,232)",
            "gridwidth": 2,
            "linecolor": "rgb(36,36,36)",
            "showbackground": true,
            "showgrid": false,
            "showline": true,
            "ticks": "outside",
            "zeroline": false,
            "zerolinecolor": "rgb(36,36,36)"
           },
           "yaxis": {
            "backgroundcolor": "white",
            "gridcolor": "rgb(232,232,232)",
            "gridwidth": 2,
            "linecolor": "rgb(36,36,36)",
            "showbackground": true,
            "showgrid": false,
            "showline": true,
            "ticks": "outside",
            "zeroline": false,
            "zerolinecolor": "rgb(36,36,36)"
           },
           "zaxis": {
            "backgroundcolor": "white",
            "gridcolor": "rgb(232,232,232)",
            "gridwidth": 2,
            "linecolor": "rgb(36,36,36)",
            "showbackground": true,
            "showgrid": false,
            "showline": true,
            "ticks": "outside",
            "zeroline": false,
            "zerolinecolor": "rgb(36,36,36)"
           }
          },
          "shapedefaults": {
           "fillcolor": "black",
           "line": {
            "width": 0
           },
           "opacity": 0.3
          },
          "ternary": {
           "aaxis": {
            "gridcolor": "rgb(232,232,232)",
            "linecolor": "rgb(36,36,36)",
            "showgrid": false,
            "showline": true,
            "ticks": "outside"
           },
           "baxis": {
            "gridcolor": "rgb(232,232,232)",
            "linecolor": "rgb(36,36,36)",
            "showgrid": false,
            "showline": true,
            "ticks": "outside"
           },
           "bgcolor": "white",
           "caxis": {
            "gridcolor": "rgb(232,232,232)",
            "linecolor": "rgb(36,36,36)",
            "showgrid": false,
            "showline": true,
            "ticks": "outside"
           }
          },
          "title": {
           "x": 0.05
          },
          "xaxis": {
           "automargin": true,
           "gridcolor": "rgb(232,232,232)",
           "linecolor": "rgb(36,36,36)",
           "showgrid": false,
           "showline": true,
           "ticks": "outside",
           "title": {
            "standoff": 15
           },
           "zeroline": false,
           "zerolinecolor": "rgb(36,36,36)"
          },
          "yaxis": {
           "automargin": true,
           "gridcolor": "rgb(232,232,232)",
           "linecolor": "rgb(36,36,36)",
           "showgrid": false,
           "showline": true,
           "ticks": "outside",
           "title": {
            "standoff": 15
           },
           "zeroline": false,
           "zerolinecolor": "rgb(36,36,36)"
          }
         }
        },
        "width": 800,
        "xaxis": {
         "anchor": "y",
         "domain": [
          0,
          0.45
         ]
        },
        "xaxis2": {
         "anchor": "y2",
         "domain": [
          0.55,
          1
         ]
        },
        "xaxis3": {
         "anchor": "y3",
         "domain": [
          0,
          0.45
         ]
        },
        "xaxis4": {
         "anchor": "y4",
         "domain": [
          0.55,
          1
         ]
        },
        "yaxis": {
         "anchor": "x",
         "domain": [
          0.575,
          1
         ]
        },
        "yaxis2": {
         "anchor": "x2",
         "domain": [
          0.575,
          1
         ]
        },
        "yaxis3": {
         "anchor": "x3",
         "domain": [
          0,
          0.425
         ]
        },
        "yaxis4": {
         "anchor": "x4",
         "domain": [
          0,
          0.425
         ]
        }
       }
      },
      "text/html": [
       "<div>                            <div id=\"8bf2221c-32c9-402e-b1f9-a6af000e38c6\" class=\"plotly-graph-div\" style=\"height:800px; width:800px;\"></div>            <script type=\"text/javascript\">                require([\"plotly\"], function(Plotly) {                    window.PLOTLYENV=window.PLOTLYENV || {};                                    if (document.getElementById(\"8bf2221c-32c9-402e-b1f9-a6af000e38c6\")) {                    Plotly.newPlot(                        \"8bf2221c-32c9-402e-b1f9-a6af000e38c6\",                        [{\"legendgroup\":\"estimated\",\"line\":{\"color\":\"#4C78A8\"},\"name\":\"Estimated\",\"showlegend\":true,\"y\":[0.0,-0.06922274883973477,0.019600298024636156,0.10584236457215447,0.04351760677917605,-0.02557632909510605,-0.021036745225633317,0.03640926273493637,0.07138310636913289,0.39203469471589647,0.8303007371619444,0.9735137509581362,0.7563014913264285,0.4056432574772295,0.04493490847397563,-0.07869877889660111,0.019622181633477676,-0.02284099545377824,-0.058866628379211645,0.010064056748386209,0.02574217095474857,0.0019471961321069937,-0.048323187493093236,0.05126967893854875,0.14116450992745216,0.027899529722348354,-0.04352120450102179,-0.047187421170201936,-0.04816827757586192,-0.07606524932497802,-0.01655049812198677,0.042264964177795246],\"type\":\"scatter\",\"xaxis\":\"x3\",\"yaxis\":\"y3\"},{\"legendgroup\":\"realized\",\"line\":{\"color\":\"#4C78A8\",\"dash\":\"dash\"},\"name\":\"Realized\",\"showlegend\":true,\"y\":[-3.4574374395867175e-11,4.54765449636496e-10,3.86397415830312e-10,1.1382635130653443e-07,4.7868970628862815e-06,0.00012340048234878306,0.0019304713442194314,0.018315623235232673,0.10539922251169048,0.3678794697314101,0.7788007387587076,1.0000000354683511,0.7788007739830166,0.36787942734524864,0.10539924415092167,0.018315626931905388,0.0019304568381870015,0.00012341130757408483,4.783577134315836e-06,1.1307899999645588e-07,1.5787281190052254e-09,-3.5775222769298216e-11,1.7372519557788654e-11,-9.536476505633802e-13,-6.649774912523302e-13,1.196300554553444e-13,7.761065256518786e-15,-2.5714360740422607e-15,-1.0245670621530636e-16,2.058251270184999e-17,1.84909947772969e-18,6.276970570683296e-20],\"type\":\"scatter\",\"xaxis\":\"x3\",\"yaxis\":\"y3\"},{\"legendgroup\":\"estimated\",\"line\":{\"color\":\"#4C78A8\"},\"showlegend\":false,\"y\":[-0.010331906148343934,-0.02207236571503089,5.815618118736289e-05,0.019868562510423435,0.01867534335684486,0.005589876263481709,0.0021798379323179264,0.006040208832421352,-0.00554968446951077,-0.0036911478891288015,0.04419967448702192,0.037241884933717516,-0.032164322172626464,-0.11341990156794873,-0.17532038429966992,-0.15143896413146507,-0.10286579502026144,-0.031262980000028265,0.0479941447583618,0.054237972597680054,0.06454527538196296,0.022926167120917263,-0.018440872765883007,-0.012825236103495325,-0.025879801233388396,-0.0011676904538074203,0.00024699850076376277,0.008352540407681986,-0.000956879705209226,0.00888804024627916,-0.024812837445386808,0.007388033163333977],\"type\":\"scatter\",\"xaxis\":\"x\",\"yaxis\":\"y\"},{\"legendgroup\":\"realized\",\"line\":{\"color\":\"#4C78A8\",\"dash\":\"dash\"},\"showlegend\":false,\"y\":[-0.010331906148387894,-0.02207236571499443,5.8156181168521405e-05,0.019868562510428928,0.01867534335684496,0.005589876263477019,0.0021798379323221193,0.006040208832434844,-0.005549684469552228,-0.0036911478890776263,0.04419967448699531,0.037241884933702424,-0.03216432217257861,-0.11341990156801228,-0.17532038429961228,-0.15143896413148608,-0.1028657950202981,-0.03126297999993849,0.04799414475824831,0.05423797259777316,0.06454527538192745,0.022926167120882454,-0.018440872765793738,-0.01282523610360597,-0.02587980123328317,-0.0011676904538999834,0.0002469985008550472,0.008352540407571472,-0.0009568797050682632,0.008888040246121047,-0.02481283744524515,0.007388033163238449],\"type\":\"scatter\",\"xaxis\":\"x\",\"yaxis\":\"y\"},{\"legendgroup\":\"estimated\",\"line\":{\"color\":\"#F58518\"},\"showlegend\":false,\"y\":[0.002384814484806656,-0.03726551505564322,0.010139577329052447,0.0019449657859929243,0.008049905548194028,-0.01932369547964846,-0.003496842225723446,-0.0031111227197850085,-0.004073760229625744,0.01879896917767499,0.05492263844508546,0.0892240962712813,0.06010601542863065,-0.014192992787487384,-0.08958199479905994,-0.13524310985387336,-0.0850947257405598,-0.02436477764281744,0.014310342296520145,0.0508381054984818,-0.008107617527684203,0.009124744851354023,-0.0032161161242595725,0.003744899173274054,0.01568570865802965,0.0003959255905939443,-0.0067575152243815615,0.018868008834279235,-0.012825269699714708,-0.00803361346954563,0.038600876426066986,0.03826456498719572],\"type\":\"scatter\",\"xaxis\":\"x\",\"yaxis\":\"y\"},{\"legendgroup\":\"realized\",\"line\":{\"color\":\"#F58518\",\"dash\":\"dash\"},\"showlegend\":false,\"y\":[0.0023848144846236904,-0.037265515055437605,0.010139577328864079,0.0019449657861475432,0.008049905548071659,-0.019323695479561663,-0.0034968422257669073,-0.0031111227197808877,-0.004073760229605674,0.018798969177644027,0.05492263844511694,0.08922409627126422,0.060106015428618036,-0.014192992787443171,-0.08958199479912055,-0.13524310985382867,-0.08509472574054518,-0.024364777642918122,0.014310342296697687,0.05083810549826856,-0.008107617527494199,0.009124744851232708,-0.003216116124211716,0.0037448991732673114,0.015685708658043376,0.00039592559053894423,-0.006757515224293748,0.018868008834207518,-0.012825269699704184,-0.00803361346949704,0.038600876426002156,0.03826456498723912],\"type\":\"scatter\",\"xaxis\":\"x\",\"yaxis\":\"y\"},{\"legendgroup\":\"estimated\",\"line\":{\"color\":\"#E45756\"},\"showlegend\":false,\"y\":[0.01242856332055653,-0.032840109653720174,-0.02330408492072271,-0.03980283607280851,0.005703194911492866,0.027034925871945104,-0.009992013848541884,-0.015215977783399073,0.008020295424289076,0.028195344581224625,0.07577059839346031,0.16458245536492994,0.17260889040453392,0.12717638657175118,0.030284927245701806,-0.035084922652883044,-0.09665131295114775,-0.05039028375056331,-0.01526075914429645,0.008150608044772873,0.0030930355489616024,0.034944856913211544,0.0028893462094031603,-0.007888792996105351,0.010171341419953671,0.03413032827159786,0.038674556813869575,0.012282635935170493,-0.010320508218043088,0.007053216489530107,-0.0029918262295632334,0.027932512357026703],\"type\":\"scatter\",\"xaxis\":\"x\",\"yaxis\":\"y\"},{\"legendgroup\":\"realized\",\"line\":{\"color\":\"#E45756\",\"dash\":\"dash\"},\"showlegend\":false,\"y\":[0.012428563320409517,-0.03284010965355623,-0.023304084920862642,-0.039802836072729254,0.005703194911484954,0.027034925871911423,-0.009992013848513932,-0.015215977783405714,0.00802029542430291,0.028195344581172243,0.07577059839354915,0.1645824553648301,0.17260889040463245,0.12717638657163963,0.030284927245838845,-0.03508492265303484,-0.09665131295100543,-0.05039028375068143,-0.015260759144188599,0.008150608044650976,0.0030930355490925987,0.034944856913104755,0.002889346209461451,-0.007888792996121831,0.01017134141995203,0.03413032827159759,0.03867455681388979,0.012282635935111391,-0.010320508217942288,0.007053216489410335,-0.0029918262294563315,0.027932512356953803],\"type\":\"scatter\",\"xaxis\":\"x\",\"yaxis\":\"y\"},{\"legendgroup\":\"estimated\",\"line\":{\"color\":\"#72B7B2\"},\"showlegend\":false,\"y\":[-0.01140314815420278,0.031890484326620956,-0.011562455346978565,0.024095193262003274,0.0153718259369372,0.023625414672180732,0.0032500088357910514,0.007131718366212042,-0.011069150521141082,0.028821727613570103,0.11762401900360622,0.2104826524626092,0.2513943672009137,0.18943262447846332,0.09081948999097102,-0.07971916645612971,-0.12337357296610688,-0.06861005932713572,-0.07291028170508607,-0.031219727620939115,0.0407615286065916,0.053251269889991994,0.04925519409381611,-0.0013857004419457598,-0.006269151072975727,0.022463387991791258,-0.0026128088339835228,-0.03534763098039071,-0.013129005872972027,-0.0010466571863110056,-0.020045498671650036,0.0013774637971295904],\"type\":\"scatter\",\"xaxis\":\"x\",\"yaxis\":\"y\"},{\"legendgroup\":\"realized\",\"line\":{\"color\":\"#72B7B2\",\"dash\":\"dash\"},\"showlegend\":false,\"y\":[-0.011403148153991025,0.03189048432637365,-0.011562455346748211,0.024095193261820757,0.015371825937077225,0.023625414672062726,0.003250008835895544,0.007131718366130592,-0.011069150521095542,0.02882172761356311,0.11762401900357758,0.21048265246267953,0.25139436720079467,0.18943262447860873,0.0908194899908561,-0.07971916645610566,-0.12337357296603385,-0.06861005932723269,-0.07291028170505015,-0.03121972762089268,0.04076152860649806,0.05325126989008741,0.04925519409375163,-0.0013857004419301714,-0.006269151072954139,0.022463387991774185,-0.0026128088339964495,-0.035347630980373065,-0.013129005872951047,-0.0010466571863780787,-0.020045498671569455,0.0013774637970698843],\"type\":\"scatter\",\"xaxis\":\"x\",\"yaxis\":\"y\"},{\"legendgroup\":\"estimated\",\"line\":{\"color\":\"#4C78A8\"},\"showlegend\":false,\"y\":[0.0,-0.07989736090882277,-0.09075494717295753,0.014964077777000831,0.09676707885517968,0.06913205080634569,-0.029876456259992995,-0.023424838471932462,0.017652480729480793,0.1721156442120909,0.5809301731932133,0.9760521176113021,0.9224475314770878,0.38410063979581055,-0.2868734249578838,-0.7595953034549059,-0.7652498612818421,-0.3626521386156386,-0.06821015368328592,0.1384439409872546,0.25967886590053624,0.23091207122321716,0.05810921088531837,-0.07093410196546454,-0.01382635199129225,0.06080753961892737,-0.0013088523769772473,-0.05609741375760185,-0.05801977551758026,-0.012794045812851658,-0.02899785002619465,0.05056184406370659],\"type\":\"scatter\",\"xaxis\":\"x2\",\"yaxis\":\"y2\"},{\"legendgroup\":\"realized\",\"line\":{\"color\":\"#4C78A8\",\"dash\":\"dash\"},\"showlegend\":false,\"y\":[0.0,-6.230663154679975e-08,-4.4802244484660666e-07,1.9077911951930127e-06,-2.317096171224159e-06,3.7113984195941476e-05,0.0006377073701651835,0.006985093864077187,0.04844021135968346,0.20829581507876416,0.56116101884732,0.9409836560526496,0.9393719097288961,0.4128372152688673,-0.27129640822083945,-0.6700834147154188,-0.6559433942037808,-0.37458367708305723,-0.0461089553211661,0.1725671556698765,0.23231464181397057,0.17042975705163182,0.060909695555641866,-0.03124408133912697,-0.07394154703916567,-0.06860799472125394,-0.036394901765009584,-0.0014844682691855446,0.02031677853259542,0.024958654919974503,0.017232246180785227,0.005267515761016561],\"type\":\"scatter\",\"xaxis\":\"x2\",\"yaxis\":\"y2\"},{\"legendgroup\":\"estimated\",\"line\":{\"color\":\"#F58518\"},\"showlegend\":false,\"y\":[0.0,-0.015144542799335898,0.026911742010734034,0.004000360775693303,0.008492000006891522,-0.0400221814875077,-0.03331407220633581,-0.02662031217410211,-0.002522206594272741,-0.03919536490680751,-0.20510621652097372,-0.5355683860584849,-0.8598082855390443,-0.958670008940037,-0.7703175829559362,-0.3668828237476973,0.06063058143647282,0.3021273131135921,0.29428449703394083,0.18215809026839025,0.07172074358953533,-0.05471803362542042,-0.1298691888627782,-0.09810291866488452,-0.054878902993259704,-0.023331832313275062,-0.04630677938542951,-0.020032856868949192,0.026930193492385346,0.058337154549572695,0.037239582734426846,0.028580545734216263],\"type\":\"scatter\",\"xaxis\":\"x2\",\"yaxis\":\"y2\"},{\"legendgroup\":\"realized\",\"line\":{\"color\":\"#F58518\",\"dash\":\"dash\"},\"showlegend\":false,\"y\":[0.0,1.5444185856022166e-08,1.396690891405244e-07,-2.7996442759822707e-07,1.300582424827027e-07,-4.5380979893541335e-06,-0.00010535765138589333,-0.0013480095638608782,-0.011264101868924127,-0.060584715545598765,-0.2141818180025307,-0.5087953145077161,-0.8326389737549564,-0.9578035835685612,-0.7670563785683558,-0.3701420331948905,0.01857862527544729,0.2454799338564996,0.27933957862412934,0.18188688927504432,0.04595506116361728,-0.055902023706830284,-0.0940699891288847,-0.07748744470317939,-0.03470106231886594,0.005906964602536355,0.028042038780235343,0.029623454310294246,0.018070499324427114,0.003430796223632458,-0.006897706485044043,-0.010248858619261616],\"type\":\"scatter\",\"xaxis\":\"x2\",\"yaxis\":\"y2\"}],                        {\"template\":{\"data\":{\"barpolar\":[{\"marker\":{\"line\":{\"color\":\"white\",\"width\":0.5},\"pattern\":{\"fillmode\":\"overlay\",\"size\":10,\"solidity\":0.2}},\"type\":\"barpolar\"}],\"bar\":[{\"error_x\":{\"color\":\"rgb(36,36,36)\"},\"error_y\":{\"color\":\"rgb(36,36,36)\"},\"marker\":{\"line\":{\"color\":\"white\",\"width\":0.5},\"pattern\":{\"fillmode\":\"overlay\",\"size\":10,\"solidity\":0.2}},\"type\":\"bar\"}],\"carpet\":[{\"aaxis\":{\"endlinecolor\":\"rgb(36,36,36)\",\"gridcolor\":\"white\",\"linecolor\":\"white\",\"minorgridcolor\":\"white\",\"startlinecolor\":\"rgb(36,36,36)\"},\"baxis\":{\"endlinecolor\":\"rgb(36,36,36)\",\"gridcolor\":\"white\",\"linecolor\":\"white\",\"minorgridcolor\":\"white\",\"startlinecolor\":\"rgb(36,36,36)\"},\"type\":\"carpet\"}],\"choropleth\":[{\"colorbar\":{\"outlinewidth\":1,\"tickcolor\":\"rgb(36,36,36)\",\"ticks\":\"outside\"},\"type\":\"choropleth\"}],\"contourcarpet\":[{\"colorbar\":{\"outlinewidth\":1,\"tickcolor\":\"rgb(36,36,36)\",\"ticks\":\"outside\"},\"type\":\"contourcarpet\"}],\"contour\":[{\"colorbar\":{\"outlinewidth\":1,\"tickcolor\":\"rgb(36,36,36)\",\"ticks\":\"outside\"},\"colorscale\":[[0.0,\"#440154\"],[0.1111111111111111,\"#482878\"],[0.2222222222222222,\"#3e4989\"],[0.3333333333333333,\"#31688e\"],[0.4444444444444444,\"#26828e\"],[0.5555555555555556,\"#1f9e89\"],[0.6666666666666666,\"#35b779\"],[0.7777777777777778,\"#6ece58\"],[0.8888888888888888,\"#b5de2b\"],[1.0,\"#fde725\"]],\"type\":\"contour\"}],\"heatmapgl\":[{\"colorbar\":{\"outlinewidth\":1,\"tickcolor\":\"rgb(36,36,36)\",\"ticks\":\"outside\"},\"colorscale\":[[0.0,\"#440154\"],[0.1111111111111111,\"#482878\"],[0.2222222222222222,\"#3e4989\"],[0.3333333333333333,\"#31688e\"],[0.4444444444444444,\"#26828e\"],[0.5555555555555556,\"#1f9e89\"],[0.6666666666666666,\"#35b779\"],[0.7777777777777778,\"#6ece58\"],[0.8888888888888888,\"#b5de2b\"],[1.0,\"#fde725\"]],\"type\":\"heatmapgl\"}],\"heatmap\":[{\"colorbar\":{\"outlinewidth\":1,\"tickcolor\":\"rgb(36,36,36)\",\"ticks\":\"outside\"},\"colorscale\":[[0.0,\"#440154\"],[0.1111111111111111,\"#482878\"],[0.2222222222222222,\"#3e4989\"],[0.3333333333333333,\"#31688e\"],[0.4444444444444444,\"#26828e\"],[0.5555555555555556,\"#1f9e89\"],[0.6666666666666666,\"#35b779\"],[0.7777777777777778,\"#6ece58\"],[0.8888888888888888,\"#b5de2b\"],[1.0,\"#fde725\"]],\"type\":\"heatmap\"}],\"histogram2dcontour\":[{\"colorbar\":{\"outlinewidth\":1,\"tickcolor\":\"rgb(36,36,36)\",\"ticks\":\"outside\"},\"colorscale\":[[0.0,\"#440154\"],[0.1111111111111111,\"#482878\"],[0.2222222222222222,\"#3e4989\"],[0.3333333333333333,\"#31688e\"],[0.4444444444444444,\"#26828e\"],[0.5555555555555556,\"#1f9e89\"],[0.6666666666666666,\"#35b779\"],[0.7777777777777778,\"#6ece58\"],[0.8888888888888888,\"#b5de2b\"],[1.0,\"#fde725\"]],\"type\":\"histogram2dcontour\"}],\"histogram2d\":[{\"colorbar\":{\"outlinewidth\":1,\"tickcolor\":\"rgb(36,36,36)\",\"ticks\":\"outside\"},\"colorscale\":[[0.0,\"#440154\"],[0.1111111111111111,\"#482878\"],[0.2222222222222222,\"#3e4989\"],[0.3333333333333333,\"#31688e\"],[0.4444444444444444,\"#26828e\"],[0.5555555555555556,\"#1f9e89\"],[0.6666666666666666,\"#35b779\"],[0.7777777777777778,\"#6ece58\"],[0.8888888888888888,\"#b5de2b\"],[1.0,\"#fde725\"]],\"type\":\"histogram2d\"}],\"histogram\":[{\"marker\":{\"line\":{\"color\":\"white\",\"width\":0.6}},\"type\":\"histogram\"}],\"mesh3d\":[{\"colorbar\":{\"outlinewidth\":1,\"tickcolor\":\"rgb(36,36,36)\",\"ticks\":\"outside\"},\"type\":\"mesh3d\"}],\"parcoords\":[{\"line\":{\"colorbar\":{\"outlinewidth\":1,\"tickcolor\":\"rgb(36,36,36)\",\"ticks\":\"outside\"}},\"type\":\"parcoords\"}],\"pie\":[{\"automargin\":true,\"type\":\"pie\"}],\"scatter3d\":[{\"line\":{\"colorbar\":{\"outlinewidth\":1,\"tickcolor\":\"rgb(36,36,36)\",\"ticks\":\"outside\"}},\"marker\":{\"colorbar\":{\"outlinewidth\":1,\"tickcolor\":\"rgb(36,36,36)\",\"ticks\":\"outside\"}},\"type\":\"scatter3d\"}],\"scattercarpet\":[{\"marker\":{\"colorbar\":{\"outlinewidth\":1,\"tickcolor\":\"rgb(36,36,36)\",\"ticks\":\"outside\"}},\"type\":\"scattercarpet\"}],\"scattergeo\":[{\"marker\":{\"colorbar\":{\"outlinewidth\":1,\"tickcolor\":\"rgb(36,36,36)\",\"ticks\":\"outside\"}},\"type\":\"scattergeo\"}],\"scattergl\":[{\"marker\":{\"colorbar\":{\"outlinewidth\":1,\"tickcolor\":\"rgb(36,36,36)\",\"ticks\":\"outside\"}},\"type\":\"scattergl\"}],\"scattermapbox\":[{\"marker\":{\"colorbar\":{\"outlinewidth\":1,\"tickcolor\":\"rgb(36,36,36)\",\"ticks\":\"outside\"}},\"type\":\"scattermapbox\"}],\"scatterpolargl\":[{\"marker\":{\"colorbar\":{\"outlinewidth\":1,\"tickcolor\":\"rgb(36,36,36)\",\"ticks\":\"outside\"}},\"type\":\"scatterpolargl\"}],\"scatterpolar\":[{\"marker\":{\"colorbar\":{\"outlinewidth\":1,\"tickcolor\":\"rgb(36,36,36)\",\"ticks\":\"outside\"}},\"type\":\"scatterpolar\"}],\"scatter\":[{\"marker\":{\"colorbar\":{\"outlinewidth\":1,\"tickcolor\":\"rgb(36,36,36)\",\"ticks\":\"outside\"}},\"type\":\"scatter\"}],\"scatterternary\":[{\"marker\":{\"colorbar\":{\"outlinewidth\":1,\"tickcolor\":\"rgb(36,36,36)\",\"ticks\":\"outside\"}},\"type\":\"scatterternary\"}],\"surface\":[{\"colorbar\":{\"outlinewidth\":1,\"tickcolor\":\"rgb(36,36,36)\",\"ticks\":\"outside\"},\"colorscale\":[[0.0,\"#440154\"],[0.1111111111111111,\"#482878\"],[0.2222222222222222,\"#3e4989\"],[0.3333333333333333,\"#31688e\"],[0.4444444444444444,\"#26828e\"],[0.5555555555555556,\"#1f9e89\"],[0.6666666666666666,\"#35b779\"],[0.7777777777777778,\"#6ece58\"],[0.8888888888888888,\"#b5de2b\"],[1.0,\"#fde725\"]],\"type\":\"surface\"}],\"table\":[{\"cells\":{\"fill\":{\"color\":\"rgb(237,237,237)\"},\"line\":{\"color\":\"white\"}},\"header\":{\"fill\":{\"color\":\"rgb(217,217,217)\"},\"line\":{\"color\":\"white\"}},\"type\":\"table\"}]},\"layout\":{\"annotationdefaults\":{\"arrowhead\":0,\"arrowwidth\":1},\"autotypenumbers\":\"strict\",\"coloraxis\":{\"colorbar\":{\"outlinewidth\":1,\"tickcolor\":\"rgb(36,36,36)\",\"ticks\":\"outside\"}},\"colorscale\":{\"diverging\":[[0.0,\"rgb(103,0,31)\"],[0.1,\"rgb(178,24,43)\"],[0.2,\"rgb(214,96,77)\"],[0.3,\"rgb(244,165,130)\"],[0.4,\"rgb(253,219,199)\"],[0.5,\"rgb(247,247,247)\"],[0.6,\"rgb(209,229,240)\"],[0.7,\"rgb(146,197,222)\"],[0.8,\"rgb(67,147,195)\"],[0.9,\"rgb(33,102,172)\"],[1.0,\"rgb(5,48,97)\"]],\"sequential\":[[0.0,\"#440154\"],[0.1111111111111111,\"#482878\"],[0.2222222222222222,\"#3e4989\"],[0.3333333333333333,\"#31688e\"],[0.4444444444444444,\"#26828e\"],[0.5555555555555556,\"#1f9e89\"],[0.6666666666666666,\"#35b779\"],[0.7777777777777778,\"#6ece58\"],[0.8888888888888888,\"#b5de2b\"],[1.0,\"#fde725\"]],\"sequentialminus\":[[0.0,\"#440154\"],[0.1111111111111111,\"#482878\"],[0.2222222222222222,\"#3e4989\"],[0.3333333333333333,\"#31688e\"],[0.4444444444444444,\"#26828e\"],[0.5555555555555556,\"#1f9e89\"],[0.6666666666666666,\"#35b779\"],[0.7777777777777778,\"#6ece58\"],[0.8888888888888888,\"#b5de2b\"],[1.0,\"#fde725\"]]},\"colorway\":[\"#1F77B4\",\"#FF7F0E\",\"#2CA02C\",\"#D62728\",\"#9467BD\",\"#8C564B\",\"#E377C2\",\"#7F7F7F\",\"#BCBD22\",\"#17BECF\"],\"font\":{\"color\":\"rgb(36,36,36)\"},\"geo\":{\"bgcolor\":\"white\",\"lakecolor\":\"white\",\"landcolor\":\"white\",\"showlakes\":true,\"showland\":true,\"subunitcolor\":\"white\"},\"hoverlabel\":{\"align\":\"left\"},\"hovermode\":\"closest\",\"mapbox\":{\"style\":\"light\"},\"paper_bgcolor\":\"white\",\"plot_bgcolor\":\"white\",\"polar\":{\"angularaxis\":{\"gridcolor\":\"rgb(232,232,232)\",\"linecolor\":\"rgb(36,36,36)\",\"showgrid\":false,\"showline\":true,\"ticks\":\"outside\"},\"bgcolor\":\"white\",\"radialaxis\":{\"gridcolor\":\"rgb(232,232,232)\",\"linecolor\":\"rgb(36,36,36)\",\"showgrid\":false,\"showline\":true,\"ticks\":\"outside\"}},\"scene\":{\"xaxis\":{\"backgroundcolor\":\"white\",\"gridcolor\":\"rgb(232,232,232)\",\"gridwidth\":2,\"linecolor\":\"rgb(36,36,36)\",\"showbackground\":true,\"showgrid\":false,\"showline\":true,\"ticks\":\"outside\",\"zeroline\":false,\"zerolinecolor\":\"rgb(36,36,36)\"},\"yaxis\":{\"backgroundcolor\":\"white\",\"gridcolor\":\"rgb(232,232,232)\",\"gridwidth\":2,\"linecolor\":\"rgb(36,36,36)\",\"showbackground\":true,\"showgrid\":false,\"showline\":true,\"ticks\":\"outside\",\"zeroline\":false,\"zerolinecolor\":\"rgb(36,36,36)\"},\"zaxis\":{\"backgroundcolor\":\"white\",\"gridcolor\":\"rgb(232,232,232)\",\"gridwidth\":2,\"linecolor\":\"rgb(36,36,36)\",\"showbackground\":true,\"showgrid\":false,\"showline\":true,\"ticks\":\"outside\",\"zeroline\":false,\"zerolinecolor\":\"rgb(36,36,36)\"}},\"shapedefaults\":{\"fillcolor\":\"black\",\"line\":{\"width\":0},\"opacity\":0.3},\"ternary\":{\"aaxis\":{\"gridcolor\":\"rgb(232,232,232)\",\"linecolor\":\"rgb(36,36,36)\",\"showgrid\":false,\"showline\":true,\"ticks\":\"outside\"},\"baxis\":{\"gridcolor\":\"rgb(232,232,232)\",\"linecolor\":\"rgb(36,36,36)\",\"showgrid\":false,\"showline\":true,\"ticks\":\"outside\"},\"bgcolor\":\"white\",\"caxis\":{\"gridcolor\":\"rgb(232,232,232)\",\"linecolor\":\"rgb(36,36,36)\",\"showgrid\":false,\"showline\":true,\"ticks\":\"outside\"}},\"title\":{\"x\":0.05},\"xaxis\":{\"automargin\":true,\"gridcolor\":\"rgb(232,232,232)\",\"linecolor\":\"rgb(36,36,36)\",\"showgrid\":false,\"showline\":true,\"ticks\":\"outside\",\"title\":{\"standoff\":15},\"zeroline\":false,\"zerolinecolor\":\"rgb(36,36,36)\"},\"yaxis\":{\"automargin\":true,\"gridcolor\":\"rgb(232,232,232)\",\"linecolor\":\"rgb(36,36,36)\",\"showgrid\":false,\"showline\":true,\"ticks\":\"outside\",\"title\":{\"standoff\":15},\"zeroline\":false,\"zerolinecolor\":\"rgb(36,36,36)\"}}},\"xaxis\":{\"anchor\":\"y\",\"domain\":[0.0,0.45]},\"yaxis\":{\"anchor\":\"x\",\"domain\":[0.575,1.0]},\"xaxis2\":{\"anchor\":\"y2\",\"domain\":[0.55,1.0]},\"yaxis2\":{\"anchor\":\"x2\",\"domain\":[0.575,1.0]},\"xaxis3\":{\"anchor\":\"y3\",\"domain\":[0.0,0.45]},\"yaxis3\":{\"anchor\":\"x3\",\"domain\":[0.0,0.425]},\"xaxis4\":{\"anchor\":\"y4\",\"domain\":[0.55,1.0]},\"yaxis4\":{\"anchor\":\"x4\",\"domain\":[0.0,0.425]},\"height\":800,\"width\":800},                        {\"responsive\": true}                    ).then(function(){\n",
       "                            \n",
       "var gd = document.getElementById('8bf2221c-32c9-402e-b1f9-a6af000e38c6');\n",
       "var x = new MutationObserver(function (mutations, observer) {{\n",
       "        var display = window.getComputedStyle(gd).display;\n",
       "        if (!display || display === 'none') {{\n",
       "            console.log([gd, 'removed!']);\n",
       "            Plotly.purge(gd);\n",
       "            observer.disconnect();\n",
       "        }}\n",
       "}});\n",
       "\n",
       "// Listen for the removal of the full notebook cells\n",
       "var notebookContainer = gd.closest('#notebook-container');\n",
       "if (notebookContainer) {{\n",
       "    x.observe(notebookContainer, {childList: true});\n",
       "}}\n",
       "\n",
       "// Listen for the clearing of the current output cell\n",
       "var outputEl = gd.closest('.output');\n",
       "if (outputEl) {{\n",
       "    x.observe(outputEl, {childList: true});\n",
       "}}\n",
       "\n",
       "                        })                };                });            </script>        </div>"
      ]
     },
     "metadata": {},
     "output_type": "display_data"
    }
   ],
   "source": [
    "fig = make_subplots(rows=2, cols=2) \n",
    "\n",
    "fig.add_scatter(y=results.qU.v[:, 0, 0], row=2, col=1, showlegend=True, legendgroup='estimated', name='Estimated', line_color=px.colors.qualitative.T10[0])\n",
    "fig.add_scatter(y=gen.v[:, 0, -1, 0], row=2, col=1, showlegend=True, legendgroup='realized', name='Realized', line_dash='dash',line_color=px.colors.qualitative.T10[0])\n",
    "\n",
    "for i in range(4): \n",
    "    fig.add_scatter(y=results.qU.y[:, 0, i], row=1, col=1,legendgroup='estimated', showlegend=False, line_color=px.colors.qualitative.T10[i])\n",
    "    fig.add_scatter(y=y[:, i], row=1, col=1, legendgroup='realized',showlegend=False, line_dash='dash', line_color=px.colors.qualitative.T10[i])\n",
    "\n",
    "for i in range(2): \n",
    "    fig.add_scatter(y=results.qU.x[:, 0, i], row=1, col=2, legendgroup='estimated',showlegend=False, line_color=px.colors.qualitative.T10[i])\n",
    "    fig.add_scatter(y=gen.x[:, 0, i, 0], row=1, col=2, legendgroup='realized',showlegend=False, line_color=px.colors.qualitative.T10[i], line_dash='dash')\n",
    "    \n",
    "fig.update_layout(height=800, width=800, template='simple_white')"
   ]
  },
  {
   "cell_type": "code",
   "execution_count": 8,
   "id": "3bb462e1",
   "metadata": {},
   "outputs": [],
   "source": [
    "x = results.qU.x.reshape((results.qU.x.shape[0], -1))\n",
    "v = results.qU.v.reshape((results.qU.v.shape[0], -1))\n",
    "xv = torch.cat([x, v], dim=1)"
   ]
  },
  {
   "cell_type": "code",
   "execution_count": 9,
   "id": "485acc39",
   "metadata": {},
   "outputs": [
    {
     "ename": "ValueError",
     "evalue": "Expected parameter covariance_matrix (Tensor of shape (32, 9, 9)) of distribution Gaussian(loc: torch.Size([32, 9]), covariance_matrix: torch.Size([32, 9, 9])) to satisfy the constraint PositiveDefinite(), but found invalid values:\ntensor([[[0.0000, 0.0000, 0.0000,  ..., 0.0000, 0.0000, 0.0000],\n         [0.0000, 0.0000, 0.0000,  ..., 0.0000, 0.0000, 0.0000],\n         [0.0000, 0.0000, 0.0100,  ..., 0.0090, 0.0050, 0.0056],\n         ...,\n         [0.0000, 0.0000, 0.0090,  ..., 0.0119, 0.0042, 0.0052],\n         [0.0000, 0.0000, 0.0050,  ..., 0.0042, 0.0033, 0.0026],\n         [0.0000, 0.0000, 0.0056,  ..., 0.0052, 0.0026, 0.0032]],\n\n        [[0.0000, 0.0000, 0.0000,  ..., 0.0000, 0.0000, 0.0000],\n         [0.0000, 0.0000, 0.0000,  ..., 0.0000, 0.0000, 0.0000],\n         [0.0000, 0.0000, 0.0100,  ..., 0.0090, 0.0050, 0.0056],\n         ...,\n         [0.0000, 0.0000, 0.0090,  ..., 0.0119, 0.0042, 0.0052],\n         [0.0000, 0.0000, 0.0050,  ..., 0.0042, 0.0033, 0.0026],\n         [0.0000, 0.0000, 0.0056,  ..., 0.0052, 0.0026, 0.0032]],\n\n        [[0.0000, 0.0000, 0.0000,  ..., 0.0000, 0.0000, 0.0000],\n         [0.0000, 0.0000, 0.0000,  ..., 0.0000, 0.0000, 0.0000],\n         [0.0000, 0.0000, 0.0100,  ..., 0.0090, 0.0050, 0.0056],\n         ...,\n         [0.0000, 0.0000, 0.0090,  ..., 0.0119, 0.0042, 0.0052],\n         [0.0000, 0.0000, 0.0050,  ..., 0.0042, 0.0033, 0.0026],\n         [0.0000, 0.0000, 0.0056,  ..., 0.0052, 0.0026, 0.0032]],\n\n        ...,\n\n        [[0.0000, 0.0000, 0.0000,  ..., 0.0000, 0.0000, 0.0000],\n         [0.0000, 0.0000, 0.0000,  ..., 0.0000, 0.0000, 0.0000],\n         [0.0000, 0.0000, 0.0100,  ..., 0.0090, 0.0050, 0.0056],\n         ...,\n         [0.0000, 0.0000, 0.0090,  ..., 0.0119, 0.0042, 0.0052],\n         [0.0000, 0.0000, 0.0050,  ..., 0.0042, 0.0033, 0.0026],\n         [0.0000, 0.0000, 0.0056,  ..., 0.0052, 0.0026, 0.0032]],\n\n        [[0.0000, 0.0000, 0.0000,  ..., 0.0000, 0.0000, 0.0000],\n         [0.0000, 0.0000, 0.0000,  ..., 0.0000, 0.0000, 0.0000],\n         [0.0000, 0.0000, 0.0100,  ..., 0.0090, 0.0050, 0.0056],\n         ...,\n         [0.0000, 0.0000, 0.0090,  ..., 0.0119, 0.0042, 0.0052],\n         [0.0000, 0.0000, 0.0050,  ..., 0.0042, 0.0033, 0.0026],\n         [0.0000, 0.0000, 0.0056,  ..., 0.0052, 0.0026, 0.0032]],\n\n        [[0.0000, 0.0000, 0.0000,  ..., 0.0000, 0.0000, 0.0000],\n         [0.0000, 0.0000, 0.0000,  ..., 0.0000, 0.0000, 0.0000],\n         [0.0000, 0.0000, 0.0100,  ..., 0.0090, 0.0050, 0.0056],\n         ...,\n         [0.0000, 0.0000, 0.0090,  ..., 0.0119, 0.0042, 0.0052],\n         [0.0000, 0.0000, 0.0050,  ..., 0.0042, 0.0033, 0.0026],\n         [0.0000, 0.0000, 0.0056,  ..., 0.0052, 0.0026, 0.0032]]])",
     "output_type": "error",
     "traceback": [
      "\u001b[0;31m---------------------------------------------------------------------------\u001b[0m",
      "\u001b[0;31mValueError\u001b[0m                                Traceback (most recent call last)",
      "\u001b[0;32m<ipython-input-9-4b354427a739>\u001b[0m in \u001b[0;36m<module>\u001b[0;34m\u001b[0m\n\u001b[0;32m----> 1\u001b[0;31m \u001b[0mtraj\u001b[0m \u001b[0;34m=\u001b[0m \u001b[0mGaussian\u001b[0m\u001b[0;34m(\u001b[0m\u001b[0mxv\u001b[0m\u001b[0;34m,\u001b[0m \u001b[0mresults\u001b[0m\u001b[0;34m.\u001b[0m\u001b[0mqU\u001b[0m\u001b[0;34m.\u001b[0m\u001b[0mc\u001b[0m\u001b[0;34m)\u001b[0m\u001b[0;34m[\u001b[0m\u001b[0;32mNone\u001b[0m\u001b[0;34m,\u001b[0m \u001b[0;34m...\u001b[0m\u001b[0;34m]\u001b[0m\u001b[0;34m\u001b[0m\u001b[0;34m\u001b[0m\u001b[0m\n\u001b[0m\u001b[1;32m      2\u001b[0m \u001b[0mplot_traj\u001b[0m\u001b[0;34m(\u001b[0m\u001b[0mtraj\u001b[0m\u001b[0;34m,\u001b[0m\u001b[0mn_states\u001b[0m\u001b[0;34m=\u001b[0m\u001b[0;36m9\u001b[0m\u001b[0;34m)\u001b[0m\u001b[0;34m\u001b[0m\u001b[0;34m\u001b[0m\u001b[0m\n",
      "\u001b[0;32m~/anaconda3/envs/bcirob/lib/python3.8/site-packages/torch/distributions/multivariate_normal.py\u001b[0m in \u001b[0;36m__init__\u001b[0;34m(self, loc, covariance_matrix, precision_matrix, scale_tril, validate_args)\u001b[0m\n\u001b[1;32m    144\u001b[0m \u001b[0;34m\u001b[0m\u001b[0m\n\u001b[1;32m    145\u001b[0m         \u001b[0mevent_shape\u001b[0m \u001b[0;34m=\u001b[0m \u001b[0mself\u001b[0m\u001b[0;34m.\u001b[0m\u001b[0mloc\u001b[0m\u001b[0;34m.\u001b[0m\u001b[0mshape\u001b[0m\u001b[0;34m[\u001b[0m\u001b[0;34m-\u001b[0m\u001b[0;36m1\u001b[0m\u001b[0;34m:\u001b[0m\u001b[0;34m]\u001b[0m\u001b[0;34m\u001b[0m\u001b[0;34m\u001b[0m\u001b[0m\n\u001b[0;32m--> 146\u001b[0;31m         \u001b[0msuper\u001b[0m\u001b[0;34m(\u001b[0m\u001b[0mMultivariateNormal\u001b[0m\u001b[0;34m,\u001b[0m \u001b[0mself\u001b[0m\u001b[0;34m)\u001b[0m\u001b[0;34m.\u001b[0m\u001b[0m__init__\u001b[0m\u001b[0;34m(\u001b[0m\u001b[0mbatch_shape\u001b[0m\u001b[0;34m,\u001b[0m \u001b[0mevent_shape\u001b[0m\u001b[0;34m,\u001b[0m \u001b[0mvalidate_args\u001b[0m\u001b[0;34m=\u001b[0m\u001b[0mvalidate_args\u001b[0m\u001b[0;34m)\u001b[0m\u001b[0;34m\u001b[0m\u001b[0;34m\u001b[0m\u001b[0m\n\u001b[0m\u001b[1;32m    147\u001b[0m \u001b[0;34m\u001b[0m\u001b[0m\n\u001b[1;32m    148\u001b[0m         \u001b[0;32mif\u001b[0m \u001b[0mscale_tril\u001b[0m \u001b[0;32mis\u001b[0m \u001b[0;32mnot\u001b[0m \u001b[0;32mNone\u001b[0m\u001b[0;34m:\u001b[0m\u001b[0;34m\u001b[0m\u001b[0;34m\u001b[0m\u001b[0m\n",
      "\u001b[0;32m~/anaconda3/envs/bcirob/lib/python3.8/site-packages/torch/distributions/distribution.py\u001b[0m in \u001b[0;36m__init__\u001b[0;34m(self, batch_shape, event_shape, validate_args)\u001b[0m\n\u001b[1;32m     53\u001b[0m                 \u001b[0mvalid\u001b[0m \u001b[0;34m=\u001b[0m \u001b[0mconstraint\u001b[0m\u001b[0;34m.\u001b[0m\u001b[0mcheck\u001b[0m\u001b[0;34m(\u001b[0m\u001b[0mvalue\u001b[0m\u001b[0;34m)\u001b[0m\u001b[0;34m\u001b[0m\u001b[0;34m\u001b[0m\u001b[0m\n\u001b[1;32m     54\u001b[0m                 \u001b[0;32mif\u001b[0m \u001b[0;32mnot\u001b[0m \u001b[0mvalid\u001b[0m\u001b[0;34m.\u001b[0m\u001b[0mall\u001b[0m\u001b[0;34m(\u001b[0m\u001b[0;34m)\u001b[0m\u001b[0;34m:\u001b[0m\u001b[0;34m\u001b[0m\u001b[0;34m\u001b[0m\u001b[0m\n\u001b[0;32m---> 55\u001b[0;31m                     raise ValueError(\n\u001b[0m\u001b[1;32m     56\u001b[0m                         \u001b[0;34mf\"Expected parameter {param} \"\u001b[0m\u001b[0;34m\u001b[0m\u001b[0;34m\u001b[0m\u001b[0m\n\u001b[1;32m     57\u001b[0m                         \u001b[0;34mf\"({type(value).__name__} of shape {tuple(value.shape)}) \"\u001b[0m\u001b[0;34m\u001b[0m\u001b[0;34m\u001b[0m\u001b[0m\n",
      "\u001b[0;31mValueError\u001b[0m: Expected parameter covariance_matrix (Tensor of shape (32, 9, 9)) of distribution Gaussian(loc: torch.Size([32, 9]), covariance_matrix: torch.Size([32, 9, 9])) to satisfy the constraint PositiveDefinite(), but found invalid values:\ntensor([[[0.0000, 0.0000, 0.0000,  ..., 0.0000, 0.0000, 0.0000],\n         [0.0000, 0.0000, 0.0000,  ..., 0.0000, 0.0000, 0.0000],\n         [0.0000, 0.0000, 0.0100,  ..., 0.0090, 0.0050, 0.0056],\n         ...,\n         [0.0000, 0.0000, 0.0090,  ..., 0.0119, 0.0042, 0.0052],\n         [0.0000, 0.0000, 0.0050,  ..., 0.0042, 0.0033, 0.0026],\n         [0.0000, 0.0000, 0.0056,  ..., 0.0052, 0.0026, 0.0032]],\n\n        [[0.0000, 0.0000, 0.0000,  ..., 0.0000, 0.0000, 0.0000],\n         [0.0000, 0.0000, 0.0000,  ..., 0.0000, 0.0000, 0.0000],\n         [0.0000, 0.0000, 0.0100,  ..., 0.0090, 0.0050, 0.0056],\n         ...,\n         [0.0000, 0.0000, 0.0090,  ..., 0.0119, 0.0042, 0.0052],\n         [0.0000, 0.0000, 0.0050,  ..., 0.0042, 0.0033, 0.0026],\n         [0.0000, 0.0000, 0.0056,  ..., 0.0052, 0.0026, 0.0032]],\n\n        [[0.0000, 0.0000, 0.0000,  ..., 0.0000, 0.0000, 0.0000],\n         [0.0000, 0.0000, 0.0000,  ..., 0.0000, 0.0000, 0.0000],\n         [0.0000, 0.0000, 0.0100,  ..., 0.0090, 0.0050, 0.0056],\n         ...,\n         [0.0000, 0.0000, 0.0090,  ..., 0.0119, 0.0042, 0.0052],\n         [0.0000, 0.0000, 0.0050,  ..., 0.0042, 0.0033, 0.0026],\n         [0.0000, 0.0000, 0.0056,  ..., 0.0052, 0.0026, 0.0032]],\n\n        ...,\n\n        [[0.0000, 0.0000, 0.0000,  ..., 0.0000, 0.0000, 0.0000],\n         [0.0000, 0.0000, 0.0000,  ..., 0.0000, 0.0000, 0.0000],\n         [0.0000, 0.0000, 0.0100,  ..., 0.0090, 0.0050, 0.0056],\n         ...,\n         [0.0000, 0.0000, 0.0090,  ..., 0.0119, 0.0042, 0.0052],\n         [0.0000, 0.0000, 0.0050,  ..., 0.0042, 0.0033, 0.0026],\n         [0.0000, 0.0000, 0.0056,  ..., 0.0052, 0.0026, 0.0032]],\n\n        [[0.0000, 0.0000, 0.0000,  ..., 0.0000, 0.0000, 0.0000],\n         [0.0000, 0.0000, 0.0000,  ..., 0.0000, 0.0000, 0.0000],\n         [0.0000, 0.0000, 0.0100,  ..., 0.0090, 0.0050, 0.0056],\n         ...,\n         [0.0000, 0.0000, 0.0090,  ..., 0.0119, 0.0042, 0.0052],\n         [0.0000, 0.0000, 0.0050,  ..., 0.0042, 0.0033, 0.0026],\n         [0.0000, 0.0000, 0.0056,  ..., 0.0052, 0.0026, 0.0032]],\n\n        [[0.0000, 0.0000, 0.0000,  ..., 0.0000, 0.0000, 0.0000],\n         [0.0000, 0.0000, 0.0000,  ..., 0.0000, 0.0000, 0.0000],\n         [0.0000, 0.0000, 0.0100,  ..., 0.0090, 0.0050, 0.0056],\n         ...,\n         [0.0000, 0.0000, 0.0090,  ..., 0.0119, 0.0042, 0.0052],\n         [0.0000, 0.0000, 0.0050,  ..., 0.0042, 0.0033, 0.0026],\n         [0.0000, 0.0000, 0.0056,  ..., 0.0052, 0.0026, 0.0032]]])"
     ]
    }
   ],
   "source": [
    "traj = Gaussian(xv, results.qU.c)[None, ...]\n",
    "plot_traj(traj,n_states=9)"
   ]
  },
  {
   "cell_type": "code",
   "execution_count": null,
   "id": "4cb41653",
   "metadata": {},
   "outputs": [],
   "source": [
    "results.qP"
   ]
  }
 ],
 "metadata": {
  "kernelspec": {
   "display_name": "Python 3",
   "language": "python",
   "name": "python3"
  },
  "language_info": {
   "codemirror_mode": {
    "name": "ipython",
    "version": 3
   },
   "file_extension": ".py",
   "mimetype": "text/x-python",
   "name": "python",
   "nbconvert_exporter": "python",
   "pygments_lexer": "ipython3",
   "version": "3.8.10"
  }
 },
 "nbformat": 4,
 "nbformat_minor": 5
}
