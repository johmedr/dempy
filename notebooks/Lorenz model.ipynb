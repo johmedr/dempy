{
 "cells": [
  {
   "cell_type": "code",
   "execution_count": null,
   "id": "0bfd9eaf",
   "metadata": {},
   "outputs": [],
   "source": [
    "!pip install git+https://github.com/johmedr/dempy.git"
   ]
  },
  {
   "cell_type": "code",
   "execution_count": null,
   "id": "4c46fc23",
   "metadata": {},
   "outputs": [],
   "source": [
    "from dempy import *\n",
    "\n",
    "import numpy as np\n",
    "\n",
    "import plotly.graph_objs as go\n",
    "import plotly.express as px"
   ]
  },
  {
   "cell_type": "markdown",
   "id": "89b2fbba",
   "metadata": {},
   "source": [
    "Declare Lorenz equations with an output $v$\n",
    "\\begin{align}\n",
    "    \\dot{x} &= 18 y - 18 x\\\\ \n",
    "    \\dot{y} &= 46.94 x - 2 x z - y\\\\\n",
    "    \\dot{z} &= 4 x y - 4 z\\\\\n",
    "    v &= x + y + z\n",
    "\\end{align}"
   ]
  },
  {
   "cell_type": "code",
   "execution_count": null,
   "id": "f2d4d5c9",
   "metadata": {},
   "outputs": [],
   "source": [
    "# Prior expectation on the parameters\n",
    "pE = np.array([18., 18., 46.92, 2., 1., 2., 4., 1., 1., 1.])\n",
    "\n",
    "def lorenz(x, v, P):\n",
    "    x0 = P[0] * x[1] - P[1] * x[0]\n",
    "    x1 = P[2] * x[0] - P[3] * x[2] * x[0] - P[4] * x[1]\n",
    "    x2 = P[5] * x[0] * x[1] - P[6] * x[2]\n",
    "    \n",
    "    return np.array([x0, x1, x2]) / 128.\n",
    "\n",
    "def obs(x, v, P): \n",
    "    return np.array(x.T @ P[-3:])\n",
    "\n",
    "models = [GaussianModel(\n",
    "    fsymb=lorenz, \n",
    "    gsymb=obs, \n",
    "    n=3, \n",
    "    x=np.array([0.9,0.8,30])[:, None], # initial state\n",
    "    pE=pE, sv=1/8., sw=1/8., m=0, \n",
    "    W=np.array([[np.exp(32)] * 3]), \n",
    "    V=np.array([[np.exp(0)]]), \n",
    ")]\n",
    "\n",
    "hdm = HierarchicalGaussianModel(*models)"
   ]
  },
  {
   "cell_type": "markdown",
   "id": "20f236cd",
   "metadata": {},
   "source": [
    "Generate some data. "
   ]
  },
  {
   "cell_type": "code",
   "execution_count": null,
   "id": "d496e992",
   "metadata": {},
   "outputs": [],
   "source": [
    "nT = 1024\n",
    "gen = DEMInversion(hdm, states_embedding_order=4).generate(nT)\n",
    "\n",
    "plot_dem_generate(hdm, gen, subplots=False); \n",
    "\n",
    "# Store \"observed\" output \n",
    "y   = gen.v[:, 0, :1]"
   ]
  },
  {
   "cell_type": "markdown",
   "id": "289653cb",
   "metadata": {},
   "source": [
    "Copy model and assume we do not know the initial state. "
   ]
  },
  {
   "cell_type": "code",
   "execution_count": null,
   "id": "4fdd20b0",
   "metadata": {},
   "outputs": [],
   "source": [
    "hdm_dec = hdm.copy()\n",
    "\n",
    "hdm_dec[0].x  = np.array([[12,13,16]])\n",
    "hdm_dec[0].pC = np.diag(np.ones(pE.shape)) * np.exp(-128) # give high precision to the parameters to avoid changing them\n",
    "\n",
    "deminv = DEMInversion(hdm_dec, states_embedding_order=5)\n",
    "dec    = deminv.run(y, nE=1)"
   ]
  },
  {
   "cell_type": "code",
   "execution_count": null,
   "id": "a3bb2a59",
   "metadata": {},
   "outputs": [],
   "source": [
    "plot_dem_states(hdm, dec, gen, names={'y[0,0]': 'x+y+z', 'x[0,0]': 'x', 'x[0,1]': 'y', 'x[0,2]': 'z'}, subplots=False);"
   ]
  }
 ],
 "metadata": {
  "kernelspec": {
   "display_name": "Python 3 (ipykernel)",
   "language": "python",
   "name": "python3"
  },
  "language_info": {
   "codemirror_mode": {
    "name": "ipython",
    "version": 3
   },
   "file_extension": ".py",
   "mimetype": "text/x-python",
   "name": "python",
   "nbconvert_exporter": "python",
   "pygments_lexer": "ipython3",
   "version": "3.9.12"
  }
 },
 "nbformat": 4,
 "nbformat_minor": 5
}
