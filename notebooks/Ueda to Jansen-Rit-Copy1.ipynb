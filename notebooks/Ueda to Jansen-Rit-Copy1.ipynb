{
 "cells": [
  {
   "cell_type": "code",
   "execution_count": 1,
   "id": "9979562b",
   "metadata": {},
   "outputs": [
    {
     "name": "stdout",
     "output_type": "stream",
     "text": [
      "pyunicorn: Package netCDF4 could not be loaded. Some functionality in class Data might not be available!\n",
      "pyunicorn: Package netCDF4 could not be loaded. Some functionality in class NetCDFDictionary might not be available!\n"
     ]
    }
   ],
   "source": [
    "from torchkf import *\n",
    "import torch\n",
    "from torch import distributions as td\n",
    "from torch import nn\n",
    "import numpy as np\n",
    "import plotly.graph_objs as go\n",
    "import plotly.express as px\n",
    "import pykeos as pk\n",
    "# from easystate import EasyState"
   ]
  },
  {
   "cell_type": "code",
   "execution_count": 2,
   "id": "9386bba3",
   "metadata": {},
   "outputs": [],
   "source": [
    "class JansenRit(nn.Module): \n",
    "    \n",
    "    def __init__(self, dt=0.001, prior_scale=np.exp(-4)): \n",
    "        super().__init__()\n",
    "        \n",
    "        self.params = nn.ParameterDict(\n",
    "            {k:nn.Parameter(torch.tensor(np.log(v).astype(np.float32), requires_grad=True))\n",
    "            for k, v in dict(\n",
    "                A=3.25, \n",
    "                B=22., \n",
    "                a_inv=10., # aka Te\n",
    "                b_inv=20., # ala Ti\n",
    "                C=135., \n",
    "                C1rep=1., \n",
    "                C2rep=0.8, \n",
    "                C3rep=0.25, \n",
    "                C4rep=0.25, \n",
    "                vmax=5., \n",
    "                v0=6., \n",
    "                r=0.56,\n",
    "            ).items()\n",
    "        })\n",
    "\n",
    "        \n",
    "        self.priors = dict()\n",
    "        for k, v in self.params.items(): \n",
    "            if len(v.shape) == 0: \n",
    "#                 self.priors[k] = td.LogNormal(torch.log(torch.tensor([v.detach().item()]) - prior_scale / 2.), torch.tensor([[prior_scale]]))\n",
    "                self.priors[k] = Gaussian(torch.tensor([np.exp(v.detach().item())]), torch.tensor([[prior_scale]]))\n",
    "\n",
    "                \n",
    "        self.dt = dt\n",
    "    \n",
    "    def prior_log_prob(self): \n",
    "        prob = 0\n",
    "        for k in self.params.keys(): \n",
    "            prob += self.priors[k].log_prob(torch.exp(self.params[k].expand(self.priors[k].event_shape)))\n",
    "        return prob\n",
    "    \n",
    "    def ode(self, x): \n",
    "        x0, x1, x2, x3, x4, x5, p = [x[..., i] for i in range(x.shape[-1])]\n",
    "        A,B,a_inv,b_inv,C,C1rep,C2rep,C3rep,C4rep,vmax,v0,r = (torch.exp(self.params[k]) for k in ('A','B','a_inv','b_inv','C','C1rep','C2rep','C3rep','C4rep','vmax','v0','r'))\n",
    "        a, b = 1e3/a_inv, 1e3/b_inv # Convert to seconds\n",
    "        C1,C2,C3,C4 = [Crep * C for Crep in [C1rep,C2rep,C3rep,C4rep]]\n",
    "\n",
    "        def sigm(x): \n",
    "            return vmax / (1. + torch.exp(r * (v0 - x)))\n",
    "                                            \n",
    "        return torch.stack([\n",
    "            x3, x4, x5, \n",
    "            A * a * sigm(x1 - x2) - 2. * a * x3 - a**2. * x0,\n",
    "            A * a * (p + C2  * sigm(C1 * x0)) - 2. * a * x4 - a**2. * x1, \n",
    "            B * b * C4 * sigm(C3 * x0) - 2. * b * x5 - b ** 2. * x2\n",
    "        ], dim=-1)\n",
    "    \n",
    "    def __call__(self, x): \n",
    "        return x[..., :-1] + self.dt * self.ode(x)\n",
    "    \n",
    "class Ueda: \n",
    "    def __init__(self, dt=0.001): \n",
    "        self.dt = dt\n",
    "        \n",
    "    def ode(self, x): \n",
    "        x,y,z = [x[...,i] for i in range(x.shape[-1])]\n",
    "        return torch.stack([\n",
    "            y,\n",
    "            - x ** 3 - 0.05 * y + 7.5 * torch.sin(z),\n",
    "            torch.ones(y.shape)\n",
    "        ], dim=-1)\n",
    "\n",
    "    def __call__(self, x): \n",
    "        return x + self.dt * self.ode(x)\n",
    "    \n",
    "class Rossler: \n",
    "    def __init__(self, dt=0.001): \n",
    "        self.dt = dt\n",
    "        \n",
    "    def ode(self, x): \n",
    "        x,y,z = [x[...,i] for i in range(x.shape[-1])]\n",
    "        return torch.stack([\n",
    "            - y - z,\n",
    "            x + 0.1 * y,\n",
    "            0.1 + z * (x - 14.)\n",
    "        ], dim=-1)\n",
    "\n",
    "    def __call__(self, x): \n",
    "        return x + self.dt * self.ode(x)"
   ]
  },
  {
   "cell_type": "code",
   "execution_count": 6,
   "id": "75ac9e2c",
   "metadata": {},
   "outputs": [],
   "source": [
    "jansen_rit = JansenRit(0.001)\n",
    "ueda = Ueda(0.008)\n",
    "\n",
    "input_model = GaussianSystem(\n",
    "    state_dim=3, \n",
    "    obs_dim=1, \n",
    "    fwd_transform=LinearizedTransform(ueda), \n",
    "    obs_transform=LinearTransform(torch.tensor([[40., 0., 0.]]), torch.tensor([240.])), \n",
    "    initial_state_mean=torch.tensor([2., 2., 0.]), \n",
    "    initial_state_cov=np.exp(-128) * torch.eye(3),\n",
    "    process_noise_cov=np.exp(-32) * torch.eye(3), \n",
    "    obs_noise_cov=np.exp(2) * torch.eye(1),\n",
    ")\n",
    "\n",
    "cortical_model = GaussianSystem(\n",
    "    fwd_transform=LinearizedTransform(jansen_rit), \n",
    "    obs_transform=LinearTransform(torch.tensor([[0., 1., -1., 0., 0., 0.]])), \n",
    "    input_dim=1,\n",
    "    state_dim=6, \n",
    "    obs_dim=1, \n",
    "    obs_noise_cov=np.exp(2) * torch.eye(1), \n",
    "    process_noise_cov=np.exp(2) * torch.eye(6), \n",
    "    initial_state_mean=torch.zeros(6), \n",
    "    initial_state_cov=np.exp(-6) * torch.eye(6),\n",
    ")"
   ]
  },
  {
   "cell_type": "code",
   "execution_count": 7,
   "id": "e7e64a62",
   "metadata": {},
   "outputs": [],
   "source": [
    "state_space = HierarchicalDynamicalModel(systems=[input_model, cortical_model]) "
   ]
  },
  {
   "cell_type": "code",
   "execution_count": 8,
   "id": "2dadc7d6",
   "metadata": {},
   "outputs": [
    {
     "ename": "AttributeError",
     "evalue": "module 'torch' has no attribute 'concat'",
     "output_type": "error",
     "traceback": [
      "\u001b[0;31m---------------------------------------------------------------------------\u001b[0m",
      "\u001b[0;31mAttributeError\u001b[0m                            Traceback (most recent call last)",
      "\u001b[0;32m<ipython-input-8-c77d7f12d46f>\u001b[0m in \u001b[0;36m<module>\u001b[0;34m\u001b[0m\n\u001b[0;32m----> 1\u001b[0;31m \u001b[0mtraj\u001b[0m \u001b[0;34m=\u001b[0m \u001b[0mstate_space\u001b[0m\u001b[0;34m.\u001b[0m\u001b[0mblind_forecast\u001b[0m\u001b[0;34m(\u001b[0m\u001b[0;36m4500\u001b[0m\u001b[0;34m)\u001b[0m\u001b[0;34m\u001b[0m\u001b[0;34m\u001b[0m\u001b[0m\n\u001b[0m\u001b[1;32m      2\u001b[0m \u001b[0;31m# plot_traj(traj[2]['y'][None])\u001b[0m\u001b[0;34m\u001b[0m\u001b[0;34m\u001b[0m\u001b[0;34m\u001b[0m\u001b[0m\n\u001b[1;32m      3\u001b[0m \u001b[0mplot_traj\u001b[0m\u001b[0;34m(\u001b[0m\u001b[0mtraj\u001b[0m\u001b[0;34m[\u001b[0m\u001b[0;36m0\u001b[0m\u001b[0;34m]\u001b[0m\u001b[0;34m[\u001b[0m\u001b[0;34m'y'\u001b[0m\u001b[0;34m]\u001b[0m\u001b[0;34m[\u001b[0m\u001b[0;32mNone\u001b[0m\u001b[0;34m]\u001b[0m\u001b[0;34m)\u001b[0m\u001b[0;34m.\u001b[0m\u001b[0mshow\u001b[0m\u001b[0;34m(\u001b[0m\u001b[0;34m)\u001b[0m\u001b[0;34m\u001b[0m\u001b[0;34m\u001b[0m\u001b[0m\n\u001b[1;32m      4\u001b[0m \u001b[0mplot_traj\u001b[0m\u001b[0;34m(\u001b[0m\u001b[0mtraj\u001b[0m\u001b[0;34m[\u001b[0m\u001b[0;36m1\u001b[0m\u001b[0;34m]\u001b[0m\u001b[0;34m[\u001b[0m\u001b[0;34m'y'\u001b[0m\u001b[0;34m]\u001b[0m\u001b[0;34m[\u001b[0m\u001b[0;32mNone\u001b[0m\u001b[0;34m]\u001b[0m\u001b[0;34m)\u001b[0m\u001b[0;34m.\u001b[0m\u001b[0mshow\u001b[0m\u001b[0;34m(\u001b[0m\u001b[0;34m)\u001b[0m\u001b[0;34m\u001b[0m\u001b[0;34m\u001b[0m\u001b[0m\n",
      "\u001b[0;32m~/prog/python/torch-kf/torchkf/hierarchical_dynamical_model.py\u001b[0m in \u001b[0;36mblind_forecast\u001b[0;34m(self, n_points)\u001b[0m\n\u001b[1;32m    308\u001b[0m         \u001b[0mtrajectory_\u001b[0m \u001b[0;34m=\u001b[0m \u001b[0;34m[\u001b[0m\u001b[0;34m]\u001b[0m\u001b[0;34m\u001b[0m\u001b[0;34m\u001b[0m\u001b[0m\n\u001b[1;32m    309\u001b[0m         \u001b[0;32mfor\u001b[0m \u001b[0mi\u001b[0m\u001b[0;34m,\u001b[0m \u001b[0msystem\u001b[0m \u001b[0;32min\u001b[0m \u001b[0menumerate\u001b[0m\u001b[0;34m(\u001b[0m\u001b[0mself\u001b[0m\u001b[0;34m.\u001b[0m\u001b[0m_systems\u001b[0m\u001b[0;34m)\u001b[0m\u001b[0;34m:\u001b[0m\u001b[0;34m\u001b[0m\u001b[0;34m\u001b[0m\u001b[0m\n\u001b[0;32m--> 310\u001b[0;31m             x = Gaussian(torch.concat([t[i]['x'] for t in trajectory], dim=0),\n\u001b[0m\u001b[1;32m    311\u001b[0m                          system['process_noise_cov'].expand((n_points, system['state_dim'], system['state_dim'])))\n\u001b[1;32m    312\u001b[0m             y = Gaussian(torch.concat([t[i]['y'] for t in trajectory], dim=0),\n",
      "\u001b[0;31mAttributeError\u001b[0m: module 'torch' has no attribute 'concat'"
     ]
    }
   ],
   "source": [
    "traj = state_space.blind_forecast(4500)\n",
    "# plot_traj(traj[2]['y'][None])\n",
    "plot_traj(traj[0]['y'][None]).show()\n",
    "plot_traj(traj[1]['y'][None]).show()"
   ]
  },
  {
   "cell_type": "code",
   "execution_count": null,
   "id": "a475ef5b",
   "metadata": {},
   "outputs": [],
   "source": [
    "y = state_space.sample(4500)\n",
    "px.line(y=y[0]['y'][:, 0].detach()).show()\n",
    "px.line(y=y[1]['y'][:, 0].detach()).show()"
   ]
  },
  {
   "cell_type": "code",
   "execution_count": null,
   "id": "c5bc5d61",
   "metadata": {},
   "outputs": [],
   "source": [
    "\n",
    "input_model_ = GaussianSystem(\n",
    "    state_dim=3, \n",
    "    obs_dim=1, \n",
    "    fwd_transform=LinearizedTransform(ueda), \n",
    "    obs_transform=LinearTransform(torch.tensor([[40., 0., 0.]]), torch.tensor([240.])), \n",
    "    initial_state_mean=torch.tensor([1., 3., 0.]), \n",
    "    initial_state_cov=np.exp(0) * torch.eye(3),\n",
    "    process_noise_cov=np.exp(-32) * torch.eye(3), \n",
    "    obs_noise_cov=np.exp(2) * torch.eye(1),\n",
    ")\n",
    "\n",
    "cortical_model_ = GaussianSystem(\n",
    "    fwd_transform=LinearizedTransform(jansen_rit), \n",
    "    obs_transform=LinearTransform(torch.FloatTensor([[0., 1., -1., 0., 0., 0.]])), \n",
    "    input_dim=1,\n",
    "    state_dim=6, \n",
    "    obs_dim=1, \n",
    "    obs_noise_cov=np.exp(4) * torch.eye(1), \n",
    "    process_noise_cov=np.exp(2) * torch.eye(6), \n",
    "    initial_state_mean=torch.zeros(6), \n",
    "    initial_state_cov=np.exp(-6) * torch.eye(6),\n",
    ")\n",
    "\n",
    "dec_state_space = HierarchicalDynamicalModel(systems=[input_model_, cortical_model_]) "
   ]
  },
  {
   "cell_type": "code",
   "execution_count": null,
   "id": "dcd481cf",
   "metadata": {},
   "outputs": [],
   "source": [
    "filter_traj = dec_state_space.filter(y[1]['y'][None], backward_pass=True)"
   ]
  },
  {
   "cell_type": "code",
   "execution_count": null,
   "id": "6cf47bbd",
   "metadata": {
    "scrolled": false
   },
   "outputs": [],
   "source": [
    "fig = plot_traj(Gaussian(filter_traj[0]['x_backward'].mean[..., :2], filter_traj[0]['x_backward'].covariance_matrix[..., :2, :2]))\n",
    "for i in range(2):     \n",
    "    fig.add_scatter(y=y[0]['x'][:, i], line_color=px.colors.qualitative.T10[i], line_dash='dash', name=f'x[{i}]')\n",
    "fig.update_layout(template='plotly_white', \n",
    "        title={\n",
    "         'text':'hidden states (ueda)',\n",
    "         'x':0.5,\n",
    "         'xanchor': 'center'}, height=600, width=800)\n",
    "fig.update_yaxes(title_text='states (a.u.)', range=(-15, 15))\n",
    "fig.update_xaxes(title_text='time')\n",
    "fig.show()"
   ]
  },
  {
   "cell_type": "code",
   "execution_count": null,
   "id": "c2f5fd65",
   "metadata": {},
   "outputs": [],
   "source": [
    "r=pk.Rossler()"
   ]
  },
  {
   "cell_type": "code",
   "execution_count": null,
   "id": "c2cc624d",
   "metadata": {},
   "outputs": [],
   "source": [
    "fig = pk.SysWrapper(filter_traj[0]['x_backward'].mean[0, :, :2].detach()).plot(line_color=px.colors.qualitative.T10[1], opacity=0.7, show=False, )\n",
    "pk.SysWrapper(y[0]['x'][:, :2]).plot(fig=fig, line_color=px.colors.qualitative.T10[0], opacity=0.7, show=False)\n",
    "fig.update_layout(template='simple_white', width=800, height=600)\n",
    "fig"
   ]
  },
  {
   "cell_type": "code",
   "execution_count": null,
   "id": "67837895",
   "metadata": {},
   "outputs": [],
   "source": [
    "fig = plot_traj(filter_traj[0]['y_prior'])\n",
    "fig.add_scatter(y=y[0]['y'][:, 0].detach(), line_color=px.colors.qualitative.T10[0], line_dash='dash', name='x[0]')\n",
    "fig.update_layout(template='plotly_white', \n",
    "        title={\n",
    "         'text':'ueda output',\n",
    "         'x':0.5,\n",
    "         'xanchor': 'center'}, height=600, width=600)\n",
    "fig.update_yaxes(title_text='states (hz)', range=(0, 450))\n",
    "fig.update_xaxes(title_text='time')\n",
    "fig.show()"
   ]
  },
  {
   "cell_type": "code",
   "execution_count": null,
   "id": "6fe32829",
   "metadata": {},
   "outputs": [],
   "source": [
    "\n",
    "fig = plot_traj(Gaussian(filter_traj[1]['x_backward'].mean[..., :3], filter_traj[1]['x_backward'].covariance_matrix[..., :3, :3]))\n",
    "for i in range(3): \n",
    "    fig.add_scatter(y=y[1]['x'][:, i].detach(), line_color=px.colors.qualitative.T10[i], line_dash='dash', name=f'x[{i}]')\n",
    "fig.update_layout(template='plotly_white', \n",
    "        title={\n",
    "         'text':'causal states',\n",
    "         'x':0.5,\n",
    "         'xanchor': 'center'}, height=600, width=800)\n",
    "fig.update_yaxes(title_text='states (hz)', range=(-75, 75))\n",
    "fig.update_xaxes(title_text='time')\n",
    "fig.show()"
   ]
  },
  {
   "cell_type": "code",
   "execution_count": null,
   "id": "2d1ef196",
   "metadata": {},
   "outputs": [],
   "source": [
    "\n",
    "fig = plot_traj(filter_traj[1]['y_prior'])\n",
    "fig.add_scatter(y=y[1]['y'][:, 0].detach(), line_color=px.colors.qualitative.T10[1], line_dash='dash', name=f'x[{0}]', opacity=0.7)\n",
    "fig.update_layout(template='plotly_white', \n",
    "        title={\n",
    "         'text':'jansen-rit output',\n",
    "         'x':0.5,\n",
    "         'xanchor': 'center'}, height=600, width=800)\n",
    "fig.update_yaxes(title_text='states (hz)', range=(-70, 70))\n",
    "fig.update_xaxes(title_text='time')\n",
    "fig.show()"
   ]
  }
 ],
 "metadata": {
  "kernelspec": {
   "display_name": "Python 3",
   "language": "python",
   "name": "python3"
  },
  "language_info": {
   "codemirror_mode": {
    "name": "ipython",
    "version": 3
   },
   "file_extension": ".py",
   "mimetype": "text/x-python",
   "name": "python",
   "nbconvert_exporter": "python",
   "pygments_lexer": "ipython3",
   "version": "3.8.12"
  }
 },
 "nbformat": 4,
 "nbformat_minor": 5
}
